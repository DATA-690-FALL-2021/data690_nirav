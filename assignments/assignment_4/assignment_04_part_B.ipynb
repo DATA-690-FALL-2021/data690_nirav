{
  "nbformat": 4,
  "nbformat_minor": 0,
  "metadata": {
    "colab": {
      "name": "assignment_04_part_B.ipynb",
      "provenance": [],
      "collapsed_sections": [],
      "authorship_tag": "ABX9TyO++2S4Zf9Qzp3Hkg7s5dD9",
      "include_colab_link": true
    },
    "kernelspec": {
      "name": "python3",
      "display_name": "Python 3"
    },
    "language_info": {
      "name": "python"
    }
  },
  "cells": [
    {
      "cell_type": "markdown",
      "metadata": {
        "id": "view-in-github",
        "colab_type": "text"
      },
      "source": [
        "<a href=\"https://colab.research.google.com/github/nirav3/data690_nirav/blob/main/assignments/assignment_4/assignment_04_part_B.ipynb\" target=\"_parent\"><img src=\"https://colab.research.google.com/assets/colab-badge.svg\" alt=\"Open In Colab\"/></a>"
      ]
    },
    {
      "cell_type": "markdown",
      "metadata": {
        "id": "O_wLA9yvlcTj"
      },
      "source": [
        "\n",
        "# Assignment #4    \n",
        "* Professor: Dr. Jay Wang    \n",
        "* Student: Nirav Pancholi    \n",
        "* Date: 09/28/2021"
      ]
    },
    {
      "cell_type": "markdown",
      "metadata": {
        "id": "CasZCiEjllTA"
      },
      "source": [
        "## Part B: Using Pandas"
      ]
    },
    {
      "cell_type": "code",
      "metadata": {
        "id": "s8h_XQUalWO-"
      },
      "source": [
        "import pandas as pd"
      ],
      "execution_count": 1,
      "outputs": []
    },
    {
      "cell_type": "code",
      "metadata": {
        "colab": {
          "base_uri": "https://localhost:8080/"
        },
        "id": "YYLbitfLl9vW",
        "outputId": "755b6583-2ca8-4f0d-b820-32862f3ebc55"
      },
      "source": [
        "df = pd.read_csv(\"https://raw.githubusercontent.com/nirav3/data690_nirav/main/assignments/assignment_4/census_costs.txt\", sep=\"\\t\", skiprows=1)\n",
        "\n",
        "print(df.head(5))"
      ],
      "execution_count": 2,
      "outputs": [
        {
          "output_type": "stream",
          "name": "stdout",
          "text": [
            "  Census Year Total Population Census Cost Average Cost Per Person\n",
            "0        1790        3,929,214     $44,377              1.13 cents\n",
            "1        1800        5,308,483     $66,109              1.24 cents\n",
            "2        1810        7,239,881    $178,445              2.46 cents\n",
            "3        1820        9,633,822    $208,526              2.16 cents\n",
            "4        1830       12,866,020    $378,545              2.94 cents\n"
          ]
        }
      ]
    },
    {
      "cell_type": "code",
      "metadata": {
        "colab": {
          "base_uri": "https://localhost:8080/"
        },
        "id": "PBMT8h93m-oT",
        "outputId": "e10800fb-2bcd-4dec-a709-8b4b97cb0343"
      },
      "source": [
        "print(\"Number of Rows: \", df.shape[0])\n",
        "print(\"Number of Columns: \", df.shape[1])"
      ],
      "execution_count": 3,
      "outputs": [
        {
          "output_type": "stream",
          "name": "stdout",
          "text": [
            "Number of Rows:  23\n",
            "Number of Columns:  4\n"
          ]
        }
      ]
    },
    {
      "cell_type": "markdown",
      "metadata": {
        "id": "FvFH_vWLnlmg"
      },
      "source": [
        "## Display first 10, last 10, and random 10 rows"
      ]
    },
    {
      "cell_type": "code",
      "metadata": {
        "colab": {
          "base_uri": "https://localhost:8080/"
        },
        "id": "hcDy1oLHnTbb",
        "outputId": "3352f48b-659a-4a4a-fab4-4189d7887d95"
      },
      "source": [
        "print(df.head(10))"
      ],
      "execution_count": 4,
      "outputs": [
        {
          "output_type": "stream",
          "name": "stdout",
          "text": [
            "  Census Year Total Population Census Cost Average Cost Per Person\n",
            "0        1790        3,929,214     $44,377              1.13 cents\n",
            "1        1800        5,308,483     $66,109              1.24 cents\n",
            "2        1810        7,239,881    $178,445              2.46 cents\n",
            "3        1820        9,633,822    $208,526              2.16 cents\n",
            "4        1830       12,866,020    $378,545              2.94 cents\n",
            "5        1840       17,069,458    $833,371              4.88 cents\n",
            "6        1850       23,191,876  $1,423,351              6.14 cents\n",
            "7        1860       31,443,321  $1,969,377              6.26 cents\n",
            "8        1870       38,558,371  $3,421,198              8.87 cents\n",
            "9        1880       50,155,783  $5,790,678             11.54 cents\n"
          ]
        }
      ]
    },
    {
      "cell_type": "code",
      "metadata": {
        "colab": {
          "base_uri": "https://localhost:8080/"
        },
        "id": "9jm3fhvLnejs",
        "outputId": "77aa2ef8-862a-459d-bda3-8b072d14b6a0"
      },
      "source": [
        "print(df.tail(10))"
      ],
      "execution_count": 5,
      "outputs": [
        {
          "output_type": "stream",
          "name": "stdout",
          "text": [
            "   Census Year Total Population     Census Cost Average Cost Per Person\n",
            "13        1920      105,710,620     $25,117,000             23.76 cents\n",
            "14        1930      122,775,046     $40,156,000             32.71 cents\n",
            "15        1940      131,669,275     $67,527,000             51.29 cents\n",
            "16        1950      151,325,798     $91,462,000             60.44 cents\n",
            "17        1960      179,323,175    $127,934,000             71.34 cents\n",
            "18        1970      203,302,031    $247,653,000                   $1.22\n",
            "19        1980      226,542,199  $1,078,488,000                   $4.76\n",
            "20        1990      248,718,301  $2,492,830,000                  $10.02\n",
            "21        2000      281,421,906    $4.5 Billion                  $15.99\n",
            "22       2010*      308,745,538     $13 Billion                  $42.11\n"
          ]
        }
      ]
    },
    {
      "cell_type": "code",
      "metadata": {
        "colab": {
          "base_uri": "https://localhost:8080/"
        },
        "id": "MuQzdt8Png_1",
        "outputId": "812fb720-feec-4dee-cd02-21da6e88ea30"
      },
      "source": [
        "print(df.sample(10))"
      ],
      "execution_count": 6,
      "outputs": [
        {
          "output_type": "stream",
          "name": "stdout",
          "text": [
            "   Census Year Total Population     Census Cost Average Cost Per Person\n",
            "11        1900       76,303,387     $11,854,000             15.54 cents\n",
            "15        1940      131,669,275     $67,527,000             51.29 cents\n",
            "16        1950      151,325,798     $91,462,000             60.44 cents\n",
            "8         1870       38,558,371      $3,421,198              8.87 cents\n",
            "21        2000      281,421,906    $4.5 Billion                  $15.99\n",
            "3         1820        9,633,822        $208,526              2.16 cents\n",
            "5         1840       17,069,458        $833,371              4.88 cents\n",
            "19        1980      226,542,199  $1,078,488,000                   $4.76\n",
            "7         1860       31,443,321      $1,969,377              6.26 cents\n",
            "17        1960      179,323,175    $127,934,000             71.34 cents\n"
          ]
        }
      ]
    },
    {
      "cell_type": "markdown",
      "metadata": {
        "id": "nT3wNOmXnqva"
      },
      "source": [
        "## Find out the data types of all columns"
      ]
    },
    {
      "cell_type": "code",
      "metadata": {
        "colab": {
          "base_uri": "https://localhost:8080/"
        },
        "id": "lskV8jL1n0j0",
        "outputId": "6d4d346f-e56e-4a93-d7cc-d8498b11bb4a"
      },
      "source": [
        "df.info()"
      ],
      "execution_count": 7,
      "outputs": [
        {
          "output_type": "stream",
          "name": "stdout",
          "text": [
            "<class 'pandas.core.frame.DataFrame'>\n",
            "RangeIndex: 23 entries, 0 to 22\n",
            "Data columns (total 4 columns):\n",
            " #   Column                   Non-Null Count  Dtype \n",
            "---  ------                   --------------  ----- \n",
            " 0   Census Year              23 non-null     object\n",
            " 1   Total Population         23 non-null     object\n",
            " 2   Census Cost              23 non-null     object\n",
            " 3   Average Cost Per Person  23 non-null     object\n",
            "dtypes: object(4)\n",
            "memory usage: 864.0+ bytes\n"
          ]
        }
      ]
    },
    {
      "cell_type": "code",
      "metadata": {
        "colab": {
          "base_uri": "https://localhost:8080/"
        },
        "id": "rgW17OoTn5N7",
        "outputId": "8fc0b40d-f1b7-47f3-c1b3-0e34b4d1648c"
      },
      "source": [
        "df.dtypes"
      ],
      "execution_count": 8,
      "outputs": [
        {
          "output_type": "execute_result",
          "data": {
            "text/plain": [
              "Census Year                object\n",
              "Total Population           object\n",
              "Census Cost                object\n",
              "Average Cost Per Person    object\n",
              "dtype: object"
            ]
          },
          "metadata": {},
          "execution_count": 8
        }
      ]
    },
    {
      "cell_type": "markdown",
      "metadata": {
        "id": "ZPfzy_T7n7XO"
      },
      "source": [
        "## Find out the summary statistics of all columns"
      ]
    },
    {
      "cell_type": "code",
      "metadata": {
        "colab": {
          "base_uri": "https://localhost:8080/"
        },
        "id": "nXxeq3dmoMtF",
        "outputId": "19673454-bf76-467d-feaf-4194dcdc3cd7"
      },
      "source": [
        "print(df.describe())"
      ],
      "execution_count": 17,
      "outputs": [
        {
          "output_type": "stream",
          "name": "stdout",
          "text": [
            "       Census Year  Total Population   Census Cost  Average Cost Per Person\n",
            "count      23.0000      2.300000e+01  2.300000e+01                23.000000\n",
            "mean     1900.0000      1.039211e+08  9.445587e+08                 3.368739\n",
            "std        67.8233      9.622629e+07  2.830037e+09                 9.278241\n",
            "min      1790.0000      3.929214e+06  4.437700e+04                 0.011300\n",
            "25%      1845.0000      2.013067e+07  1.128361e+06                 0.055100\n",
            "50%      1900.0000      7.630339e+07  1.185400e+07                 0.170700\n",
            "75%      1955.0000      1.653245e+08  1.096980e+08                 0.658900\n",
            "max      2010.0000      3.087455e+08  1.300000e+10                42.110000\n"
          ]
        }
      ]
    },
    {
      "cell_type": "markdown",
      "metadata": {
        "id": "tI1hLdzkpoNM"
      },
      "source": [
        "## Cleanse the data"
      ]
    },
    {
      "cell_type": "markdown",
      "metadata": {
        "id": "8n-leYqJqCFS"
      },
      "source": [
        "## User Defined Function: \n",
        "> This function cleans string that is provided to it.   \n",
        "\n",
        "It removes; \n",
        "*              *(astrik), \n",
        "*              \",\"(comma), \n",
        "*              $(dollar sign), \n",
        "*              \" \"(white space), \n",
        "*              \"\\n\"(new line)\n",
        "  \n",
        "> It replaces \"Billion\" with 0s\n",
        "\n",
        "> It removes \"cents\" and convert to dollar value"
      ]
    },
    {
      "cell_type": "code",
      "metadata": {
        "id": "pBhfyZYaps9s"
      },
      "source": [
        "def clean_data(data):\n",
        "    data = data.replace(\"*\",\"\")\n",
        "    data = data.replace(\",\",\"\")\n",
        "    data = data.replace(\"$\",\"\")\n",
        "    data = data.replace(\" \",\"\")\n",
        "    data = data.replace(\"\\n\",\"\")\n",
        "\n",
        "    if \"Billion\" in data:\n",
        "        if \".\" in data:\n",
        "            billion_minus_1 = \"00000000\"\n",
        "            data = data.replace(\".\", \"\")\n",
        "            data = data.replace(\"Billion\", billion_minus_1)\n",
        "        else:\n",
        "            billion = \"000000000\"\n",
        "            data = data.replace(\"Billion\", billion)\n",
        "\n",
        "    return int(data)"
      ],
      "execution_count": 10,
      "outputs": []
    },
    {
      "cell_type": "code",
      "metadata": {
        "id": "wIBBKwnlwhWL"
      },
      "source": [
        "def clean_data_float(data):\n",
        "    data = data.replace(\"$\",\"\")\n",
        "    if \"cents\" in data:\n",
        "        data = data.replace(\"cents\", \"\")\n",
        "        data_float = float(data)/100\n",
        "        data = round(data_float,4)\n",
        "    return float(data)  "
      ],
      "execution_count": 11,
      "outputs": []
    },
    {
      "cell_type": "code",
      "metadata": {
        "id": "o5W2zwgSqFZd"
      },
      "source": [
        "df['Census Year'] = df['Census Year'].apply(clean_data)\n",
        "df['Total Population'] = df['Total Population'].apply(clean_data)\n",
        "df['Census Cost'] = df['Census Cost'].apply(clean_data)\n",
        "df['Average Cost Per Person'] = df['Average Cost Per Person'].apply(clean_data_float)"
      ],
      "execution_count": 12,
      "outputs": []
    },
    {
      "cell_type": "code",
      "metadata": {
        "colab": {
          "base_uri": "https://localhost:8080/"
        },
        "id": "s_9z2IkbqzOt",
        "outputId": "94e34cac-a431-41eb-cf75-8125163d5bea"
      },
      "source": [
        "df.dtypes"
      ],
      "execution_count": 13,
      "outputs": [
        {
          "output_type": "execute_result",
          "data": {
            "text/plain": [
              "Census Year                  int64\n",
              "Total Population             int64\n",
              "Census Cost                  int64\n",
              "Average Cost Per Person    float64\n",
              "dtype: object"
            ]
          },
          "metadata": {},
          "execution_count": 13
        }
      ]
    },
    {
      "cell_type": "markdown",
      "metadata": {
        "id": "5dK2Sront4Ey"
      },
      "source": [
        "## Descibe the clean dataframe"
      ]
    },
    {
      "cell_type": "code",
      "metadata": {
        "colab": {
          "base_uri": "https://localhost:8080/"
        },
        "id": "MsbKglq-t_fk",
        "outputId": "67cdd792-4934-465c-f11c-b1b4f20599b3"
      },
      "source": [
        "print(df.describe())"
      ],
      "execution_count": 18,
      "outputs": [
        {
          "output_type": "stream",
          "name": "stdout",
          "text": [
            "       Census Year  Total Population   Census Cost  Average Cost Per Person\n",
            "count      23.0000      2.300000e+01  2.300000e+01                23.000000\n",
            "mean     1900.0000      1.039211e+08  9.445587e+08                 3.368739\n",
            "std        67.8233      9.622629e+07  2.830037e+09                 9.278241\n",
            "min      1790.0000      3.929214e+06  4.437700e+04                 0.011300\n",
            "25%      1845.0000      2.013067e+07  1.128361e+06                 0.055100\n",
            "50%      1900.0000      7.630339e+07  1.185400e+07                 0.170700\n",
            "75%      1955.0000      1.653245e+08  1.096980e+08                 0.658900\n",
            "max      2010.0000      3.087455e+08  1.300000e+10                42.110000\n"
          ]
        }
      ]
    },
    {
      "cell_type": "markdown",
      "metadata": {
        "id": "neSAj2VpuY2H"
      },
      "source": [
        "## Plot the average cost per person over time."
      ]
    },
    {
      "cell_type": "code",
      "metadata": {
        "colab": {
          "base_uri": "https://localhost:8080/",
          "height": 420
        },
        "id": "bsqaUjUVuDmk",
        "outputId": "621e9103-c14e-400c-f6d5-d94524b2a112"
      },
      "source": [
        "df.plot(x='Census Year', y='Average Cost Per Person', figsize=(12,6), kind=\"bar\")"
      ],
      "execution_count": 22,
      "outputs": [
        {
          "output_type": "execute_result",
          "data": {
            "text/plain": [
              "<matplotlib.axes._subplots.AxesSubplot at 0x7f2bc7a2aa90>"
            ]
          },
          "metadata": {},
          "execution_count": 22
        },
        {
          "output_type": "display_data",
          "data": {
            "image/png": "[encoded data removed]",
            "text/plain": [
              "<Figure size 864x432 with 1 Axes>"
            ]
          },
          "metadata": {
            "needs_background": "light"
          }
        }
      ]
    },
    {
      "cell_type": "markdown",
      "metadata": {
        "id": "ii89yQcnxdtR"
      },
      "source": [
        "## Plot the scatter plot of Total Population vs Total Cost."
      ]
    },
    {
      "cell_type": "code",
      "metadata": {
        "colab": {
          "base_uri": "https://localhost:8080/",
          "height": 416
        },
        "id": "nIlQ42oDxc2D",
        "outputId": "7f40281e-998c-4628-d8cc-e2c62b5400bb"
      },
      "source": [
        "df.plot(x='Total Population', y='Census Cost', figsize=(12,6), kind=\"scatter\")"
      ],
      "execution_count": 24,
      "outputs": [
        {
          "output_type": "execute_result",
          "data": {
            "text/plain": [
              "<matplotlib.axes._subplots.AxesSubplot at 0x7f2bc790d2d0>"
            ]
          },
          "metadata": {},
          "execution_count": 24
        },
        {
          "output_type": "display_data",
          "data": {
            "image/png": "[encoded data removed]",
            "text/plain": [
              "<Figure size 864x432 with 1 Axes>"
            ]
          },
          "metadata": {
            "needs_background": "light"
          }
        }
      ]
    }
  ]
}