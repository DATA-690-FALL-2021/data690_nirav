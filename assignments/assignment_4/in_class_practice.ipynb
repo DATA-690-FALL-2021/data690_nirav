{
  "nbformat": 4,
  "nbformat_minor": 0,
  "metadata": {
    "colab": {
      "name": "in_class_practice.ipynb",
      "provenance": [],
      "collapsed_sections": [
        "nosRxPzxAmJq"
      ],
      "authorship_tag": "ABX9TyP55j6ZyoTowbsIicKur7XZ",
      "include_colab_link": true
    },
    "kernelspec": {
      "name": "python3",
      "display_name": "Python 3"
    },
    "language_info": {
      "name": "python"
    }
  },
  "cells": [
    {
      "cell_type": "markdown",
      "metadata": {
        "id": "view-in-github",
        "colab_type": "text"
      },
      "source": [
        "<a href=\"https://colab.research.google.com/github/nirav3/data690_nirav/blob/main/assignments/assignment_4/in_class_practice.ipynb\" target=\"_parent\"><img src=\"https://colab.research.google.com/assets/colab-badge.svg\" alt=\"Open In Colab\"/></a>"
      ]
    },
    {
      "cell_type": "markdown",
      "metadata": {
        "id": "Gc4DXjE3AeWp"
      },
      "source": [
        "# Assignment #4  \n",
        "  * Professor: Dr. Jay Wang  \n",
        "  * Student: Nirav Pancholi  \n",
        "  * Date: 09/23/2021"
      ]
    },
    {
      "cell_type": "markdown",
      "metadata": {
        "id": "nosRxPzxAmJq"
      },
      "source": [
        "## Read data from a file"
      ]
    },
    {
      "cell_type": "code",
      "metadata": {
        "colab": {
          "base_uri": "https://localhost:8080/"
        },
        "id": "Kh7FZIptAJdp",
        "outputId": "54ace28a-4516-4d1e-9ff0-923591b33b9d"
      },
      "source": [
        "with open(\"/content/in_text.txt\", \"r\") as f:\n",
        "    lines = f.readlines()\n",
        "\n",
        "lines"
      ],
      "execution_count": 1,
      "outputs": [
        {
          "output_type": "execute_result",
          "data": {
            "text/plain": [
              "['age: continuous.\\n',\n",
              " 'workclass: Private, Self-emp-not-inc, Self-emp-inc, Federal-gov, Local-gov, State-gov, Without-pay, Never-worked.\\n',\n",
              " 'fnlwgt: continuous.\\n',\n",
              " 'education: Bachelors, Some-college, 11th, HS-grad, Prof-school, Assoc-acdm, Assoc-voc, 9th, 7th-8th, 12th, Masters, 1st-4th, 10th, Doctorate, 5th-6th, Preschool.\\n',\n",
              " 'education-num: continuous.\\n',\n",
              " 'marital-status: Married-civ-spouse, Divorced, Never-married, Separated, Widowed, Married-spouse-absent, Married-AF-spouse.\\n',\n",
              " 'occupation: Tech-support, Craft-repair, Other-service, Sales, Exec-managerial, Prof-specialty, Handlers-cleaners, Machine-op-inspct, Adm-clerical, Farming-fishing, Transport-moving, Priv-house-serv, Protective-serv, Armed-Forces.\\n',\n",
              " 'relationship: Wife, Own-child, Husband, Not-in-family, Other-relative, Unmarried.\\n',\n",
              " 'race: White, Asian-Pac-Islander, Amer-Indian-Eskimo, Other, Black.\\n',\n",
              " 'sex: Female, Male.\\n',\n",
              " 'capital-gain: continuous.\\n',\n",
              " 'capital-loss: continuous.\\n',\n",
              " 'hours-per-week: continuous.\\n',\n",
              " 'native-country: United-States, Cambodia, England, Puerto-Rico, Canada, Germany, Outlying-US(Guam-USVI-etc), India, Japan, Greece, South, China, Cuba, Iran, Honduras, Philippines, Italy, Poland, Jamaica, Vietnam, Mexico, Portugal, Ireland, France, Dominican-Republic, Laos, Ecuador, Taiwan, Haiti, Columbia, Hungary, Guatemala, Nicaragua, Scotland, Thailand, Yugoslavia, El-Salvador, Trinadad&Tobago, Peru, Hong, Holand-Netherlands.']"
            ]
          },
          "metadata": {},
          "execution_count": 1
        }
      ]
    },
    {
      "cell_type": "code",
      "metadata": {
        "colab": {
          "base_uri": "https://localhost:8080/"
        },
        "id": "hLalG5hFDD51",
        "outputId": "eb4347b9-a11f-4ea6-9e9d-878d28485354"
      },
      "source": [
        "z = [ print(line) for line in lines]\n"
      ],
      "execution_count": 2,
      "outputs": [
        {
          "output_type": "stream",
          "name": "stdout",
          "text": [
            "age: continuous.\n",
            "\n",
            "workclass: Private, Self-emp-not-inc, Self-emp-inc, Federal-gov, Local-gov, State-gov, Without-pay, Never-worked.\n",
            "\n",
            "fnlwgt: continuous.\n",
            "\n",
            "education: Bachelors, Some-college, 11th, HS-grad, Prof-school, Assoc-acdm, Assoc-voc, 9th, 7th-8th, 12th, Masters, 1st-4th, 10th, Doctorate, 5th-6th, Preschool.\n",
            "\n",
            "education-num: continuous.\n",
            "\n",
            "marital-status: Married-civ-spouse, Divorced, Never-married, Separated, Widowed, Married-spouse-absent, Married-AF-spouse.\n",
            "\n",
            "occupation: Tech-support, Craft-repair, Other-service, Sales, Exec-managerial, Prof-specialty, Handlers-cleaners, Machine-op-inspct, Adm-clerical, Farming-fishing, Transport-moving, Priv-house-serv, Protective-serv, Armed-Forces.\n",
            "\n",
            "relationship: Wife, Own-child, Husband, Not-in-family, Other-relative, Unmarried.\n",
            "\n",
            "race: White, Asian-Pac-Islander, Amer-Indian-Eskimo, Other, Black.\n",
            "\n",
            "sex: Female, Male.\n",
            "\n",
            "capital-gain: continuous.\n",
            "\n",
            "capital-loss: continuous.\n",
            "\n",
            "hours-per-week: continuous.\n",
            "\n",
            "native-country: United-States, Cambodia, England, Puerto-Rico, Canada, Germany, Outlying-US(Guam-USVI-etc), India, Japan, Greece, South, China, Cuba, Iran, Honduras, Philippines, Italy, Poland, Jamaica, Vietnam, Mexico, Portugal, Ireland, France, Dominican-Republic, Laos, Ecuador, Taiwan, Haiti, Columbia, Hungary, Guatemala, Nicaragua, Scotland, Thailand, Yugoslavia, El-Salvador, Trinadad&Tobago, Peru, Hong, Holand-Netherlands.\n"
          ]
        }
      ]
    },
    {
      "cell_type": "code",
      "metadata": {
        "colab": {
          "base_uri": "https://localhost:8080/"
        },
        "id": "0hQGYiqBDusw",
        "outputId": "d5def9e6-1e21-4388-ba21-63547f72f80c"
      },
      "source": [
        "columns_dict = {}\n",
        "\n",
        "for line in lines:\n",
        "    splits = line.split(\":\")\n",
        "    if splits[0] not in columns_dict.keys():\n",
        "        columns_dict[splits[0]] = splits[1]\n",
        "\n",
        "columns_dict"
      ],
      "execution_count": 4,
      "outputs": [
        {
          "output_type": "execute_result",
          "data": {
            "text/plain": [
              "{'age': ' continuous.\\n',\n",
              " 'capital-gain': ' continuous.\\n',\n",
              " 'capital-loss': ' continuous.\\n',\n",
              " 'education': ' Bachelors, Some-college, 11th, HS-grad, Prof-school, Assoc-acdm, Assoc-voc, 9th, 7th-8th, 12th, Masters, 1st-4th, 10th, Doctorate, 5th-6th, Preschool.\\n',\n",
              " 'education-num': ' continuous.\\n',\n",
              " 'fnlwgt': ' continuous.\\n',\n",
              " 'hours-per-week': ' continuous.\\n',\n",
              " 'marital-status': ' Married-civ-spouse, Divorced, Never-married, Separated, Widowed, Married-spouse-absent, Married-AF-spouse.\\n',\n",
              " 'native-country': ' United-States, Cambodia, England, Puerto-Rico, Canada, Germany, Outlying-US(Guam-USVI-etc), India, Japan, Greece, South, China, Cuba, Iran, Honduras, Philippines, Italy, Poland, Jamaica, Vietnam, Mexico, Portugal, Ireland, France, Dominican-Republic, Laos, Ecuador, Taiwan, Haiti, Columbia, Hungary, Guatemala, Nicaragua, Scotland, Thailand, Yugoslavia, El-Salvador, Trinadad&Tobago, Peru, Hong, Holand-Netherlands.',\n",
              " 'occupation': ' Tech-support, Craft-repair, Other-service, Sales, Exec-managerial, Prof-specialty, Handlers-cleaners, Machine-op-inspct, Adm-clerical, Farming-fishing, Transport-moving, Priv-house-serv, Protective-serv, Armed-Forces.\\n',\n",
              " 'race': ' White, Asian-Pac-Islander, Amer-Indian-Eskimo, Other, Black.\\n',\n",
              " 'relationship': ' Wife, Own-child, Husband, Not-in-family, Other-relative, Unmarried.\\n',\n",
              " 'sex': ' Female, Male.\\n',\n",
              " 'workclass': ' Private, Self-emp-not-inc, Self-emp-inc, Federal-gov, Local-gov, State-gov, Without-pay, Never-worked.\\n'}"
            ]
          },
          "metadata": {},
          "execution_count": 4
        }
      ]
    },
    {
      "cell_type": "code",
      "metadata": {
        "id": "E5ixMAB3EzEx"
      },
      "source": [
        "columns = list(columns_dict.keys())\n",
        "\n",
        "with open(\"/content/out_text.txt\", \"w\") as f:\n",
        "    for i in range(0, len(columns)):\n",
        "        f.write(columns[i])\n",
        "        if (i < len(columns) -1):\n",
        "            f.write(\"\\n\")"
      ],
      "execution_count": 7,
      "outputs": []
    },
    {
      "cell_type": "markdown",
      "metadata": {
        "id": "sgtYKCGkM1cn"
      },
      "source": [
        "## Using Pandas"
      ]
    },
    {
      "cell_type": "code",
      "metadata": {
        "id": "b8FT_XhwG_IG"
      },
      "source": [
        ""
      ],
      "execution_count": null,
      "outputs": []
    }
  ]
}