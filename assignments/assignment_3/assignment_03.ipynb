{
  "nbformat": 4,
  "nbformat_minor": 0,
  "metadata": {
    "colab": {
      "name": "assignment_03.ipynb",
      "provenance": [],
      "authorship_tag": "ABX9TyPMtV+hR25MSanBFc4edYmU",
      "include_colab_link": true
    },
    "kernelspec": {
      "name": "python3",
      "display_name": "Python 3"
    },
    "language_info": {
      "name": "python"
    }
  },
  "cells": [
    {
      "cell_type": "markdown",
      "metadata": {
        "id": "view-in-github",
        "colab_type": "text"
      },
      "source": [
        "<a href=\"https://colab.research.google.com/github/nirav3/data690_nirav/blob/main/assignments/assignment_3/assignment_03.ipynb\" target=\"_parent\"><img src=\"https://colab.research.google.com/assets/colab-badge.svg\" alt=\"Open In Colab\"/></a>"
      ]
    },
    {
      "cell_type": "markdown",
      "metadata": {
        "id": "amCIXNxcysul"
      },
      "source": [
        "# Assignment #3  \n",
        "  * Professor: Dr. Jay Wang  \n",
        "  * Student: Nirav Pancholi  \n",
        "  * Date: 09/18/2021"
      ]
    },
    {
      "cell_type": "code",
      "metadata": {
        "id": "DfOfA3U23UBy"
      },
      "source": [
        "## import libraries\n",
        "from random import randint\n",
        "from random import seed"
      ],
      "execution_count": 6,
      "outputs": []
    },
    {
      "cell_type": "code",
      "metadata": {
        "colab": {
          "base_uri": "https://localhost:8080/"
        },
        "id": "dtMqtnp0yH-2",
        "outputId": "78743e08-2194-486e-d458-24c802cd2afc"
      },
      "source": [
        "row, col = (10,10)\n",
        "matrix = []\n",
        "\n",
        "seed(1)\n",
        "\n",
        "for i in range(col):\n",
        "  row_array = []\n",
        "  \n",
        "  for j in range(row):\n",
        "    random_num = randint(0,9)\n",
        "    row_array.append(random_num)\n",
        "    \n",
        "    if (j == col-1):\n",
        "      print(random_num, end='')\n",
        "    else:\n",
        "      print(random_num, end=' ')\n",
        "\n",
        "  matrix.append(row_array)\n",
        "  print(\"\")"
      ],
      "execution_count": 16,
      "outputs": [
        {
          "output_type": "stream",
          "name": "stdout",
          "text": [
            "2 9 1 4 1 7 7 7 6 3\n",
            "1 7 0 6 6 9 0 7 4 3\n",
            "9 1 5 0 0 0 8 0 6 3\n",
            "6 0 8 3 7 7 8 3 5 3\n",
            "3 7 4 0 6 8 1 2 4 1\n",
            "5 8 6 8 3 4 4 9 7 8\n",
            "6 9 0 7 3 6 6 2 5 8\n",
            "5 1 7 8 1 2 8 6 5 7\n",
            "0 7 0 4 9 9 9 6 2 2\n",
            "8 3 0 3 8 8 3 6 8 5\n"
          ]
        }
      ]
    },
    {
      "cell_type": "code",
      "metadata": {
        "colab": {
          "base_uri": "https://localhost:8080/"
        },
        "id": "jEPjObWl_eo9",
        "outputId": "e6fd18a8-ddbc-439f-df88-f33745ceca6c"
      },
      "source": [
        "for i in range(col):\n",
        "  print(\"\")\n",
        "  for j in range(row):\n",
        "    if ((matrix[i][j]%2) != 0):\n",
        "      print(\"@\", end=' ')\n",
        "    else:\n",
        "      print(matrix[i][j], end=' ')"
      ],
      "execution_count": 19,
      "outputs": [
        {
          "output_type": "stream",
          "name": "stdout",
          "text": [
            "\n",
            "2 @ @ 4 @ @ @ @ 6 @ \n",
            "@ @ 0 6 6 @ 0 @ 4 @ \n",
            "@ @ @ 0 0 0 8 0 6 @ \n",
            "6 0 8 @ @ @ 8 @ @ @ \n",
            "@ @ 4 0 6 8 @ 2 4 @ \n",
            "@ 8 6 8 @ 4 4 @ @ 8 \n",
            "6 @ 0 @ @ 6 6 2 @ 8 \n",
            "@ @ @ 8 @ 2 8 6 @ @ \n",
            "0 @ 0 4 @ @ @ 6 2 2 \n",
            "8 @ 0 @ 8 8 @ 6 8 @ "
          ]
        }
      ]
    }
  ]
}