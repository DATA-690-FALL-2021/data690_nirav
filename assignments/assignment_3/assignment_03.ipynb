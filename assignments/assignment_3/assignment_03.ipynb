{
  "nbformat": 4,
  "nbformat_minor": 0,
  "metadata": {
    "colab": {
      "name": "assignment_03.ipynb",
      "provenance": [],
      "collapsed_sections": [],
      "authorship_tag": "ABX9TyPz6ymvghbySDaI6+B5rrlC",
      "include_colab_link": true
    },
    "kernelspec": {
      "name": "python3",
      "display_name": "Python 3"
    },
    "language_info": {
      "name": "python"
    }
  },
  "cells": [
    {
      "cell_type": "markdown",
      "metadata": {
        "id": "view-in-github",
        "colab_type": "text"
      },
      "source": [
        "<a href=\"https://colab.research.google.com/github/nirav3/data690_nirav/blob/main/assignments/assignment_3/assignment_03.ipynb\" target=\"_parent\"><img src=\"https://colab.research.google.com/assets/colab-badge.svg\" alt=\"Open In Colab\"/></a>"
      ]
    },
    {
      "cell_type": "markdown",
      "metadata": {
        "id": "amCIXNxcysul"
      },
      "source": [
        "# Assignment #3  \n",
        "  * Professor: Dr. Jay Wang  \n",
        "  * Student: Nirav Pancholi  \n",
        "  * Date: 09/18/2021"
      ]
    },
    {
      "cell_type": "code",
      "metadata": {
        "id": "DfOfA3U23UBy"
      },
      "source": [
        "## import libraries\n",
        "from random import randint\n",
        "from random import seed"
      ],
      "execution_count": 3,
      "outputs": []
    },
    {
      "cell_type": "markdown",
      "metadata": {
        "id": "ppJrw5DXei-t"
      },
      "source": [
        "## Problem #1\n",
        "> Print them in a 10 by 10 matrix neatly arranged like the following (one space between each number)\n",
        "\n",
        "```\n",
        "5 1 5 6 2 7 8 6 4 2 \n",
        "2 3 7 0 6 9 2 4 2 8 \n",
        "0 0 8 6 4 1 7 2 7 6 \n",
        "0 1 9 0 0 8 5 8 6 8 \n",
        "4 1 0 5 5 7 4 6 4 4 \n",
        "6 0 2 0 1 9 8 2 3 9 \n",
        "4 0 4 8 1 7 6 6 2 1 \n",
        "1 7 6 8 5 4 1 9 6 7 \n",
        "6 4 7 9 9 3 8 2 6 1 \n",
        "9 0 6 4 0 1 0 6 9 9 \n",
        "```"
      ]
    },
    {
      "cell_type": "code",
      "metadata": {
        "colab": {
          "base_uri": "https://localhost:8080/"
        },
        "id": "dtMqtnp0yH-2",
        "outputId": "2e4471c5-5ba1-4895-e36e-0bc4a9d86946"
      },
      "source": [
        "# Configurable Row and Column values\n",
        "row, col = (10,10)\n",
        "matrix = []\n",
        "\n",
        "## Seed to hold randomness of numbers\n",
        "seed(1)\n",
        "\n",
        "for i in range(row):\n",
        "  row_array = []\n",
        "  \n",
        "  for j in range(col):\n",
        "    random_num = randint(0,9)\n",
        "    row_array.append(random_num)\n",
        "    \n",
        "    if (j == col-1):\n",
        "      print(random_num, end='')\n",
        "    else:\n",
        "      print(random_num, end=' ')\n",
        "\n",
        "  matrix.append(row_array)\n",
        "  print(\"\")"
      ],
      "execution_count": 73,
      "outputs": [
        {
          "output_type": "stream",
          "name": "stdout",
          "text": [
            "2 9 1 4 1 7 7 7 6 3\n",
            "1 7 0 6 6 9 0 7 4 3\n",
            "9 1 5 0 0 0 8 0 6 3\n",
            "6 0 8 3 7 7 8 3 5 3\n",
            "3 7 4 0 6 8 1 2 4 1\n",
            "5 8 6 8 3 4 4 9 7 8\n",
            "6 9 0 7 3 6 6 2 5 8\n",
            "5 1 7 8 1 2 8 6 5 7\n",
            "0 7 0 4 9 9 9 6 2 2\n",
            "8 3 0 3 8 8 3 6 8 5\n"
          ]
        }
      ]
    },
    {
      "cell_type": "markdown",
      "metadata": {
        "id": "SZCFnSnFeft0"
      },
      "source": [
        "## Problem #2\n",
        "> If the random number is an odd number, print \"@\" instead. like the following:\n",
        "\n",
        "```\n",
        "@ @ 0 2 6 @ 8 8 0 0 \n",
        "@ 4 @ 4 4 @ 2 @ 2 2 \n",
        "@ 6 8 @ @ @ 0 @ 0 @ \n",
        "2 6 @ 0 @ 2 @ @ 0 @ \n",
        "8 4 @ @ @ 0 @ @ 6 @ \n",
        "@ @ 4 6 @ @ @ 2 @ 2 \n",
        "@ @ @ @ 4 @ @ 2 2 0 \n",
        "@ 6 @ 0 0 8 @ 2 0 @ \n",
        "8 8 @ @ @ 0 0 @ 4 6 \n",
        "@ 2 2 6 8 2 @ @ @ 6\n",
        "```"
      ]
    },
    {
      "cell_type": "code",
      "metadata": {
        "id": "W2rtw0L3bV8t"
      },
      "source": [
        "## This function prints given string instead of ODD numbers\n",
        "def replace_odd_numbers(number, stringToBeReplacedWith):\n",
        "  if ((number%2) != 0):\n",
        "    print(stringToBeReplacedWith, end=' ')\n",
        "  else:\n",
        "    print(matrix[i][j], end=' ')"
      ],
      "execution_count": 74,
      "outputs": []
    },
    {
      "cell_type": "code",
      "metadata": {
        "colab": {
          "base_uri": "https://localhost:8080/"
        },
        "id": "jEPjObWl_eo9",
        "outputId": "4167308b-df50-463d-cb8c-999387e524af"
      },
      "source": [
        "## configurable string which can be changed with ODD numbers\n",
        "stringToBeReplacedWith = \"@\"\n",
        "\n",
        "for i in range(row):\n",
        "  print(\"\")\n",
        "  for j in range(col):\n",
        "    replace_odd_numbers(matrix[i][j], stringToBeReplacedWith)"
      ],
      "execution_count": 75,
      "outputs": [
        {
          "output_type": "stream",
          "name": "stdout",
          "text": [
            "\n",
            "2 @ @ 4 @ @ @ @ 6 @ \n",
            "@ @ 0 6 6 @ 0 @ 4 @ \n",
            "@ @ @ 0 0 0 8 0 6 @ \n",
            "6 0 8 @ @ @ 8 @ @ @ \n",
            "@ @ 4 0 6 8 @ 2 4 @ \n",
            "@ 8 6 8 @ 4 4 @ @ 8 \n",
            "6 @ 0 @ @ 6 6 2 @ 8 \n",
            "@ @ @ 8 @ 2 8 6 @ @ \n",
            "0 @ 0 4 @ @ @ 6 2 2 \n",
            "8 @ 0 @ 8 8 @ 6 8 @ "
          ]
        }
      ]
    },
    {
      "cell_type": "markdown",
      "metadata": {
        "id": "cDlZzwBsesSj"
      },
      "source": [
        "## Problem #3\n",
        "> Calculate and Print the total of each row like the following (use \"*\" to separate the total from the numbers)\n",
        "\n",
        "```\n",
        "7 6 5 8 8 0 7 6 0 1 * 48 \n",
        "8 5 7 9 8 0 9 3 0 1 * 50 \n",
        "4 0 3 5 3 9 0 8 3 9 * 44 \n",
        "3 5 5 3 8 3 4 3 2 2 * 38 \n",
        "7 7 4 1 2 7 2 3 0 8 * 41 \n",
        "3 9 7 7 0 9 4 0 6 5 * 50 \n",
        "1 9 7 1 3 0 0 1 4 5 * 31 \n",
        "4 4 0 6 7 4 5 6 9 3 * 48 \n",
        "2 1 1 4 2 0 1 2 9 2 * 24\n",
        "2 1 6 7 7 8 1 0 0 4 * 36\n",
        "```"
      ]
    },
    {
      "cell_type": "code",
      "metadata": {
        "id": "f4NohHDXfib8"
      },
      "source": [
        "## This function adds given array and\n",
        "## prints elements with given space\n",
        "def add_row_and_print(arr, space):\n",
        "  total = 0\n",
        "  for i in range(len(arr)):\n",
        "    total += arr[i]\n",
        "    print(arr[i], end=space)\n",
        "  print(\"*\", end=space)\n",
        "  print(total)"
      ],
      "execution_count": 76,
      "outputs": []
    },
    {
      "cell_type": "code",
      "metadata": {
        "colab": {
          "base_uri": "https://localhost:8080/"
        },
        "id": "0Bnqr3EMiXNB",
        "outputId": "6764fc5a-ebb3-455d-e888-dcd1719ff062"
      },
      "source": [
        "for i in range(row):\n",
        "  add_row_and_print(matrix[i], ' ')"
      ],
      "execution_count": 77,
      "outputs": [
        {
          "output_type": "stream",
          "name": "stdout",
          "text": [
            "2 9 1 4 1 7 7 7 6 3 * 47\n",
            "1 7 0 6 6 9 0 7 4 3 * 43\n",
            "9 1 5 0 0 0 8 0 6 3 * 32\n",
            "6 0 8 3 7 7 8 3 5 3 * 50\n",
            "3 7 4 0 6 8 1 2 4 1 * 36\n",
            "5 8 6 8 3 4 4 9 7 8 * 62\n",
            "6 9 0 7 3 6 6 2 5 8 * 52\n",
            "5 1 7 8 1 2 8 6 5 7 * 50\n",
            "0 7 0 4 9 9 9 6 2 2 * 48\n",
            "8 3 0 3 8 8 3 6 8 5 * 52\n"
          ]
        }
      ]
    },
    {
      "cell_type": "markdown",
      "metadata": {
        "id": "TzhGFhrnjN4L"
      },
      "source": [
        "## Optional Problem #4\n",
        "> Surround the matrix with asterisks (*) like the following:\n",
        "\n",
        "```\n",
        "***********************\n",
        "* 5 1 5 6 2 7 8 6 4 2 *\n",
        "* 2 3 7 0 6 9 2 4 2 8 *\n",
        "* 0 0 8 6 4 1 7 2 7 6 *\n",
        "* 0 1 9 0 0 8 5 8 6 8 *\n",
        "* 4 1 0 5 5 7 4 6 4 4 *\n",
        "* 6 0 2 0 1 9 8 2 3 9 *\n",
        "* 4 0 4 8 1 7 6 6 2 1 *\n",
        "* 1 7 6 8 5 4 1 9 6 7 *\n",
        "* 6 4 7 9 9 3 8 2 6 1 *\n",
        "* 9 0 6 4 0 1 0 6 9 9 *\n",
        "***********************\n",
        "```"
      ]
    },
    {
      "cell_type": "code",
      "metadata": {
        "colab": {
          "base_uri": "https://localhost:8080/"
        },
        "id": "y0YqM3swjWow",
        "outputId": "4335fab3-b185-49b6-dff7-9fd4c242956d"
      },
      "source": [
        "for i in range(row+2):\n",
        "  print(\"\")\n",
        "  for j in range(col+1):\n",
        "    if (i == 0 or i == row+1):\n",
        "      if (j == col):\n",
        "        print(\"***\", end='')\n",
        "      else:\n",
        "        print(\"**\", end='')\n",
        "    elif (j == 0):\n",
        "      print(\"*\",end=' ')\n",
        "    elif (j == col):\n",
        "      print(matrix[i-1][j-1], end=' *')\n",
        "    else:\n",
        "      print(matrix[i-1][j-1], end=' ')"
      ],
      "execution_count": 78,
      "outputs": [
        {
          "output_type": "stream",
          "name": "stdout",
          "text": [
            "\n",
            "***********************\n",
            "* 2 9 1 4 1 7 7 7 6 3 *\n",
            "* 1 7 0 6 6 9 0 7 4 3 *\n",
            "* 9 1 5 0 0 0 8 0 6 3 *\n",
            "* 6 0 8 3 7 7 8 3 5 3 *\n",
            "* 3 7 4 0 6 8 1 2 4 1 *\n",
            "* 5 8 6 8 3 4 4 9 7 8 *\n",
            "* 6 9 0 7 3 6 6 2 5 8 *\n",
            "* 5 1 7 8 1 2 8 6 5 7 *\n",
            "* 0 7 0 4 9 9 9 6 2 2 *\n",
            "* 8 3 0 3 8 8 3 6 8 5 *\n",
            "***********************"
          ]
        }
      ]
    },
    {
      "cell_type": "markdown",
      "metadata": {
        "id": "pr1GG1LmyK21"
      },
      "source": [
        "## Optional Problem #5\n",
        "> Calculate and Print the total of each row and column like the following\n",
        "\n",
        "```\n",
        "6  8  0  2  3  4  2  2  4  4  * 35 \n",
        "3  7  5  8  9  7  4  8  6  0  * 57 \n",
        "4  7  7  4  3  8  2  1  7  0  * 43 \n",
        "7  8  1  3  0  8  4  7  9  2  * 49 \n",
        "0  0  2  4  5  6  6  7  1  4  * 35 \n",
        "3  7  0  0  7  3  3  2  1  6  * 32 \n",
        "2  5  6  6  5  6  5  5  4  7  * 51 \n",
        "9  2  7  5  5  9  2  4  7  9  * 59 \n",
        "0  0  4  7  6  3  9  6  6  7  * 48 \n",
        "0  1  6  5  2  7  4  1  6  4  * 36 \n",
        "*  *  *  *  *  *  *  *  *  *  \n",
        "34 45 38 44 45 61 41 43 51 43 \n",
        "```"
      ]
    },
    {
      "cell_type": "code",
      "metadata": {
        "id": "MH5c4C8mzd6i"
      },
      "source": [
        "## This function loops through the matrix\n",
        "## and adds all the values in column\n",
        "## and returns a list of sum of individual columns\n",
        "def add_col(matrix):\n",
        "  column_add_array = []\n",
        "  for j in range(col):\n",
        "    total = 0\n",
        "    for i in range(row):\n",
        "      total += matrix[i][j]\n",
        "    column_add_array.append(total)\n",
        "  return column_add_array\n"
      ],
      "execution_count": 79,
      "outputs": []
    },
    {
      "cell_type": "code",
      "metadata": {
        "colab": {
          "base_uri": "https://localhost:8080/"
        },
        "id": "ohMX_VLuyeTN",
        "outputId": "698b4a20-9268-496d-fc48-676bb5c5fc16"
      },
      "source": [
        "col_total_array = add_col(matrix)\n",
        "\n",
        "## configurable distance between two elements\n",
        "space = '  '\n",
        "\n",
        "for i in range(row+2):\n",
        "  if (i == row):\n",
        "    for j in range(col):\n",
        "      print(\"*\", end=space)\n",
        "      if (j == col-1):\n",
        "        print(\"\")\n",
        "  elif (i == row+1):\n",
        "    for j in range(col):\n",
        "      print(col_total_array[j], end=' ')\n",
        "  else:\n",
        "    add_row_and_print(matrix[i], space)\n"
      ],
      "execution_count": 80,
      "outputs": [
        {
          "output_type": "stream",
          "name": "stdout",
          "text": [
            "2  9  1  4  1  7  7  7  6  3  *  47\n",
            "1  7  0  6  6  9  0  7  4  3  *  43\n",
            "9  1  5  0  0  0  8  0  6  3  *  32\n",
            "6  0  8  3  7  7  8  3  5  3  *  50\n",
            "3  7  4  0  6  8  1  2  4  1  *  36\n",
            "5  8  6  8  3  4  4  9  7  8  *  62\n",
            "6  9  0  7  3  6  6  2  5  8  *  52\n",
            "5  1  7  8  1  2  8  6  5  7  *  50\n",
            "0  7  0  4  9  9  9  6  2  2  *  48\n",
            "8  3  0  3  8  8  3  6  8  5  *  52\n",
            "*  *  *  *  *  *  *  *  *  *  \n",
            "45 52 31 43 44 60 54 48 52 43 "
          ]
        }
      ]
    }
  ]
}