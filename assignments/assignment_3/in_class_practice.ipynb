{
  "nbformat": 4,
  "nbformat_minor": 0,
  "metadata": {
    "colab": {
      "name": "in_class_practice.ipynb",
      "provenance": [],
      "collapsed_sections": [],
      "authorship_tag": "ABX9TyOuMxZB51IAH5DOWOCmL9nM",
      "include_colab_link": true
    },
    "kernelspec": {
      "name": "python3",
      "display_name": "Python 3"
    },
    "language_info": {
      "name": "python"
    }
  },
  "cells": [
    {
      "cell_type": "markdown",
      "metadata": {
        "id": "view-in-github",
        "colab_type": "text"
      },
      "source": [
        "<a href=\"https://colab.research.google.com/github/nirav3/data690_nirav/blob/main/assignments/assignment_3/in_class_practice.ipynb\" target=\"_parent\"><img src=\"https://colab.research.google.com/assets/colab-badge.svg\" alt=\"Open In Colab\"/></a>"
      ]
    },
    {
      "cell_type": "markdown",
      "metadata": {
        "id": "9yLPz41T8T-6"
      },
      "source": [
        "\n",
        "# Assignment #3  \n",
        "  * Professor: Dr. Jay Wang  \n",
        "  * Student: Nirav Pancholi  \n",
        "  * Date: 09/11/2021"
      ]
    },
    {
      "cell_type": "markdown",
      "metadata": {
        "id": "9xF_An4r9eaL"
      },
      "source": [
        "## List Comprehension"
      ]
    },
    {
      "cell_type": "code",
      "metadata": {
        "colab": {
          "base_uri": "https://localhost:8080/"
        },
        "id": "tB4FNYDV8Sht",
        "outputId": "79db5c3e-4751-4daa-e8ad-4d1d86ad3601"
      },
      "source": [
        "x = [1,-2,4,7,2,10]\n",
        "\n",
        "## Longer method (using for loop)\n",
        "y = []\n",
        "\n",
        "for i in x:\n",
        "  temp = i + 10\n",
        "  y.append(temp)\n",
        "\n",
        "print(\"using for loop:\", y)\n",
        "\n",
        "## Shorter method\n",
        "z = [(i+10) for i in x]\n",
        "\n",
        "print(\"using list comprehension: \", z)"
      ],
      "execution_count": 5,
      "outputs": [
        {
          "output_type": "stream",
          "name": "stdout",
          "text": [
            "using for loop: [11, 8, 14, 17, 12, 20]\n",
            "using list comprehension:  [11, 8, 14, 17, 12, 20]\n"
          ]
        }
      ]
    },
    {
      "cell_type": "markdown",
      "metadata": {
        "id": "S78aBz_4-4NB"
      },
      "source": [
        "## User Defined Functions"
      ]
    },
    {
      "cell_type": "code",
      "metadata": {
        "colab": {
          "base_uri": "https://localhost:8080/"
        },
        "id": "i-1JtDkl-9V4",
        "outputId": "b3f88df9-5ee9-4ee3-cf40-d7803ae57307"
      },
      "source": [
        "def addition(x,y):\n",
        "  return x+y\n",
        "\n",
        "y = addition(3,5)\n",
        "\n",
        "print(y)\n",
        "\n",
        "## using lamda functions\n",
        "z = (lambda x,y:x+y)(3,5)\n",
        "print(z)"
      ],
      "execution_count": 8,
      "outputs": [
        {
          "output_type": "stream",
          "name": "stdout",
          "text": [
            "8\n",
            "8\n"
          ]
        }
      ]
    }
  ]
}