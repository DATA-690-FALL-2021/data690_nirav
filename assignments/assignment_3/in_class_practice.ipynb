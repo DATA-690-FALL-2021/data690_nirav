{
  "nbformat": 4,
  "nbformat_minor": 0,
  "metadata": {
    "colab": {
      "name": "in_class_practice.ipynb",
      "provenance": [],
      "collapsed_sections": [],
      "authorship_tag": "ABX9TyM5d5FmC1vZRN/34CZddzEz",
      "include_colab_link": true
    },
    "kernelspec": {
      "name": "python3",
      "display_name": "Python 3"
    },
    "language_info": {
      "name": "python"
    }
  },
  "cells": [
    {
      "cell_type": "markdown",
      "metadata": {
        "id": "view-in-github",
        "colab_type": "text"
      },
      "source": [
        "<a href=\"https://colab.research.google.com/github/nirav3/data690_nirav/blob/main/assignments/assignment_3/in_class_practice.ipynb\" target=\"_parent\"><img src=\"https://colab.research.google.com/assets/colab-badge.svg\" alt=\"Open In Colab\"/></a>"
      ]
    },
    {
      "cell_type": "markdown",
      "metadata": {
        "id": "9yLPz41T8T-6"
      },
      "source": [
        "\n",
        "# Assignment #3  \n",
        "  * Professor: Dr. Jay Wang  \n",
        "  * Student: Nirav Pancholi  \n",
        "  * Date: 09/11/2021"
      ]
    },
    {
      "cell_type": "markdown",
      "metadata": {
        "id": "9xF_An4r9eaL"
      },
      "source": [
        "## List Comprehension"
      ]
    },
    {
      "cell_type": "code",
      "metadata": {
        "colab": {
          "base_uri": "https://localhost:8080/"
        },
        "id": "tB4FNYDV8Sht",
        "outputId": "79db5c3e-4751-4daa-e8ad-4d1d86ad3601"
      },
      "source": [
        "x = [1,-2,4,7,2,10]\n",
        "\n",
        "## Longer method (using for loop)\n",
        "y = []\n",
        "\n",
        "for i in x:\n",
        "  temp = i + 10\n",
        "  y.append(temp)\n",
        "\n",
        "print(\"using for loop:\", y)\n",
        "\n",
        "## Shorter method\n",
        "z = [(i+10) for i in x]\n",
        "\n",
        "print(\"using list comprehension: \", z)"
      ],
      "execution_count": 5,
      "outputs": [
        {
          "output_type": "stream",
          "name": "stdout",
          "text": [
            "using for loop: [11, 8, 14, 17, 12, 20]\n",
            "using list comprehension:  [11, 8, 14, 17, 12, 20]\n"
          ]
        }
      ]
    },
    {
      "cell_type": "markdown",
      "metadata": {
        "id": "S78aBz_4-4NB"
      },
      "source": [
        "## User Defined Functions"
      ]
    },
    {
      "cell_type": "code",
      "metadata": {
        "colab": {
          "base_uri": "https://localhost:8080/"
        },
        "id": "i-1JtDkl-9V4",
        "outputId": "b3f88df9-5ee9-4ee3-cf40-d7803ae57307"
      },
      "source": [
        "def addition(x,y):\n",
        "  return x+y\n",
        "\n",
        "y = addition(3,5)\n",
        "\n",
        "print(y)\n",
        "\n",
        "## using lamda functions\n",
        "z = (lambda x,y:x+y)(3,5)\n",
        "print(z)"
      ],
      "execution_count": 8,
      "outputs": [
        {
          "output_type": "stream",
          "name": "stdout",
          "text": [
            "8\n",
            "8\n"
          ]
        }
      ]
    },
    {
      "cell_type": "markdown",
      "metadata": {
        "id": "eL9yIO7YCYY5"
      },
      "source": [
        "## Data Processing"
      ]
    },
    {
      "cell_type": "code",
      "metadata": {
        "id": "5UgYn3qyCixJ"
      },
      "source": [
        "header_list = '''age: continuous. \n",
        "workclass: Private, Self-emp-not-inc, Self-emp-inc, Federal-gov, Local-gov, State-gov, Without-pay, Never-worked. \n",
        "fnlwgt: continuous. \n",
        "education: Bachelors, Some-college, 11th, HS-grad, Prof-school, Assoc-acdm, Assoc-voc, 9th, 7th-8th, 12th, Masters, 1st-4th, 10th, Doctorate, 5th-6th, Preschool. \n",
        "education-num: continuous. \n",
        "marital-status: Married-civ-spouse, Divorced, Never-married, Separated, Widowed, Married-spouse-absent, Married-AF-spouse. \n",
        "occupation: Tech-support, Craft-repair, Other-service, Sales, Exec-managerial, Prof-specialty, Handlers-cleaners, Machine-op-inspct, Adm-clerical, Farming-fishing, Transport-moving, Priv-house-serv, Protective-serv, Armed-Forces. \n",
        "relationship: Wife, Own-child, Husband, Not-in-family, Other-relative, Unmarried. \n",
        "race: White, Asian-Pac-Islander, Amer-Indian-Eskimo, Other, Black. \n",
        "sex: Female, Male. \n",
        "capital-gain: continuous. \n",
        "capital-loss: continuous. \n",
        "hours-per-week: continuous. \n",
        "native-country: United-States, Cambodia, England, Puerto-Rico, Canada, Germany, Outlying-US(Guam-USVI-etc), India, Japan, Greece, South, China, Cuba, Iran, Honduras, Philippines, Italy, Poland, Jamaica, Vietnam, Mexico, Portugal, Ireland, France, Dominican-Republic, Laos, Ecuador, Taiwan, Haiti, Columbia, Hungary, Guatemala, Nicaragua, Scotland, Thailand, Yugoslavia, El-Salvador, Trinadad&Tobago, Peru, Hong, Holand-Netherlands.'''"
      ],
      "execution_count": 9,
      "outputs": []
    },
    {
      "cell_type": "code",
      "metadata": {
        "colab": {
          "base_uri": "https://localhost:8080/"
        },
        "id": "efVKlHPvFsRG",
        "outputId": "216163cb-0eb4-460b-bbe5-5dfb6055c4b7"
      },
      "source": [
        "type(header_list)"
      ],
      "execution_count": 10,
      "outputs": [
        {
          "output_type": "execute_result",
          "data": {
            "text/plain": [
              "str"
            ]
          },
          "metadata": {},
          "execution_count": 10
        }
      ]
    },
    {
      "cell_type": "code",
      "metadata": {
        "colab": {
          "base_uri": "https://localhost:8080/"
        },
        "id": "TWxiJ2ewFvby",
        "outputId": "3931cf87-6598-4be8-ab7f-6e496f141c09"
      },
      "source": [
        "print(header_list)"
      ],
      "execution_count": 11,
      "outputs": [
        {
          "output_type": "stream",
          "name": "stdout",
          "text": [
            "age: continuous. \n",
            "workclass: Private, Self-emp-not-inc, Self-emp-inc, Federal-gov, Local-gov, State-gov, Without-pay, Never-worked. \n",
            "fnlwgt: continuous. \n",
            "education: Bachelors, Some-college, 11th, HS-grad, Prof-school, Assoc-acdm, Assoc-voc, 9th, 7th-8th, 12th, Masters, 1st-4th, 10th, Doctorate, 5th-6th, Preschool. \n",
            "education-num: continuous. \n",
            "marital-status: Married-civ-spouse, Divorced, Never-married, Separated, Widowed, Married-spouse-absent, Married-AF-spouse. \n",
            "occupation: Tech-support, Craft-repair, Other-service, Sales, Exec-managerial, Prof-specialty, Handlers-cleaners, Machine-op-inspct, Adm-clerical, Farming-fishing, Transport-moving, Priv-house-serv, Protective-serv, Armed-Forces. \n",
            "relationship: Wife, Own-child, Husband, Not-in-family, Other-relative, Unmarried. \n",
            "race: White, Asian-Pac-Islander, Amer-Indian-Eskimo, Other, Black. \n",
            "sex: Female, Male. \n",
            "capital-gain: continuous. \n",
            "capital-loss: continuous. \n",
            "hours-per-week: continuous. \n",
            "native-country: United-States, Cambodia, England, Puerto-Rico, Canada, Germany, Outlying-US(Guam-USVI-etc), India, Japan, Greece, South, China, Cuba, Iran, Honduras, Philippines, Italy, Poland, Jamaica, Vietnam, Mexico, Portugal, Ireland, France, Dominican-Republic, Laos, Ecuador, Taiwan, Haiti, Columbia, Hungary, Guatemala, Nicaragua, Scotland, Thailand, Yugoslavia, El-Salvador, Trinadad&Tobago, Peru, Hong, Holand-Netherlands.\n"
          ]
        }
      ]
    },
    {
      "cell_type": "code",
      "metadata": {
        "id": "Wpoq4m-FFxsP"
      },
      "source": [
        "header_list = header_list.split(\"\\n\")"
      ],
      "execution_count": 12,
      "outputs": []
    },
    {
      "cell_type": "code",
      "metadata": {
        "colab": {
          "base_uri": "https://localhost:8080/"
        },
        "id": "sJnYuhgsF5JM",
        "outputId": "784bed79-2a0a-4cdb-a205-a4ef5262ee0a"
      },
      "source": [
        "len(header_list)\n",
        "header_list"
      ],
      "execution_count": 15,
      "outputs": [
        {
          "output_type": "execute_result",
          "data": {
            "text/plain": [
              "['age: continuous. ',\n",
              " 'workclass: Private, Self-emp-not-inc, Self-emp-inc, Federal-gov, Local-gov, State-gov, Without-pay, Never-worked. ',\n",
              " 'fnlwgt: continuous. ',\n",
              " 'education: Bachelors, Some-college, 11th, HS-grad, Prof-school, Assoc-acdm, Assoc-voc, 9th, 7th-8th, 12th, Masters, 1st-4th, 10th, Doctorate, 5th-6th, Preschool. ',\n",
              " 'education-num: continuous. ',\n",
              " 'marital-status: Married-civ-spouse, Divorced, Never-married, Separated, Widowed, Married-spouse-absent, Married-AF-spouse. ',\n",
              " 'occupation: Tech-support, Craft-repair, Other-service, Sales, Exec-managerial, Prof-specialty, Handlers-cleaners, Machine-op-inspct, Adm-clerical, Farming-fishing, Transport-moving, Priv-house-serv, Protective-serv, Armed-Forces. ',\n",
              " 'relationship: Wife, Own-child, Husband, Not-in-family, Other-relative, Unmarried. ',\n",
              " 'race: White, Asian-Pac-Islander, Amer-Indian-Eskimo, Other, Black. ',\n",
              " 'sex: Female, Male. ',\n",
              " 'capital-gain: continuous. ',\n",
              " 'capital-loss: continuous. ',\n",
              " 'hours-per-week: continuous. ',\n",
              " 'native-country: United-States, Cambodia, England, Puerto-Rico, Canada, Germany, Outlying-US(Guam-USVI-etc), India, Japan, Greece, South, China, Cuba, Iran, Honduras, Philippines, Italy, Poland, Jamaica, Vietnam, Mexico, Portugal, Ireland, France, Dominican-Republic, Laos, Ecuador, Taiwan, Haiti, Columbia, Hungary, Guatemala, Nicaragua, Scotland, Thailand, Yugoslavia, El-Salvador, Trinadad&Tobago, Peru, Hong, Holand-Netherlands.']"
            ]
          },
          "metadata": {},
          "execution_count": 15
        }
      ]
    },
    {
      "cell_type": "code",
      "metadata": {
        "colab": {
          "base_uri": "https://localhost:8080/"
        },
        "id": "Ssji04mfGVCO",
        "outputId": "9ffbcb42-ee91-49c5-de39-d0ea90e4b4f1"
      },
      "source": [
        "only_header_list = []\n",
        "header_info_list = []\n",
        "\n",
        "for attr in header_list:\n",
        "  attribute_list = attr.split(\":\")\n",
        "  only_header_list.append(attribute_list[0])\n",
        "  header_info_list.append(attribute_list[1])\n",
        "\n",
        "only_header_list"
      ],
      "execution_count": 18,
      "outputs": [
        {
          "output_type": "execute_result",
          "data": {
            "text/plain": [
              "['age',\n",
              " 'workclass',\n",
              " 'fnlwgt',\n",
              " 'education',\n",
              " 'education-num',\n",
              " 'marital-status',\n",
              " 'occupation',\n",
              " 'relationship',\n",
              " 'race',\n",
              " 'sex',\n",
              " 'capital-gain',\n",
              " 'capital-loss',\n",
              " 'hours-per-week',\n",
              " 'native-country']"
            ]
          },
          "metadata": {},
          "execution_count": 18
        }
      ]
    },
    {
      "cell_type": "code",
      "metadata": {
        "colab": {
          "base_uri": "https://localhost:8080/"
        },
        "id": "9i3rLkzSJnAD",
        "outputId": "027760a9-ee6e-4e30-c459-d5a2af2f80aa"
      },
      "source": [
        "header_info_list"
      ],
      "execution_count": 19,
      "outputs": [
        {
          "output_type": "execute_result",
          "data": {
            "text/plain": [
              "[' continuous. ',\n",
              " ' Private, Self-emp-not-inc, Self-emp-inc, Federal-gov, Local-gov, State-gov, Without-pay, Never-worked. ',\n",
              " ' continuous. ',\n",
              " ' Bachelors, Some-college, 11th, HS-grad, Prof-school, Assoc-acdm, Assoc-voc, 9th, 7th-8th, 12th, Masters, 1st-4th, 10th, Doctorate, 5th-6th, Preschool. ',\n",
              " ' continuous. ',\n",
              " ' Married-civ-spouse, Divorced, Never-married, Separated, Widowed, Married-spouse-absent, Married-AF-spouse. ',\n",
              " ' Tech-support, Craft-repair, Other-service, Sales, Exec-managerial, Prof-specialty, Handlers-cleaners, Machine-op-inspct, Adm-clerical, Farming-fishing, Transport-moving, Priv-house-serv, Protective-serv, Armed-Forces. ',\n",
              " ' Wife, Own-child, Husband, Not-in-family, Other-relative, Unmarried. ',\n",
              " ' White, Asian-Pac-Islander, Amer-Indian-Eskimo, Other, Black. ',\n",
              " ' Female, Male. ',\n",
              " ' continuous. ',\n",
              " ' continuous. ',\n",
              " ' continuous. ',\n",
              " ' United-States, Cambodia, England, Puerto-Rico, Canada, Germany, Outlying-US(Guam-USVI-etc), India, Japan, Greece, South, China, Cuba, Iran, Honduras, Philippines, Italy, Poland, Jamaica, Vietnam, Mexico, Portugal, Ireland, France, Dominican-Republic, Laos, Ecuador, Taiwan, Haiti, Columbia, Hungary, Guatemala, Nicaragua, Scotland, Thailand, Yugoslavia, El-Salvador, Trinadad&Tobago, Peru, Hong, Holand-Netherlands.']"
            ]
          },
          "metadata": {},
          "execution_count": 19
        }
      ]
    },
    {
      "cell_type": "markdown",
      "metadata": {
        "id": "t1xRL9NzLfzu"
      },
      "source": [
        "## Dictionary\n",
        "> note: There is no add, insert or append for python dict\n",
        "\n",
        "- strip() : gets rid of extra white space"
      ]
    },
    {
      "cell_type": "code",
      "metadata": {
        "colab": {
          "base_uri": "https://localhost:8080/"
        },
        "id": "j8pHO_y8LiVk",
        "outputId": "5c317699-0a27-4e6f-bed8-180e642359f0"
      },
      "source": [
        "x = {\"Age\" : 90}\n",
        "y = \n",
        "{\n",
        "    \"Age\" : 90,\n",
        "    \"Last_Name\" : \"Pancholi\",\n",
        "    \"Gender\" : \"Male\"\n",
        "}\n",
        "\n",
        "print(x)\n",
        "print(y)"
      ],
      "execution_count": 22,
      "outputs": [
        {
          "output_type": "stream",
          "name": "stdout",
          "text": [
            "{'Age': 90}\n",
            "{'Age': 90, 'Last_Name': 'Pancholi', 'Gender': 'Male'}\n"
          ]
        }
      ]
    },
    {
      "cell_type": "code",
      "metadata": {
        "colab": {
          "base_uri": "https://localhost:8080/"
        },
        "id": "1POR0YD-MjDd",
        "outputId": "b48f34aa-a2e8-4eaf-d2b2-bfa2d44c1ecb"
      },
      "source": [
        "header_dict = {}\n",
        "\n",
        "for x in range(0,len(only_header_list)):\n",
        "  if only_header_list[x] not in header_dict.keys():\n",
        "    header_dict[only_header_list[x]] = header_info_list[x].strip() ## There is no add, insert or append for python dict\n",
        "\n",
        "header_dict"
      ],
      "execution_count": 33,
      "outputs": [
        {
          "output_type": "execute_result",
          "data": {
            "text/plain": [
              "{'age': 'continuous.',\n",
              " 'capital-gain': 'continuous.',\n",
              " 'capital-loss': 'continuous.',\n",
              " 'education': 'Bachelors, Some-college, 11th, HS-grad, Prof-school, Assoc-acdm, Assoc-voc, 9th, 7th-8th, 12th, Masters, 1st-4th, 10th, Doctorate, 5th-6th, Preschool.',\n",
              " 'education-num': 'continuous.',\n",
              " 'fnlwgt': 'continuous.',\n",
              " 'hours-per-week': 'continuous.',\n",
              " 'marital-status': 'Married-civ-spouse, Divorced, Never-married, Separated, Widowed, Married-spouse-absent, Married-AF-spouse.',\n",
              " 'native-country': 'United-States, Cambodia, England, Puerto-Rico, Canada, Germany, Outlying-US(Guam-USVI-etc), India, Japan, Greece, South, China, Cuba, Iran, Honduras, Philippines, Italy, Poland, Jamaica, Vietnam, Mexico, Portugal, Ireland, France, Dominican-Republic, Laos, Ecuador, Taiwan, Haiti, Columbia, Hungary, Guatemala, Nicaragua, Scotland, Thailand, Yugoslavia, El-Salvador, Trinadad&Tobago, Peru, Hong, Holand-Netherlands.',\n",
              " 'occupation': 'Tech-support, Craft-repair, Other-service, Sales, Exec-managerial, Prof-specialty, Handlers-cleaners, Machine-op-inspct, Adm-clerical, Farming-fishing, Transport-moving, Priv-house-serv, Protective-serv, Armed-Forces.',\n",
              " 'race': 'White, Asian-Pac-Islander, Amer-Indian-Eskimo, Other, Black.',\n",
              " 'relationship': 'Wife, Own-child, Husband, Not-in-family, Other-relative, Unmarried.',\n",
              " 'sex': 'Female, Male.',\n",
              " 'workclass': 'Private, Self-emp-not-inc, Self-emp-inc, Federal-gov, Local-gov, State-gov, Without-pay, Never-worked.'}"
            ]
          },
          "metadata": {},
          "execution_count": 33
        }
      ]
    }
  ]
}