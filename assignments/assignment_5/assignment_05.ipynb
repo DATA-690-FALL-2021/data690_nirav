{
  "nbformat": 4,
  "nbformat_minor": 0,
  "metadata": {
    "colab": {
      "name": "assignment_05.ipynb",
      "provenance": [],
      "authorship_tag": "ABX9TyNcdXo/QRd3DTQCfTnJfOhs",
      "include_colab_link": true
    },
    "kernelspec": {
      "name": "python3",
      "display_name": "Python 3"
    },
    "language_info": {
      "name": "python"
    }
  },
  "cells": [
    {
      "cell_type": "markdown",
      "metadata": {
        "id": "view-in-github",
        "colab_type": "text"
      },
      "source": [
        "<a href=\"https://colab.research.google.com/github/nirav3/data690_nirav/blob/main/assignments/assignment_5/assignment_05.ipynb\" target=\"_parent\"><img src=\"https://colab.research.google.com/assets/colab-badge.svg\" alt=\"Open In Colab\"/></a>"
      ]
    },
    {
      "cell_type": "code",
      "metadata": {
        "colab": {
          "base_uri": "https://localhost:8080/"
        },
        "id": "AqgLWN8uHxqa",
        "outputId": "f1b68aa2-27ba-47cf-9475-bea930f074e4"
      },
      "source": [
        "import urllib.request\n",
        "\n",
        "\n",
        "url = 'https://ed-public-download.app.cloud.gov/downloads/CollegeScorecard_Raw_Data.zip'\n",
        "urllib.request.urlretrieve(url, 'college_score_card.zip')"
      ],
      "execution_count": 1,
      "outputs": [
        {
          "output_type": "execute_result",
          "data": {
            "text/plain": [
              "('college_score_card.zip', <http.client.HTTPMessage at 0x7f08dbb2f350>)"
            ]
          },
          "metadata": {},
          "execution_count": 1
        }
      ]
    },
    {
      "cell_type": "code",
      "metadata": {
        "id": "wSmAaHjFJe7B"
      },
      "source": [
        "import zipfile\n",
        "\n",
        "with zipfile.ZipFile('college_score_card.zip', 'r') as zip_ref:\n",
        "    zip_ref.extractall('Colleges')"
      ],
      "execution_count": 2,
      "outputs": []
    }
  ]
}