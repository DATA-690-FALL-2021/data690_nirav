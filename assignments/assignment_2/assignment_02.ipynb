{
  "nbformat": 4,
  "nbformat_minor": 0,
  "metadata": {
    "colab": {
      "name": "assignment_02.ipynb",
      "provenance": [],
      "collapsed_sections": [],
      "authorship_tag": "ABX9TyNN57VZivCtn87xzAhFL76r",
      "include_colab_link": true
    },
    "kernelspec": {
      "name": "python3",
      "display_name": "Python 3"
    },
    "language_info": {
      "name": "python"
    }
  },
  "cells": [
    {
      "cell_type": "markdown",
      "metadata": {
        "id": "view-in-github",
        "colab_type": "text"
      },
      "source": [
        "<a href=\"https://colab.research.google.com/github/nirav3/data690_nirav/blob/main/assignments/assignment_2/assignment_02.ipynb\" target=\"_parent\"><img src=\"https://colab.research.google.com/assets/colab-badge.svg\" alt=\"Open In Colab\"/></a>"
      ]
    },
    {
      "cell_type": "markdown",
      "metadata": {
        "id": "EJ3iNv7CXCKe"
      },
      "source": [
        "# Problem:\n",
        "  * Get user input of 10 integers and only intergers allowes. If user passes anything other than interger then ask user to re-enter the value.\n",
        "  * based on user inputs, calculate the following:\n",
        "    1. Minimum\n",
        "    2. Maximum\n",
        "    3. Range\n",
        "    4. Mean\n",
        "    5. Variance\n",
        "    6. Standard Deviation "
      ]
    },
    {
      "cell_type": "markdown",
      "metadata": {
        "id": "GjASvVKUb3ci"
      },
      "source": [
        "## Take user input and calculate following:\n",
        "  1. Calculate minimum value\n",
        "  2. Calculate maximum value\n",
        "  3. Calculate sum of user input"
      ]
    },
    {
      "cell_type": "code",
      "metadata": {
        "colab": {
          "base_uri": "https://localhost:8080/"
        },
        "id": "f7792HQWXQDL",
        "outputId": "184b50e1-0a41-413e-daa8-baebf3ba743c"
      },
      "source": [
        "user_inputs = []\n",
        "total = 0\n",
        "min = 0\n",
        "max = 0\n",
        "\n",
        "for i in range(0,10):\n",
        "  while True:\n",
        "    try:\n",
        "      x = input(\"Enter a number: \")\n",
        "      y = int(x)\n",
        "      print(\"got integer: \", y)\n",
        "      user_inputs.append(y)\n",
        "      \n",
        "      # adding user input to total\n",
        "      total += y\n",
        "      \n",
        "      # see if input value is less than minimum value found eariler\n",
        "      if(i == 0 or y < min):\n",
        "        min = y\n",
        "      \n",
        "      # see if input value is more than maximum value found eariler\n",
        "      if(y > max):\n",
        "        max = y\n",
        "\n",
        "      # break out of while loop once user inputs right value\n",
        "      break\n",
        "      \n",
        "    except:\n",
        "      print(\"only integers are allowed\")"
      ],
      "execution_count": 1,
      "outputs": [
        {
          "output_type": "stream",
          "name": "stdout",
          "text": [
            "Enter a number: 2\n",
            "got integer:  2\n",
            "Enter a number: 4\n",
            "got integer:  4\n",
            "Enter a number: 12\n",
            "got integer:  12\n",
            "Enter a number: 66\n",
            "got integer:  66\n",
            "Enter a number: 45\n",
            "got integer:  45\n",
            "Enter a number: 98\n",
            "got integer:  98\n",
            "Enter a number: 23\n",
            "got integer:  23\n",
            "Enter a number: -34\n",
            "got integer:  -34\n",
            "Enter a number: 54\n",
            "got integer:  54\n",
            "Enter a number: 76\n",
            "got integer:  76\n"
          ]
        }
      ]
    },
    {
      "cell_type": "markdown",
      "metadata": {
        "id": "anoQ-Ac4ZZXO"
      },
      "source": [
        "## Calculate Mean  \n",
        "  * mean = sum of all elements / total number of elements "
      ]
    },
    {
      "cell_type": "code",
      "metadata": {
        "id": "gCWNwhn4ZWGk"
      },
      "source": [
        "mean = total / len(user_inputs)"
      ],
      "execution_count": 2,
      "outputs": []
    },
    {
      "cell_type": "markdown",
      "metadata": {
        "id": "ZN9rcHzdZge4"
      },
      "source": [
        "## Calculate Range\n",
        "  * range = largest value - smallest value"
      ]
    },
    {
      "cell_type": "code",
      "metadata": {
        "id": "4FYcfc_2Zjs1"
      },
      "source": [
        "range = max-min"
      ],
      "execution_count": 3,
      "outputs": []
    },
    {
      "cell_type": "markdown",
      "metadata": {
        "id": "3haQBggsZmIC"
      },
      "source": [
        "## Calculate Variance\n",
        "<img src=\"images/variance.png\"/>"
      ]
    },
    {
      "cell_type": "code",
      "metadata": {
        "id": "Z1PlVDeEZ7Vd"
      },
      "source": [
        "total_squared_sum = 0;\n",
        "\n",
        "for i in user_inputs:\n",
        "  distance_from_mean = i - mean\n",
        "  squared_distance = distance_from_mean * distance_from_mean\n",
        "  total_squared_sum += squared_distance\n",
        "\n",
        "variance = total_squared_sum / (len(user_inputs) - 1)"
      ],
      "execution_count": 4,
      "outputs": []
    },
    {
      "cell_type": "markdown",
      "metadata": {
        "id": "3tikTScTZoeI"
      },
      "source": [
        "\n",
        "# Calculate Standard Deviation\n",
        "  * standard deviation = squared root of Variance"
      ]
    },
    {
      "cell_type": "code",
      "metadata": {
        "id": "ya58TM-Pa3Fo"
      },
      "source": [
        "import math\n",
        "\n",
        "standard_deviation = math.sqrt(variance)"
      ],
      "execution_count": 6,
      "outputs": []
    },
    {
      "cell_type": "markdown",
      "metadata": {
        "id": "DT53o7lWbtPM"
      },
      "source": [
        "# Print the summary of user input"
      ]
    },
    {
      "cell_type": "code",
      "metadata": {
        "colab": {
          "base_uri": "https://localhost:8080/"
        },
        "id": "-8OLFsRwfmPf",
        "outputId": "b5a26048-936c-4a87-9b9a-3797093adb86"
      },
      "source": [
        "print(\"\\n---- Summary -----\")\n",
        "\n",
        "print(\"You Entered: \", user_inputs)\n",
        "print(\"Total: \", total)\n",
        "print(\"Mean: \", mean)\n",
        "print(\"Max: \", max)\n",
        "print(\"Min: \", min)\n",
        "print(\"Range: \", range)\n",
        "print(\"Variance: \", variance)\n",
        "print(\"Standard Deviation: \", standard_deviation)"
      ],
      "execution_count": 7,
      "outputs": [
        {
          "output_type": "stream",
          "name": "stdout",
          "text": [
            "\n",
            "---- Summary -----\n",
            "You Entered:  [2, 4, 12, 66, 45, 98, 23, -34, 54, 76]\n",
            "Total:  346\n",
            "Mean:  34.6\n",
            "Max:  98\n",
            "Min:  -34\n",
            "Range:  132\n",
            "Variance:  1617.1555555555553\n",
            "Standard Deviation:  40.213872675428256\n"
          ]
        }
      ]
    }
  ]
}