{
  "nbformat": 4,
  "nbformat_minor": 0,
  "metadata": {
    "colab": {
      "name": "assignment_02.ipynb",
      "provenance": [],
      "authorship_tag": "ABX9TyMrhcMvAB8ivm0E1feH7R1I",
      "include_colab_link": true
    },
    "kernelspec": {
      "name": "python3",
      "display_name": "Python 3"
    },
    "language_info": {
      "name": "python"
    }
  },
  "cells": [
    {
      "cell_type": "markdown",
      "metadata": {
        "id": "view-in-github",
        "colab_type": "text"
      },
      "source": [
        "<a href=\"https://colab.research.google.com/github/nirav3/data690_nirav/blob/main/assignments/assignment_2/assignment_02.ipynb\" target=\"_parent\"><img src=\"https://colab.research.google.com/assets/colab-badge.svg\" alt=\"Open In Colab\"/></a>"
      ]
    },
    {
      "cell_type": "markdown",
      "metadata": {
        "id": "SftLNohmBgIY"
      },
      "source": [
        "## Simple variables"
      ]
    },
    {
      "cell_type": "code",
      "metadata": {
        "colab": {
          "base_uri": "https://localhost:8080/"
        },
        "id": "19CnWm1q-SYR",
        "outputId": "d6daf86e-7084-4b8c-e6e6-96f51ae34eca"
      },
      "source": [
        "x = 5\n",
        "y = 1.2\n",
        "z = \"Hello world\"\n",
        "\n",
        "print(x, y, z)"
      ],
      "execution_count": 2,
      "outputs": [
        {
          "output_type": "stream",
          "name": "stdout",
          "text": [
            "5 1.2 Hello world\n"
          ]
        }
      ]
    },
    {
      "cell_type": "markdown",
      "metadata": {
        "id": "abUtMFadCEEG"
      },
      "source": [
        "## Collection variables"
      ]
    },
    {
      "cell_type": "code",
      "metadata": {
        "colab": {
          "base_uri": "https://localhost:8080/"
        },
        "id": "CQ4bDU2QBnfp",
        "outputId": "1ee2bc91-672d-43de-d88b-ef85652a4c83"
      },
      "source": [
        "a_list = [1,3,4,6,7]\n",
        "\n",
        "print(a_list)"
      ],
      "execution_count": 3,
      "outputs": [
        {
          "output_type": "stream",
          "name": "stdout",
          "text": [
            "[1, 3, 4, 6, 7]\n"
          ]
        }
      ]
    },
    {
      "cell_type": "markdown",
      "metadata": {
        "id": "GlYVXPVaCump"
      },
      "source": [
        "## Loop"
      ]
    },
    {
      "cell_type": "code",
      "metadata": {
        "colab": {
          "base_uri": "https://localhost:8080/"
        },
        "id": "UVXneUltCK3n",
        "outputId": "764e31ab-04df-4c8d-ff43-e353d84fae0d"
      },
      "source": [
        "for i in a_list:\n",
        "  print(\"Integer\", i)"
      ],
      "execution_count": 4,
      "outputs": [
        {
          "output_type": "stream",
          "name": "stdout",
          "text": [
            "Integer 1\n",
            "Integer 3\n",
            "Integer 4\n",
            "Integer 6\n",
            "Integer 7\n"
          ]
        }
      ]
    },
    {
      "cell_type": "markdown",
      "metadata": {
        "id": "kEGgzFVgEMge"
      },
      "source": [
        "## Condition"
      ]
    },
    {
      "cell_type": "code",
      "metadata": {
        "colab": {
          "base_uri": "https://localhost:8080/"
        },
        "id": "ae6IpV2HC2__",
        "outputId": "44e97702-c39b-4e26-fd6b-32deb6b3e864"
      },
      "source": [
        "for i in a_list:\n",
        "  if (i%2 != 0):\n",
        "    print(\"Odd number \", i)"
      ],
      "execution_count": 5,
      "outputs": [
        {
          "output_type": "stream",
          "name": "stdout",
          "text": [
            "Odd number  1\n",
            "Odd number  3\n",
            "Odd number  7\n"
          ]
        }
      ]
    },
    {
      "cell_type": "markdown",
      "metadata": {
        "id": "EQPSskbCKl8_"
      },
      "source": [
        "## Python built-in functions"
      ]
    },
    {
      "cell_type": "code",
      "metadata": {
        "colab": {
          "base_uri": "https://localhost:8080/"
        },
        "id": "IlS2zeR6K9l1",
        "outputId": "f37b6b30-998a-4bfd-9562-2a2eaff7c7b6"
      },
      "source": [
        "# Range\n",
        "for i in range(10, 21, 2): # start = 10, stop: 20 (do not include 21), increment by 2\n",
        "  print(i)"
      ],
      "execution_count": 6,
      "outputs": [
        {
          "output_type": "stream",
          "name": "stdout",
          "text": [
            "10\n",
            "12\n",
            "14\n",
            "16\n",
            "18\n",
            "20\n"
          ]
        }
      ]
    },
    {
      "cell_type": "code",
      "metadata": {
        "colab": {
          "base_uri": "https://localhost:8080/"
        },
        "id": "JpBMn9MHL1V8",
        "outputId": "09012008-0f55-4aa3-fece-de6aadcbdf16"
      },
      "source": [
        "for j in range(0,5): #5 is not included.\n",
        "  print(j)"
      ],
      "execution_count": 7,
      "outputs": [
        {
          "output_type": "stream",
          "name": "stdout",
          "text": [
            "0\n",
            "1\n",
            "2\n",
            "3\n",
            "4\n"
          ]
        }
      ]
    },
    {
      "cell_type": "code",
      "metadata": {
        "colab": {
          "base_uri": "https://localhost:8080/"
        },
        "id": "IiF1K9ZjMlW9",
        "outputId": "b3f3cf35-3418-411d-b082-61f253a9c41c"
      },
      "source": [
        "# List\n",
        "print(list(range(0,5)))"
      ],
      "execution_count": 8,
      "outputs": [
        {
          "output_type": "stream",
          "name": "stdout",
          "text": [
            "[0, 1, 2, 3, 4]\n"
          ]
        }
      ]
    },
    {
      "cell_type": "code",
      "metadata": {
        "colab": {
          "base_uri": "https://localhost:8080/"
        },
        "id": "VTpiJkSANe_o",
        "outputId": "bcc8ef13-d886-4476-9aa2-b772dbe2f120"
      },
      "source": [
        "x = \"50\"\n",
        "type(x)"
      ],
      "execution_count": 9,
      "outputs": [
        {
          "output_type": "execute_result",
          "data": {
            "text/plain": [
              "str"
            ]
          },
          "metadata": {},
          "execution_count": 9
        }
      ]
    },
    {
      "cell_type": "code",
      "metadata": {
        "colab": {
          "base_uri": "https://localhost:8080/"
        },
        "id": "KlxrSEpWNjN9",
        "outputId": "e472a9ab-07ac-4d45-8eaa-585d383d5390"
      },
      "source": [
        "# Convert string to int\n",
        "y = int(x)\n",
        "type(y)"
      ],
      "execution_count": 10,
      "outputs": [
        {
          "output_type": "execute_result",
          "data": {
            "text/plain": [
              "int"
            ]
          },
          "metadata": {},
          "execution_count": 10
        }
      ]
    },
    {
      "cell_type": "markdown",
      "metadata": {
        "id": "fCU4Cju6NtHV"
      },
      "source": [
        "## Accepting user inputs"
      ]
    },
    {
      "cell_type": "code",
      "metadata": {
        "colab": {
          "base_uri": "https://localhost:8080/"
        },
        "id": "tRyzneg9NyGj",
        "outputId": "d91ed489-798e-4dd1-ec8e-90687dfb9202"
      },
      "source": [
        "x = input(\"Enter a number: \")"
      ],
      "execution_count": 12,
      "outputs": [
        {
          "name": "stdout",
          "output_type": "stream",
          "text": [
            "Enter a number: 5\n"
          ]
        }
      ]
    },
    {
      "cell_type": "code",
      "metadata": {
        "colab": {
          "base_uri": "https://localhost:8080/"
        },
        "id": "non4n_dOOQFX",
        "outputId": "72b3f884-3159-4768-b10f-24e0f31d5a6c"
      },
      "source": [
        "print(x)"
      ],
      "execution_count": 13,
      "outputs": [
        {
          "output_type": "stream",
          "name": "stdout",
          "text": [
            "5\n"
          ]
        }
      ]
    },
    {
      "cell_type": "code",
      "metadata": {
        "colab": {
          "base_uri": "https://localhost:8080/"
        },
        "id": "1Q_AqzyxOUAB",
        "outputId": "f47cc36a-550f-48bc-f80e-a2116a2acaac"
      },
      "source": [
        "# Check type of the input\n",
        "type(x)"
      ],
      "execution_count": 14,
      "outputs": [
        {
          "output_type": "execute_result",
          "data": {
            "text/plain": [
              "str"
            ]
          },
          "metadata": {},
          "execution_count": 14
        }
      ]
    },
    {
      "cell_type": "markdown",
      "metadata": {
        "id": "AtaKDaeiOc_B"
      },
      "source": [
        "## Exception Handling"
      ]
    },
    {
      "cell_type": "code",
      "metadata": {
        "colab": {
          "base_uri": "https://localhost:8080/"
        },
        "id": "RrvYY9AGRXsS",
        "outputId": "2374d156-2497-4b3f-b3c8-40c0b0d12b7b"
      },
      "source": [
        "x = input(\"Enter a number: \")\n",
        "try:\n",
        "  y = int(x)\n",
        "  print(\"got integer: \", y)\n",
        "except:\n",
        "  print(\"Cannot convert your input to int\")"
      ],
      "execution_count": 16,
      "outputs": [
        {
          "output_type": "stream",
          "name": "stdout",
          "text": [
            "Enter a number: 10\n",
            "got integer:  10\n"
          ]
        }
      ]
    },
    {
      "cell_type": "markdown",
      "metadata": {
        "id": "EJ92-SHQR7tJ"
      },
      "source": [
        "## Infinite Loop"
      ]
    },
    {
      "cell_type": "code",
      "metadata": {
        "colab": {
          "base_uri": "https://localhost:8080/"
        },
        "id": "XNnE3HO3R6ny",
        "outputId": "37fea1dd-cb70-46de-ce3c-bd0c3e1cef09"
      },
      "source": [
        "while True:\n",
        "  try:\n",
        "    x = input(\"Enter a number: \")\n",
        "    y = int(x)\n",
        "    print(\"got integer: \", y)\n",
        "    break\n",
        "  except:\n",
        "    print(\"Cannot convert your input to int\")"
      ],
      "execution_count": 18,
      "outputs": [
        {
          "output_type": "stream",
          "name": "stdout",
          "text": [
            "Enter a number: asd\n",
            "Cannot convert your input to int\n",
            "Enter a number: 10\n",
            "got integer:  10\n"
          ]
        }
      ]
    }
  ]
}