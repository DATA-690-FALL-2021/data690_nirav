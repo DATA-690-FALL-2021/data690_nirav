{
  "nbformat": 4,
  "nbformat_minor": 0,
  "metadata": {
    "colab": {
      "name": "assignment_02.ipynb",
      "provenance": [],
      "authorship_tag": "ABX9TyPGoRv3fPpp0OlCJFx3J7in",
      "include_colab_link": true
    },
    "kernelspec": {
      "name": "python3",
      "display_name": "Python 3"
    },
    "language_info": {
      "name": "python"
    }
  },
  "cells": [
    {
      "cell_type": "markdown",
      "metadata": {
        "id": "view-in-github",
        "colab_type": "text"
      },
      "source": [
        "<a href=\"https://colab.research.google.com/github/nirav3/data690_nirav/blob/main/assignments/assignment_2/assignment_02.ipynb\" target=\"_parent\"><img src=\"https://colab.research.google.com/assets/colab-badge.svg\" alt=\"Open In Colab\"/></a>"
      ]
    },
    {
      "cell_type": "markdown",
      "metadata": {
        "id": "SftLNohmBgIY"
      },
      "source": [
        "## Simple variables"
      ]
    },
    {
      "cell_type": "code",
      "metadata": {
        "colab": {
          "base_uri": "https://localhost:8080/"
        },
        "id": "19CnWm1q-SYR",
        "outputId": "d6daf86e-7084-4b8c-e6e6-96f51ae34eca"
      },
      "source": [
        "x = 5\n",
        "y = 1.2\n",
        "z = \"Hello world\"\n",
        "\n",
        "print(x, y, z)"
      ],
      "execution_count": 2,
      "outputs": [
        {
          "output_type": "stream",
          "name": "stdout",
          "text": [
            "5 1.2 Hello world\n"
          ]
        }
      ]
    },
    {
      "cell_type": "markdown",
      "metadata": {
        "id": "abUtMFadCEEG"
      },
      "source": [
        "## Collection variables"
      ]
    },
    {
      "cell_type": "code",
      "metadata": {
        "colab": {
          "base_uri": "https://localhost:8080/"
        },
        "id": "CQ4bDU2QBnfp",
        "outputId": "1ee2bc91-672d-43de-d88b-ef85652a4c83"
      },
      "source": [
        "a_list = [1,3,4,6,7]\n",
        "\n",
        "print(a_list)"
      ],
      "execution_count": 3,
      "outputs": [
        {
          "output_type": "stream",
          "name": "stdout",
          "text": [
            "[1, 3, 4, 6, 7]\n"
          ]
        }
      ]
    },
    {
      "cell_type": "markdown",
      "metadata": {
        "id": "GlYVXPVaCump"
      },
      "source": [
        "## Loop"
      ]
    },
    {
      "cell_type": "code",
      "metadata": {
        "colab": {
          "base_uri": "https://localhost:8080/"
        },
        "id": "UVXneUltCK3n",
        "outputId": "764e31ab-04df-4c8d-ff43-e353d84fae0d"
      },
      "source": [
        "for i in a_list:\n",
        "  print(\"Integer\", i)"
      ],
      "execution_count": 4,
      "outputs": [
        {
          "output_type": "stream",
          "name": "stdout",
          "text": [
            "Integer 1\n",
            "Integer 3\n",
            "Integer 4\n",
            "Integer 6\n",
            "Integer 7\n"
          ]
        }
      ]
    },
    {
      "cell_type": "markdown",
      "metadata": {
        "id": "kEGgzFVgEMge"
      },
      "source": [
        "## Condition"
      ]
    },
    {
      "cell_type": "code",
      "metadata": {
        "colab": {
          "base_uri": "https://localhost:8080/"
        },
        "id": "ae6IpV2HC2__",
        "outputId": "44e97702-c39b-4e26-fd6b-32deb6b3e864"
      },
      "source": [
        "for i in a_list:\n",
        "  if (i%2 != 0):\n",
        "    print(\"Odd number \", i)"
      ],
      "execution_count": 5,
      "outputs": [
        {
          "output_type": "stream",
          "name": "stdout",
          "text": [
            "Odd number  1\n",
            "Odd number  3\n",
            "Odd number  7\n"
          ]
        }
      ]
    }
  ]
}