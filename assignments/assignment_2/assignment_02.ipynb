{
  "nbformat": 4,
  "nbformat_minor": 0,
  "metadata": {
    "colab": {
      "name": "assignment_02.ipynb",
      "provenance": [],
      "collapsed_sections": [],
      "authorship_tag": "ABX9TyNPnGKDgP7o5Mkj8LMbg+iw",
      "include_colab_link": true
    },
    "kernelspec": {
      "name": "python3",
      "display_name": "Python 3"
    },
    "language_info": {
      "name": "python"
    }
  },
  "cells": [
    {
      "cell_type": "markdown",
      "metadata": {
        "id": "view-in-github",
        "colab_type": "text"
      },
      "source": [
        "<a href=\"https://colab.research.google.com/github/nirav3/data690_nirav/blob/main/assignments/assignment_2/assignment_02.ipynb\" target=\"_parent\"><img src=\"https://colab.research.google.com/assets/colab-badge.svg\" alt=\"Open In Colab\"/></a>"
      ]
    },
    {
      "cell_type": "markdown",
      "metadata": {
        "id": "EJ3iNv7CXCKe"
      },
      "source": [
        "## Save input to list"
      ]
    },
    {
      "cell_type": "code",
      "metadata": {
        "colab": {
          "base_uri": "https://localhost:8080/"
        },
        "id": "f7792HQWXQDL",
        "outputId": "7cfed13a-26ee-4db9-c0cd-62814fa82332"
      },
      "source": [
        "user_inputs = []\n",
        "total = 0\n",
        "min = 0\n",
        "max = 0\n",
        "\n",
        "for i in range(0,10):\n",
        "  while True:\n",
        "    try:\n",
        "      x = input(\"Enter a number: \")\n",
        "      y = int(x)\n",
        "      print(\"got integer: \", y)\n",
        "      user_inputs.append(y)\n",
        "      \n",
        "      total += y\n",
        "      \n",
        "      if(i == 0 or y < min):\n",
        "        min = y\n",
        "      \n",
        "      if(y > max):\n",
        "        max = y\n",
        "\n",
        "      break\n",
        "    except:\n",
        "      print(\"only integers are allowed\")"
      ],
      "execution_count": 10,
      "outputs": [
        {
          "output_type": "stream",
          "name": "stdout",
          "text": [
            "Enter a number: 12\n",
            "got integer:  12\n",
            "Enter a number: 34\n",
            "got integer:  34\n",
            "Enter a number: 2\n",
            "got integer:  2\n",
            "Enter a number: 78\n",
            "got integer:  78\n",
            "Enter a number: -12\n",
            "got integer:  -12\n",
            "Enter a number: 5\n",
            "got integer:  5\n",
            "Enter a number: 8\n",
            "got integer:  8\n",
            "Enter a number: 3\n",
            "got integer:  3\n",
            "Enter a number: 9\n",
            "got integer:  9\n",
            "Enter a number: 23\n",
            "got integer:  23\n",
            "\n",
            "---- Summary -----\n",
            "You Entered:  [12, 34, 2, 78, -12, 5, 8, 3, 9, 23]\n",
            "Total:  162\n",
            "Mean:  16.2\n",
            "Max:  78\n",
            "Min:  -12\n"
          ]
        }
      ]
    },
    {
      "cell_type": "code",
      "metadata": {
        "colab": {
          "base_uri": "https://localhost:8080/"
        },
        "id": "-8OLFsRwfmPf",
        "outputId": "40d8cf43-2934-4148-85ae-739a318bf591"
      },
      "source": [
        "print(\"\\n---- Summary -----\")\n",
        "\n",
        "print(\"You Entered: \", user_inputs)\n",
        "print(\"Total: \", total)\n",
        "\n",
        "mean = total / len(user_inputs)\n",
        "print(\"Mean: \", mean)\n",
        "\n",
        "print(\"Max: \", max)\n",
        "print(\"Min: \", min)\n",
        "\n",
        "range = max-min\n",
        "print(\"Range: \", range)"
      ],
      "execution_count": 11,
      "outputs": [
        {
          "output_type": "stream",
          "name": "stdout",
          "text": [
            "\n",
            "---- Summary -----\n",
            "You Entered:  [12, 34, 2, 78, -12, 5, 8, 3, 9, 23]\n",
            "Total:  162\n",
            "Mean:  16.2\n",
            "Max:  78\n",
            "Min:  -12\n",
            "Range:  90\n"
          ]
        }
      ]
    }
  ]
}