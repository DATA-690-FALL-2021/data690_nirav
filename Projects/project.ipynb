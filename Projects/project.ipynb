{
  "nbformat": 4,
  "nbformat_minor": 0,
  "metadata": {
    "colab": {
      "name": "project.ipynb",
      "provenance": [],
      "collapsed_sections": [],
      "authorship_tag": "ABX9TyNv94H4Bw23Szd0uJw61KGQ",
      "include_colab_link": true
    },
    "kernelspec": {
      "name": "python3",
      "display_name": "Python 3"
    },
    "language_info": {
      "name": "python"
    }
  },
  "cells": [
    {
      "cell_type": "markdown",
      "metadata": {
        "id": "view-in-github",
        "colab_type": "text"
      },
      "source": [
        "<a href=\"https://colab.research.google.com/github/nirav3/data690_nirav/blob/main/Projects/project.ipynb\" target=\"_parent\"><img src=\"https://colab.research.google.com/assets/colab-badge.svg\" alt=\"Open In Colab\"/></a>"
      ]
    },
    {
      "cell_type": "markdown",
      "metadata": {
        "id": "CVrQXU67WlOd"
      },
      "source": [
        "# Project\n",
        "  * Professor: Dr. Jay Wang  \n",
        "  * Student: Nirav Pancholi  \n",
        "  * Date: 10/27/2021"
      ]
    },
    {
      "cell_type": "markdown",
      "metadata": {
        "id": "Ikb4D62CbyfU"
      },
      "source": [
        "### Import Packages"
      ]
    },
    {
      "cell_type": "code",
      "metadata": {
        "colab": {
          "base_uri": "https://localhost:8080/"
        },
        "id": "G86Rvgo3Wbta",
        "outputId": "94d3e049-0c2d-44af-887a-108034453ad2"
      },
      "source": [
        "import pandas as pd\n",
        "import missingno as msno\n",
        "import plotly as plty\n",
        "import plotly.graph_objects as go\n",
        "import plotly.express as px\n",
        "\n",
        "print(\"Pandas version: \", pd.__version__)\n",
        "print(\"missingno version: \", msno.__version__)\n",
        "print(\"plotly version: \", plty.__version__)"
      ],
      "execution_count": 5,
      "outputs": [
        {
          "output_type": "stream",
          "name": "stdout",
          "text": [
            "Pandas version:  1.1.5\n",
            "missingno version:  0.5.0\n",
            "plotly version:  4.4.1\n"
          ]
        }
      ]
    },
    {
      "cell_type": "markdown",
      "metadata": {
        "id": "Ajj-jbdwkQWf"
      },
      "source": [
        "## Read Data"
      ]
    },
    {
      "cell_type": "code",
      "metadata": {
        "colab": {
          "base_uri": "https://localhost:8080/",
          "height": 204
        },
        "id": "Ltc3XpW4cnxH",
        "outputId": "20791ffa-601c-4664-dd54-ecfdd2fd45c4"
      },
      "source": [
        "df = pd.read_csv('https://raw.githubusercontent.com/nirav3/data690_nirav/main/Projects/Data/wdi_data.csv', index_col=0)\n",
        "\n",
        "df.head()"
      ],
      "execution_count": 6,
      "outputs": [
        {
          "output_type": "execute_result",
          "data": {
            "text/html": [
              "<div>\n",
              "<style scoped>\n",
              "    .dataframe tbody tr th:only-of-type {\n",
              "        vertical-align: middle;\n",
              "    }\n",
              "\n",
              "    .dataframe tbody tr th {\n",
              "        vertical-align: top;\n",
              "    }\n",
              "\n",
              "    .dataframe thead th {\n",
              "        text-align: right;\n",
              "    }\n",
              "</style>\n",
              "<table border=\"1\" class=\"dataframe\">\n",
              "  <thead>\n",
              "    <tr style=\"text-align: right;\">\n",
              "      <th></th>\n",
              "      <th>Year</th>\n",
              "      <th>value</th>\n",
              "      <th>indicator</th>\n",
              "      <th>Country Code</th>\n",
              "      <th>Country Name</th>\n",
              "      <th>Region</th>\n",
              "      <th>Income Group</th>\n",
              "      <th>Lending Type</th>\n",
              "    </tr>\n",
              "  </thead>\n",
              "  <tbody>\n",
              "    <tr>\n",
              "      <th>0</th>\n",
              "      <td>2020</td>\n",
              "      <td>2087.636394</td>\n",
              "      <td>NY.GDP.PCAP.PP.CD</td>\n",
              "      <td>AFG</td>\n",
              "      <td>Afghanistan</td>\n",
              "      <td>South Asia</td>\n",
              "      <td>Low income</td>\n",
              "      <td>IDA</td>\n",
              "    </tr>\n",
              "    <tr>\n",
              "      <th>1</th>\n",
              "      <td>2020</td>\n",
              "      <td>13817.758966</td>\n",
              "      <td>NY.GDP.PCAP.PP.CD</td>\n",
              "      <td>ALB</td>\n",
              "      <td>Albania</td>\n",
              "      <td>Europe &amp; Central Asia</td>\n",
              "      <td>Upper middle income</td>\n",
              "      <td>IBRD</td>\n",
              "    </tr>\n",
              "    <tr>\n",
              "      <th>2</th>\n",
              "      <td>2020</td>\n",
              "      <td>11268.264472</td>\n",
              "      <td>NY.GDP.PCAP.PP.CD</td>\n",
              "      <td>DZA</td>\n",
              "      <td>Algeria</td>\n",
              "      <td>Middle East &amp; North Africa</td>\n",
              "      <td>Lower middle income</td>\n",
              "      <td>IBRD</td>\n",
              "    </tr>\n",
              "    <tr>\n",
              "      <th>3</th>\n",
              "      <td>2020</td>\n",
              "      <td>6538.452054</td>\n",
              "      <td>NY.GDP.PCAP.PP.CD</td>\n",
              "      <td>AGO</td>\n",
              "      <td>Angola</td>\n",
              "      <td>Sub-Saharan Africa</td>\n",
              "      <td>Lower middle income</td>\n",
              "      <td>IBRD</td>\n",
              "    </tr>\n",
              "    <tr>\n",
              "      <th>4</th>\n",
              "      <td>2020</td>\n",
              "      <td>18942.388065</td>\n",
              "      <td>NY.GDP.PCAP.PP.CD</td>\n",
              "      <td>ATG</td>\n",
              "      <td>Antigua and Barbuda</td>\n",
              "      <td>Latin America &amp; Caribbean</td>\n",
              "      <td>High income</td>\n",
              "      <td>IBRD</td>\n",
              "    </tr>\n",
              "  </tbody>\n",
              "</table>\n",
              "</div>"
            ],
            "text/plain": [
              "   Year         value  ...         Income Group Lending Type\n",
              "0  2020   2087.636394  ...           Low income          IDA\n",
              "1  2020  13817.758966  ...  Upper middle income         IBRD\n",
              "2  2020  11268.264472  ...  Lower middle income         IBRD\n",
              "3  2020   6538.452054  ...  Lower middle income         IBRD\n",
              "4  2020  18942.388065  ...          High income         IBRD\n",
              "\n",
              "[5 rows x 8 columns]"
            ]
          },
          "metadata": {},
          "execution_count": 6
        }
      ]
    },
    {
      "cell_type": "code",
      "metadata": {
        "colab": {
          "base_uri": "https://localhost:8080/",
          "height": 204
        },
        "id": "7kqyu6nmc3by",
        "outputId": "e1e144b9-af23-4901-a195-4d53a598d8c2"
      },
      "source": [
        "df_gdp_urb = df.query(\"indicator in ['NY.GDP.PCAP.PP.CD','SP.URB.TOTL.IN.ZS'] \")\n",
        "\n",
        "df_gdp_urb.sample(5)"
      ],
      "execution_count": 7,
      "outputs": [
        {
          "output_type": "execute_result",
          "data": {
            "text/html": [
              "<div>\n",
              "<style scoped>\n",
              "    .dataframe tbody tr th:only-of-type {\n",
              "        vertical-align: middle;\n",
              "    }\n",
              "\n",
              "    .dataframe tbody tr th {\n",
              "        vertical-align: top;\n",
              "    }\n",
              "\n",
              "    .dataframe thead th {\n",
              "        text-align: right;\n",
              "    }\n",
              "</style>\n",
              "<table border=\"1\" class=\"dataframe\">\n",
              "  <thead>\n",
              "    <tr style=\"text-align: right;\">\n",
              "      <th></th>\n",
              "      <th>Year</th>\n",
              "      <th>value</th>\n",
              "      <th>indicator</th>\n",
              "      <th>Country Code</th>\n",
              "      <th>Country Name</th>\n",
              "      <th>Region</th>\n",
              "      <th>Income Group</th>\n",
              "      <th>Lending Type</th>\n",
              "    </tr>\n",
              "  </thead>\n",
              "  <tbody>\n",
              "    <tr>\n",
              "      <th>207</th>\n",
              "      <td>2020</td>\n",
              "      <td>30.607000</td>\n",
              "      <td>SP.URB.TOTL.IN.ZS</td>\n",
              "      <td>BFA</td>\n",
              "      <td>Burkina Faso</td>\n",
              "      <td>Sub-Saharan Africa</td>\n",
              "      <td>Low income</td>\n",
              "      <td>IDA</td>\n",
              "    </tr>\n",
              "    <tr>\n",
              "      <th>288</th>\n",
              "      <td>2020</td>\n",
              "      <td>80.691000</td>\n",
              "      <td>SP.URB.TOTL.IN.ZS</td>\n",
              "      <td>LBY</td>\n",
              "      <td>Libya</td>\n",
              "      <td>Middle East &amp; North Africa</td>\n",
              "      <td>Upper middle income</td>\n",
              "      <td>IBRD</td>\n",
              "    </tr>\n",
              "    <tr>\n",
              "      <th>17</th>\n",
              "      <td>2020</td>\n",
              "      <td>3505.635164</td>\n",
              "      <td>NY.GDP.PCAP.PP.CD</td>\n",
              "      <td>BEN</td>\n",
              "      <td>Benin</td>\n",
              "      <td>Sub-Saharan Africa</td>\n",
              "      <td>Lower middle income</td>\n",
              "      <td>IDA</td>\n",
              "    </tr>\n",
              "    <tr>\n",
              "      <th>29</th>\n",
              "      <td>2020</td>\n",
              "      <td>3772.744986</td>\n",
              "      <td>NY.GDP.PCAP.PP.CD</td>\n",
              "      <td>CMR</td>\n",
              "      <td>Cameroon</td>\n",
              "      <td>Sub-Saharan Africa</td>\n",
              "      <td>Lower middle income</td>\n",
              "      <td>Blend</td>\n",
              "    </tr>\n",
              "    <tr>\n",
              "      <th>233</th>\n",
              "      <td>2020</td>\n",
              "      <td>82.540000</td>\n",
              "      <td>SP.URB.TOTL.IN.ZS</td>\n",
              "      <td>DOM</td>\n",
              "      <td>Dominican Republic</td>\n",
              "      <td>Latin America &amp; Caribbean</td>\n",
              "      <td>Upper middle income</td>\n",
              "      <td>IBRD</td>\n",
              "    </tr>\n",
              "  </tbody>\n",
              "</table>\n",
              "</div>"
            ],
            "text/plain": [
              "     Year        value  ...         Income Group Lending Type\n",
              "207  2020    30.607000  ...           Low income          IDA\n",
              "288  2020    80.691000  ...  Upper middle income         IBRD\n",
              "17   2020  3505.635164  ...  Lower middle income          IDA\n",
              "29   2020  3772.744986  ...  Lower middle income        Blend\n",
              "233  2020    82.540000  ...  Upper middle income         IBRD\n",
              "\n",
              "[5 rows x 8 columns]"
            ]
          },
          "metadata": {},
          "execution_count": 7
        }
      ]
    },
    {
      "cell_type": "markdown",
      "metadata": {
        "id": "cZPN3LQ3kVJM"
      },
      "source": [
        "## Pivot the dataframe"
      ]
    },
    {
      "cell_type": "code",
      "metadata": {
        "colab": {
          "base_uri": "https://localhost:8080/",
          "height": 204
        },
        "id": "81KCbkyKe7Vn",
        "outputId": "0cc4b2d9-b8d1-4b03-acd3-a036fa145bfb"
      },
      "source": [
        "df_pivot = df_gdp_urb.pivot( index=['Country Code', 'Country Name', 'Region', 'Income Group', 'Lending Type'], columns='indicator', values='value').reset_index()\n",
        "df_pivot.head()"
      ],
      "execution_count": 8,
      "outputs": [
        {
          "output_type": "execute_result",
          "data": {
            "text/html": [
              "<div>\n",
              "<style scoped>\n",
              "    .dataframe tbody tr th:only-of-type {\n",
              "        vertical-align: middle;\n",
              "    }\n",
              "\n",
              "    .dataframe tbody tr th {\n",
              "        vertical-align: top;\n",
              "    }\n",
              "\n",
              "    .dataframe thead th {\n",
              "        text-align: right;\n",
              "    }\n",
              "</style>\n",
              "<table border=\"1\" class=\"dataframe\">\n",
              "  <thead>\n",
              "    <tr style=\"text-align: right;\">\n",
              "      <th>indicator</th>\n",
              "      <th>Country Code</th>\n",
              "      <th>Country Name</th>\n",
              "      <th>Region</th>\n",
              "      <th>Income Group</th>\n",
              "      <th>Lending Type</th>\n",
              "      <th>NY.GDP.PCAP.PP.CD</th>\n",
              "      <th>SP.URB.TOTL.IN.ZS</th>\n",
              "    </tr>\n",
              "  </thead>\n",
              "  <tbody>\n",
              "    <tr>\n",
              "      <th>0</th>\n",
              "      <td>ABW</td>\n",
              "      <td>Aruba</td>\n",
              "      <td>Latin America &amp; Caribbean</td>\n",
              "      <td>High income</td>\n",
              "      <td>Not classified</td>\n",
              "      <td>NaN</td>\n",
              "      <td>43.697</td>\n",
              "    </tr>\n",
              "    <tr>\n",
              "      <th>1</th>\n",
              "      <td>AFG</td>\n",
              "      <td>Afghanistan</td>\n",
              "      <td>South Asia</td>\n",
              "      <td>Low income</td>\n",
              "      <td>IDA</td>\n",
              "      <td>2087.636394</td>\n",
              "      <td>26.026</td>\n",
              "    </tr>\n",
              "    <tr>\n",
              "      <th>2</th>\n",
              "      <td>AGO</td>\n",
              "      <td>Angola</td>\n",
              "      <td>Sub-Saharan Africa</td>\n",
              "      <td>Lower middle income</td>\n",
              "      <td>IBRD</td>\n",
              "      <td>6538.452054</td>\n",
              "      <td>66.825</td>\n",
              "    </tr>\n",
              "    <tr>\n",
              "      <th>3</th>\n",
              "      <td>ALB</td>\n",
              "      <td>Albania</td>\n",
              "      <td>Europe &amp; Central Asia</td>\n",
              "      <td>Upper middle income</td>\n",
              "      <td>IBRD</td>\n",
              "      <td>13817.758966</td>\n",
              "      <td>62.112</td>\n",
              "    </tr>\n",
              "    <tr>\n",
              "      <th>4</th>\n",
              "      <td>AND</td>\n",
              "      <td>Andorra</td>\n",
              "      <td>Europe &amp; Central Asia</td>\n",
              "      <td>High income</td>\n",
              "      <td>Not classified</td>\n",
              "      <td>NaN</td>\n",
              "      <td>87.916</td>\n",
              "    </tr>\n",
              "  </tbody>\n",
              "</table>\n",
              "</div>"
            ],
            "text/plain": [
              "indicator Country Code Country Name  ... NY.GDP.PCAP.PP.CD SP.URB.TOTL.IN.ZS\n",
              "0                  ABW        Aruba  ...               NaN            43.697\n",
              "1                  AFG  Afghanistan  ...       2087.636394            26.026\n",
              "2                  AGO       Angola  ...       6538.452054            66.825\n",
              "3                  ALB      Albania  ...      13817.758966            62.112\n",
              "4                  AND      Andorra  ...               NaN            87.916\n",
              "\n",
              "[5 rows x 7 columns]"
            ]
          },
          "metadata": {},
          "execution_count": 8
        }
      ]
    },
    {
      "cell_type": "code",
      "metadata": {
        "id": "z8jhxDuTgwxW"
      },
      "source": [
        "df_pivot = df_pivot.dropna()"
      ],
      "execution_count": 9,
      "outputs": []
    },
    {
      "cell_type": "code",
      "metadata": {
        "colab": {
          "base_uri": "https://localhost:8080/",
          "height": 204
        },
        "id": "EkI9Gnm2g9K3",
        "outputId": "1c11a2bf-a3b3-4b3b-fb18-9c1ece554865"
      },
      "source": [
        "df_pivot.sample(5)"
      ],
      "execution_count": 10,
      "outputs": [
        {
          "output_type": "execute_result",
          "data": {
            "text/html": [
              "<div>\n",
              "<style scoped>\n",
              "    .dataframe tbody tr th:only-of-type {\n",
              "        vertical-align: middle;\n",
              "    }\n",
              "\n",
              "    .dataframe tbody tr th {\n",
              "        vertical-align: top;\n",
              "    }\n",
              "\n",
              "    .dataframe thead th {\n",
              "        text-align: right;\n",
              "    }\n",
              "</style>\n",
              "<table border=\"1\" class=\"dataframe\">\n",
              "  <thead>\n",
              "    <tr style=\"text-align: right;\">\n",
              "      <th>indicator</th>\n",
              "      <th>Country Code</th>\n",
              "      <th>Country Name</th>\n",
              "      <th>Region</th>\n",
              "      <th>Income Group</th>\n",
              "      <th>Lending Type</th>\n",
              "      <th>NY.GDP.PCAP.PP.CD</th>\n",
              "      <th>SP.URB.TOTL.IN.ZS</th>\n",
              "    </tr>\n",
              "  </thead>\n",
              "  <tbody>\n",
              "    <tr>\n",
              "      <th>200</th>\n",
              "      <td>URY</td>\n",
              "      <td>Uruguay</td>\n",
              "      <td>Latin America &amp; Caribbean</td>\n",
              "      <td>High income</td>\n",
              "      <td>IBRD</td>\n",
              "      <td>22795.058750</td>\n",
              "      <td>95.515</td>\n",
              "    </tr>\n",
              "    <tr>\n",
              "      <th>118</th>\n",
              "      <td>MAR</td>\n",
              "      <td>Morocco</td>\n",
              "      <td>Middle East &amp; North Africa</td>\n",
              "      <td>Lower middle income</td>\n",
              "      <td>IBRD</td>\n",
              "      <td>7296.158065</td>\n",
              "      <td>63.532</td>\n",
              "    </tr>\n",
              "    <tr>\n",
              "      <th>98</th>\n",
              "      <td>KAZ</td>\n",
              "      <td>Kazakhstan</td>\n",
              "      <td>Europe &amp; Central Asia</td>\n",
              "      <td>Upper middle income</td>\n",
              "      <td>IBRD</td>\n",
              "      <td>26728.543918</td>\n",
              "      <td>57.671</td>\n",
              "    </tr>\n",
              "    <tr>\n",
              "      <th>84</th>\n",
              "      <td>HTI</td>\n",
              "      <td>Haiti</td>\n",
              "      <td>Latin America &amp; Caribbean</td>\n",
              "      <td>Lower middle income</td>\n",
              "      <td>IDA</td>\n",
              "      <td>2925.365324</td>\n",
              "      <td>57.088</td>\n",
              "    </tr>\n",
              "    <tr>\n",
              "      <th>90</th>\n",
              "      <td>IRN</td>\n",
              "      <td>Iran, Islamic Rep.</td>\n",
              "      <td>Middle East &amp; North Africa</td>\n",
              "      <td>Lower middle income</td>\n",
              "      <td>IBRD</td>\n",
              "      <td>13116.072360</td>\n",
              "      <td>75.874</td>\n",
              "    </tr>\n",
              "  </tbody>\n",
              "</table>\n",
              "</div>"
            ],
            "text/plain": [
              "indicator Country Code  ... SP.URB.TOTL.IN.ZS\n",
              "200                URY  ...            95.515\n",
              "118                MAR  ...            63.532\n",
              "98                 KAZ  ...            57.671\n",
              "84                 HTI  ...            57.088\n",
              "90                 IRN  ...            75.874\n",
              "\n",
              "[5 rows x 7 columns]"
            ]
          },
          "metadata": {},
          "execution_count": 10
        }
      ]
    },
    {
      "cell_type": "markdown",
      "metadata": {
        "id": "xVZt-9nKkdlk"
      },
      "source": [
        "## Data Visualization"
      ]
    },
    {
      "cell_type": "code",
      "metadata": {
        "colab": {
          "base_uri": "https://localhost:8080/",
          "height": 542
        },
        "id": "j24xVqufhBNA",
        "outputId": "6d11488b-b270-445e-8ac3-e0bbda517efa"
      },
      "source": [
        "fig = px.scatter(\n",
        "    df_pivot,\n",
        "    x = 'NY.GDP.PCAP.PP.CD',\n",
        "    y = 'SP.URB.TOTL.IN.ZS',\n",
        "    title = \"2020 Urban Population vs. GDP\",\n",
        "    labels = {'NY.GDP.PCAP.PP.CD':'GDP per capita', 'SP.URB.TOTL.IN.ZS':'% of Urban Population'},\n",
        "    color = 'Region',\n",
        "    hover_name = 'Country Name'\n",
        ")\n",
        "\n",
        "fig.update_traces()\n",
        "\n",
        "fig.show()"
      ],
      "execution_count": 11,
      "outputs": [
        {
          "output_type": "display_data",
          "data": {
            "text/html": [
              "<html>\n",
              "<head><meta charset=\"utf-8\" /></head>\n",
              "<body>\n",
              "    <div>\n",
              "            <script src=\"https://cdnjs.cloudflare.com/ajax/libs/mathjax/2.7.5/MathJax.js?config=TeX-AMS-MML_SVG\"></script><script type=\"text/javascript\">if (window.MathJax) {MathJax.Hub.Config({SVG: {font: \"STIX-Web\"}});}</script>\n",
              "                <script type=\"text/javascript\">window.PlotlyConfig = {MathJaxConfig: 'local'};</script>\n",
              "        <script src=\"https://cdn.plot.ly/plotly-latest.min.js\"></script>    \n",
              "            <div id=\"4d27dc86-2dfe-4b60-8985-5ba9cdcc2208\" class=\"plotly-graph-div\" style=\"height:525px; width:100%;\"></div>\n",
              "            <script type=\"text/javascript\">\n",
              "                \n",
              "                    window.PLOTLYENV=window.PLOTLYENV || {};\n",
              "                    \n",
              "                if (document.getElementById(\"4d27dc86-2dfe-4b60-8985-5ba9cdcc2208\")) {\n",
              "                    Plotly.newPlot(\n",
              "                        '4d27dc86-2dfe-4b60-8985-5ba9cdcc2208',\n",
              "                        [{\"hoverlabel\": {\"namelength\": 0}, \"hovertemplate\": \"<b>%{hovertext}</b><br><br>Region=South Asia<br>GDP per capita=%{x}<br>% of Urban Population=%{y}\", \"hovertext\": [\"Afghanistan\", \"Bangladesh\", \"Bhutan\", \"India\", \"Sri Lanka\", \"Maldives\", \"Nepal\", \"Pakistan\"], \"legendgroup\": \"Region=South Asia\", \"marker\": {\"color\": \"#636efa\", \"symbol\": \"circle\"}, \"mode\": \"markers\", \"name\": \"Region=South Asia\", \"showlegend\": true, \"type\": \"scatter\", \"x\": [2087.6363940006, 5082.6807503643, 11508.1741774838, 6454.347356381801, 13225.4088007871, 13765.635981905702, 4008.7465803348, 4876.6305536435], \"xaxis\": \"x\", \"y\": [26.026, 38.177, 42.316, 34.926, 18.713, 40.669000000000004, 20.576, 37.165], \"yaxis\": \"y\"}, {\"hoverlabel\": {\"namelength\": 0}, \"hovertemplate\": \"<b>%{hovertext}</b><br><br>Region=Sub-Saharan Africa <br>GDP per capita=%{x}<br>% of Urban Population=%{y}\", \"hovertext\": [\"Angola\", \"Burundi\", \"Benin\", \"Burkina Faso\", \"Botswana\", \"Central African Republic\", \"Cote d'Ivoire\", \"Cameroon\", \"Congo, Dem. Rep.\", \"Congo, Rep.\", \"Comoros\", \"Cabo Verde\", \"Ethiopia\", \"Gabon\", \"Ghana\", \"Guinea\", \"Gambia, The\", \"Guinea-Bissau\", \"Equatorial Guinea\", \"Kenya\", \"Liberia\", \"Lesotho\", \"Madagascar\", \"Mali\", \"Mozambique\", \"Mauritania\", \"Mauritius\", \"Malawi\", \"Namibia\", \"Niger\", \"Nigeria\", \"Rwanda\", \"Sudan\", \"Senegal\", \"Sierra Leone\", \"Somalia\", \"Sao Tome and Principe\", \"Eswatini\", \"Seychelles\", \"Chad\", \"Togo\", \"Tanzania\", \"Uganda\", \"South Africa\", \"Zambia\", \"Zimbabwe\"], \"legendgroup\": \"Region=Sub-Saharan Africa \", \"marker\": {\"color\": \"#EF553B\", \"symbol\": \"circle\"}, \"mode\": \"markers\", \"name\": \"Region=Sub-Saharan Africa \", \"showlegend\": true, \"type\": \"scatter\", \"x\": [6538.4520538729, 771.2096187616, 3505.6351635826, 2279.1561732032997, 16920.8466745308, 979.5830660874001, 5458.236651125801, 3772.7449855499, 1131.0906069864, 3638.5557749751, 3313.1704671415005, 6377.0258315573, 2422.9577888954, 15190.6386251211, 5596.3070706446, 2817.4918088079, 2278.0278146917003, 1948.9195404973002, 17941.5996995858, 4452.2060236705, 1428.1892996043, 2405.0965174457997, 1593.0712660448, 2338.5075230461, 1296.5750349477, 5256.874547408, 20538.6949103031, 1568.4247812661, 9382.2175367398, 1262.6041755418, 5186.7234837793, 2213.9611897184, 4243.7819360945, 3481.3099218762, 1738.556326941, 875.169599243, 4274.099011522199, 8853.6042434463, 25699.7290739829, 1603.3784565899, 2223.6314906298003, 2780.0555482202003, 2297.178684407, 12095.856289625, 3449.6093221154997, 2895.4156454758004], \"xaxis\": \"x\", \"y\": [66.825, 13.708, 48.415, 30.607, 70.877, 42.198, 51.706, 57.56, 45.638000000000005, 67.829, 29.38, 66.652, 21.695, 90.09200000000001, 57.349, 36.875, 62.582, 44.196000000000005, 73.1, 27.995, 52.089, 29.028000000000002, 38.534, 43.909, 37.074, 55.327, 40.76, 17.427, 52.033, 16.625999999999998, 51.958, 17.432000000000002, 35.253, 48.122, 42.923, 46.141000000000005, 74.354, 24.171, 57.54600000000001, 23.52, 42.8, 35.227, 24.954, 67.354, 44.629, 32.242], \"yaxis\": \"y\"}, {\"hoverlabel\": {\"namelength\": 0}, \"hovertemplate\": \"<b>%{hovertext}</b><br><br>Region=Europe & Central Asia<br>GDP per capita=%{x}<br>% of Urban Population=%{y}\", \"hovertext\": [\"Albania\", \"Armenia\", \"Austria\", \"Azerbaijan\", \"Belgium\", \"Bulgaria\", \"Bosnia and Herzegovina\", \"Belarus\", \"Switzerland\", \"Cyprus\", \"Czech Republic\", \"Germany\", \"Denmark\", \"Spain\", \"Estonia\", \"Finland\", \"France\", \"United Kingdom\", \"Georgia\", \"Greece\", \"Croatia\", \"Hungary\", \"Ireland\", \"Iceland\", \"Italy\", \"Kazakhstan\", \"Kyrgyz Republic\", \"Lithuania\", \"Luxembourg\", \"Latvia\", \"Moldova\", \"North Macedonia\", \"Montenegro\", \"Netherlands\", \"Norway\", \"Poland\", \"Portugal\", \"Romania\", \"Russian Federation\", \"Serbia\", \"Slovak Republic\", \"Slovenia\", \"Sweden\", \"Tajikistan\", \"Turkey\", \"Ukraine\", \"Uzbekistan\"], \"legendgroup\": \"Region=Europe & Central Asia\", \"marker\": {\"color\": \"#00cc96\", \"symbol\": \"circle\"}, \"mode\": \"markers\", \"name\": \"Region=Europe & Central Asia\", \"showlegend\": true, \"type\": \"scatter\", \"x\": [13817.7589656756, 13284.160830728999, 55097.461225832805, 14451.983696650701, 51968.1920227771, 24367.3239228848, 15611.791305994198, 20199.6984928506, 71352.3525990268, 38458.1912618072, 41737.418040924706, 53694.3547123431, 60398.4533430492, 38334.6113444231, 38394.9175345121, 51089.7853321567, 46226.950535686905, 44916.2283385249, 14863.0173692196, 28463.7886828947, 28503.8805738916, 33084.0962334341, 93612.1659106094, 55216.0261783821, 41839.9910228994, 26728.5439182062, 4965.0318757531, 38734.7293153001, 118359.52616184301, 32019.222335100698, 13001.550045211, 16926.624142555702, 20566.6384071985, 59228.834953760495, 63197.98147058651, 34264.7597598664, 34495.9224734636, 31945.749656632797, 28213.447838229702, 19230.6300632762, 31832.394609507002, 39593.3074407023, 54563.1214122072, 3858.4294154021004, 28119.453039890497, 13056.7020745176, 7378.2547203592], \"xaxis\": \"x\", \"y\": [62.111999999999995, 63.313, 58.748000000000005, 56.397, 98.079, 75.686, 49.02, 79.483, 73.915, 66.821, 74.061, 77.453, 88.116, 80.81, 69.229, 85.51700000000001, 80.975, 83.90299999999999, 59.453, 79.715, 57.553000000000004, 71.942, 63.653, 93.898, 71.039, 57.67100000000001, 36.856, 68.046, 91.45299999999999, 68.315, 42.849, 58.482, 67.488, 92.236, 82.97399999999999, 60.043, 66.31, 54.193999999999996, 74.75399999999999, 56.446000000000005, 53.76, 55.118, 87.977, 27.506, 76.105, 69.608, 50.416000000000004], \"yaxis\": \"y\"}, {\"hoverlabel\": {\"namelength\": 0}, \"hovertemplate\": \"<b>%{hovertext}</b><br><br>Region=Latin America & Caribbean <br>GDP per capita=%{x}<br>% of Urban Population=%{y}\", \"hovertext\": [\"Argentina\", \"Antigua and Barbuda\", \"Bahamas, The\", \"Belize\", \"Bolivia\", \"Brazil\", \"Barbados\", \"Chile\", \"Colombia\", \"Costa Rica\", \"Dominica\", \"Dominican Republic\", \"Ecuador\", \"Grenada\", \"Guatemala\", \"Guyana\", \"Honduras\", \"Haiti\", \"Jamaica\", \"St. Kitts and Nevis\", \"St. Lucia\", \"Mexico\", \"Nicaragua\", \"Panama\", \"Peru\", \"Puerto Rico\", \"Paraguay\", \"El Salvador\", \"Suriname\", \"Turks and Caicos Islands\", \"Trinidad and Tobago\", \"Uruguay\", \"St. Vincent and the Grenadines\"], \"legendgroup\": \"Region=Latin America & Caribbean \", \"marker\": {\"color\": \"#ab63fa\", \"symbol\": \"circle\"}, \"mode\": \"markers\", \"name\": \"Region=Latin America & Caribbean \", \"showlegend\": true, \"type\": \"scatter\", \"x\": [20767.6105001703, 18942.3880651775, 32453.5295740897, 6455.9617526987, 8367.3271590664, 14836.307100914299, 13576.801799531699, 25067.6916009163, 14565.3680522873, 21031.8175436511, 10434.4729370643, 17936.7346849962, 10896.427433954399, 15893.2153791848, 8854.2024639096, 19705.7926684251, 5420.560196329, 2925.3653238707, 9221.5933050965, 24536.6518405639, 12943.8219371625, 18833.082415227702, 5570.0998748493, 26775.6944526998, 11879.2358960654, 35279.3470349392, 13012.8756954841, 8498.9687204029, 17015.9602788948, 22281.9221529183, 25031.1921587721, 22795.058750005297, 12770.149236556], \"xaxis\": \"x\", \"y\": [92.111, 24.433000000000003, 83.245, 46.025, 70.123, 87.073, 31.191, 87.727, 81.425, 80.771, 71.09, 82.54, 64.166, 36.537, 51.836000000000006, 26.785999999999998, 58.358999999999995, 57.088, 56.31100000000001, 30.843000000000004, 18.840999999999998, 80.73100000000001, 59.012, 68.414, 78.297, 93.581, 62.183, 73.444, 66.149, 93.605, 53.214, 95.515, 53.032], \"yaxis\": \"y\"}, {\"hoverlabel\": {\"namelength\": 0}, \"hovertemplate\": \"<b>%{hovertext}</b><br><br>Region=East Asia & Pacific<br>GDP per capita=%{x}<br>% of Urban Population=%{y}\", \"hovertext\": [\"Australia\", \"Brunei Darussalam\", \"China\", \"Fiji\", \"Hong Kong SAR, China\", \"Indonesia\", \"Cambodia\", \"Kiribati\", \"Korea, Rep.\", \"Lao PDR\", \"Macao SAR, China\", \"Myanmar\", \"Mongolia\", \"Malaysia\", \"New Zealand\", \"Philippines\", \"Papua New Guinea\", \"Singapore\", \"Solomon Islands\", \"Thailand\", \"Timor-Leste\", \"Tuvalu\", \"Vietnam\", \"Vanuatu\"], \"legendgroup\": \"Region=East Asia & Pacific\", \"marker\": {\"color\": \"#FFA15A\", \"symbol\": \"circle\"}, \"mode\": \"markers\", \"name\": \"Region=East Asia & Pacific\", \"showlegend\": true, \"type\": \"scatter\", \"x\": [52518.3244830382, 65661.6939297088, 17311.9979202848, 11601.4005261348, 59237.6708212188, 12073.461509431001, 4422.0457429343, 2417.7674660576, 43124.2946857302, 8234.4545367667, 57807.1620352378, 4793.5568348331, 12100.586698631101, 27886.8608901388, 44251.7942246991, 8390.3531436861, 4326.4376075194, 98525.9543531223, 2619.2190071357, 18236.176111150402, 3355.8295616012, 4653.2336642971, 8650.653672399201, 2914.5102731032002], \"xaxis\": \"x\", \"y\": [86.241, 78.25, 61.428000000000004, 57.247, 100.0, 56.641000000000005, 24.232, 55.593999999999994, 81.414, 36.29, 100.0, 31.141, 68.657, 77.16, 86.699, 47.408, 13.345, 100.0, 24.67, 51.43, 31.32, 64.014, 37.34, 25.525], \"yaxis\": \"y\"}, {\"hoverlabel\": {\"namelength\": 0}, \"hovertemplate\": \"<b>%{hovertext}</b><br><br>Region=Middle East & North Africa<br>GDP per capita=%{x}<br>% of Urban Population=%{y}\", \"hovertext\": [\"Bahrain\", \"Djibouti\", \"Algeria\", \"Egypt, Arab Rep.\", \"Iran, Islamic Rep.\", \"Iraq\", \"Israel\", \"Jordan\", \"Lebanon\", \"Libya\", \"Morocco\", \"Malta\", \"West Bank and Gaza\", \"Qatar\", \"Saudi Arabia\", \"Tunisia\"], \"legendgroup\": \"Region=Middle East & North Africa\", \"marker\": {\"color\": \"#19d3f3\", \"symbol\": \"circle\"}, \"mode\": \"markers\", \"name\": \"Region=Middle East & North Africa\", \"showlegend\": true, \"type\": \"scatter\", \"x\": [43181.2106255754, 5782.1106254149, 11268.2644722324, 12607.7621145597, 13116.0723596195, 9763.5099913334, 41854.9341515478, 10355.631317089, 12288.758524216399, 10846.9438234929, 7296.1580646202, 42640.1161038759, 5690.2875170376, 89948.61058023, 46762.4692706716, 10261.6908447281], \"xaxis\": \"x\", \"y\": [89.506, 78.062, 73.733, 42.783, 75.874, 70.893, 92.587, 91.41799999999999, 88.925, 80.691, 63.532, 94.744, 76.719, 99.235, 84.287, 69.568], \"yaxis\": \"y\"}, {\"hoverlabel\": {\"namelength\": 0}, \"hovertemplate\": \"<b>%{hovertext}</b><br><br>Region=North America<br>GDP per capita=%{x}<br>% of Urban Population=%{y}\", \"hovertext\": [\"Canada\", \"United States\"], \"legendgroup\": \"Region=North America\", \"marker\": {\"color\": \"#FF6692\", \"symbol\": \"circle\"}, \"mode\": \"markers\", \"name\": \"Region=North America\", \"showlegend\": true, \"type\": \"scatter\", \"x\": [48072.583756378, 63543.577788724004], \"xaxis\": \"x\", \"y\": [81.562, 82.664], \"yaxis\": \"y\"}],\n",
              "                        {\"legend\": {\"tracegroupgap\": 0}, \"template\": {\"data\": {\"bar\": [{\"error_x\": {\"color\": \"#2a3f5f\"}, \"error_y\": {\"color\": \"#2a3f5f\"}, \"marker\": {\"line\": {\"color\": \"#E5ECF6\", \"width\": 0.5}}, \"type\": \"bar\"}], \"barpolar\": [{\"marker\": {\"line\": {\"color\": \"#E5ECF6\", \"width\": 0.5}}, \"type\": \"barpolar\"}], \"carpet\": [{\"aaxis\": {\"endlinecolor\": \"#2a3f5f\", \"gridcolor\": \"white\", \"linecolor\": \"white\", \"minorgridcolor\": \"white\", \"startlinecolor\": \"#2a3f5f\"}, \"baxis\": {\"endlinecolor\": \"#2a3f5f\", \"gridcolor\": \"white\", \"linecolor\": \"white\", \"minorgridcolor\": \"white\", \"startlinecolor\": \"#2a3f5f\"}, \"type\": \"carpet\"}], \"choropleth\": [{\"colorbar\": {\"outlinewidth\": 0, \"ticks\": \"\"}, \"type\": \"choropleth\"}], \"contour\": [{\"colorbar\": {\"outlinewidth\": 0, \"ticks\": \"\"}, \"colorscale\": [[0.0, \"#0d0887\"], [0.1111111111111111, \"#46039f\"], [0.2222222222222222, \"#7201a8\"], [0.3333333333333333, \"#9c179e\"], [0.4444444444444444, \"#bd3786\"], [0.5555555555555556, \"#d8576b\"], [0.6666666666666666, \"#ed7953\"], [0.7777777777777778, \"#fb9f3a\"], [0.8888888888888888, \"#fdca26\"], [1.0, \"#f0f921\"]], \"type\": \"contour\"}], \"contourcarpet\": [{\"colorbar\": {\"outlinewidth\": 0, \"ticks\": \"\"}, \"type\": \"contourcarpet\"}], \"heatmap\": [{\"colorbar\": {\"outlinewidth\": 0, \"ticks\": \"\"}, \"colorscale\": [[0.0, \"#0d0887\"], [0.1111111111111111, \"#46039f\"], [0.2222222222222222, \"#7201a8\"], [0.3333333333333333, \"#9c179e\"], [0.4444444444444444, \"#bd3786\"], [0.5555555555555556, \"#d8576b\"], [0.6666666666666666, \"#ed7953\"], [0.7777777777777778, \"#fb9f3a\"], [0.8888888888888888, \"#fdca26\"], [1.0, \"#f0f921\"]], \"type\": \"heatmap\"}], \"heatmapgl\": [{\"colorbar\": {\"outlinewidth\": 0, \"ticks\": \"\"}, \"colorscale\": [[0.0, \"#0d0887\"], [0.1111111111111111, \"#46039f\"], [0.2222222222222222, \"#7201a8\"], [0.3333333333333333, \"#9c179e\"], [0.4444444444444444, \"#bd3786\"], [0.5555555555555556, \"#d8576b\"], [0.6666666666666666, \"#ed7953\"], [0.7777777777777778, \"#fb9f3a\"], [0.8888888888888888, \"#fdca26\"], [1.0, \"#f0f921\"]], \"type\": \"heatmapgl\"}], \"histogram\": [{\"marker\": {\"colorbar\": {\"outlinewidth\": 0, \"ticks\": \"\"}}, \"type\": \"histogram\"}], \"histogram2d\": [{\"colorbar\": {\"outlinewidth\": 0, \"ticks\": \"\"}, \"colorscale\": [[0.0, \"#0d0887\"], [0.1111111111111111, \"#46039f\"], [0.2222222222222222, \"#7201a8\"], [0.3333333333333333, \"#9c179e\"], [0.4444444444444444, \"#bd3786\"], [0.5555555555555556, \"#d8576b\"], [0.6666666666666666, \"#ed7953\"], [0.7777777777777778, \"#fb9f3a\"], [0.8888888888888888, \"#fdca26\"], [1.0, \"#f0f921\"]], \"type\": \"histogram2d\"}], \"histogram2dcontour\": [{\"colorbar\": {\"outlinewidth\": 0, \"ticks\": \"\"}, \"colorscale\": [[0.0, \"#0d0887\"], [0.1111111111111111, \"#46039f\"], [0.2222222222222222, \"#7201a8\"], [0.3333333333333333, \"#9c179e\"], [0.4444444444444444, \"#bd3786\"], [0.5555555555555556, \"#d8576b\"], [0.6666666666666666, \"#ed7953\"], [0.7777777777777778, \"#fb9f3a\"], [0.8888888888888888, \"#fdca26\"], [1.0, \"#f0f921\"]], \"type\": \"histogram2dcontour\"}], \"mesh3d\": [{\"colorbar\": {\"outlinewidth\": 0, \"ticks\": \"\"}, \"type\": \"mesh3d\"}], \"parcoords\": [{\"line\": {\"colorbar\": {\"outlinewidth\": 0, \"ticks\": \"\"}}, \"type\": \"parcoords\"}], \"pie\": [{\"automargin\": true, \"type\": \"pie\"}], \"scatter\": [{\"marker\": {\"colorbar\": {\"outlinewidth\": 0, \"ticks\": \"\"}}, \"type\": \"scatter\"}], \"scatter3d\": [{\"line\": {\"colorbar\": {\"outlinewidth\": 0, \"ticks\": \"\"}}, \"marker\": {\"colorbar\": {\"outlinewidth\": 0, \"ticks\": \"\"}}, \"type\": \"scatter3d\"}], \"scattercarpet\": [{\"marker\": {\"colorbar\": {\"outlinewidth\": 0, \"ticks\": \"\"}}, \"type\": \"scattercarpet\"}], \"scattergeo\": [{\"marker\": {\"colorbar\": {\"outlinewidth\": 0, \"ticks\": \"\"}}, \"type\": \"scattergeo\"}], \"scattergl\": [{\"marker\": {\"colorbar\": {\"outlinewidth\": 0, \"ticks\": \"\"}}, \"type\": \"scattergl\"}], \"scattermapbox\": [{\"marker\": {\"colorbar\": {\"outlinewidth\": 0, \"ticks\": \"\"}}, \"type\": \"scattermapbox\"}], \"scatterpolar\": [{\"marker\": {\"colorbar\": {\"outlinewidth\": 0, \"ticks\": \"\"}}, \"type\": \"scatterpolar\"}], \"scatterpolargl\": [{\"marker\": {\"colorbar\": {\"outlinewidth\": 0, \"ticks\": \"\"}}, \"type\": \"scatterpolargl\"}], \"scatterternary\": [{\"marker\": {\"colorbar\": {\"outlinewidth\": 0, \"ticks\": \"\"}}, \"type\": \"scatterternary\"}], \"surface\": [{\"colorbar\": {\"outlinewidth\": 0, \"ticks\": \"\"}, \"colorscale\": [[0.0, \"#0d0887\"], [0.1111111111111111, \"#46039f\"], [0.2222222222222222, \"#7201a8\"], [0.3333333333333333, \"#9c179e\"], [0.4444444444444444, \"#bd3786\"], [0.5555555555555556, \"#d8576b\"], [0.6666666666666666, \"#ed7953\"], [0.7777777777777778, \"#fb9f3a\"], [0.8888888888888888, \"#fdca26\"], [1.0, \"#f0f921\"]], \"type\": \"surface\"}], \"table\": [{\"cells\": {\"fill\": {\"color\": \"#EBF0F8\"}, \"line\": {\"color\": \"white\"}}, \"header\": {\"fill\": {\"color\": \"#C8D4E3\"}, \"line\": {\"color\": \"white\"}}, \"type\": \"table\"}]}, \"layout\": {\"annotationdefaults\": {\"arrowcolor\": \"#2a3f5f\", \"arrowhead\": 0, \"arrowwidth\": 1}, \"coloraxis\": {\"colorbar\": {\"outlinewidth\": 0, \"ticks\": \"\"}}, \"colorscale\": {\"diverging\": [[0, \"#8e0152\"], [0.1, \"#c51b7d\"], [0.2, \"#de77ae\"], [0.3, \"#f1b6da\"], [0.4, \"#fde0ef\"], [0.5, \"#f7f7f7\"], [0.6, \"#e6f5d0\"], [0.7, \"#b8e186\"], [0.8, \"#7fbc41\"], [0.9, \"#4d9221\"], [1, \"#276419\"]], \"sequential\": [[0.0, \"#0d0887\"], [0.1111111111111111, \"#46039f\"], [0.2222222222222222, \"#7201a8\"], [0.3333333333333333, \"#9c179e\"], [0.4444444444444444, \"#bd3786\"], [0.5555555555555556, \"#d8576b\"], [0.6666666666666666, \"#ed7953\"], [0.7777777777777778, \"#fb9f3a\"], [0.8888888888888888, \"#fdca26\"], [1.0, \"#f0f921\"]], \"sequentialminus\": [[0.0, \"#0d0887\"], [0.1111111111111111, \"#46039f\"], [0.2222222222222222, \"#7201a8\"], [0.3333333333333333, \"#9c179e\"], [0.4444444444444444, \"#bd3786\"], [0.5555555555555556, \"#d8576b\"], [0.6666666666666666, \"#ed7953\"], [0.7777777777777778, \"#fb9f3a\"], [0.8888888888888888, \"#fdca26\"], [1.0, \"#f0f921\"]]}, \"colorway\": [\"#636efa\", \"#EF553B\", \"#00cc96\", \"#ab63fa\", \"#FFA15A\", \"#19d3f3\", \"#FF6692\", \"#B6E880\", \"#FF97FF\", \"#FECB52\"], \"font\": {\"color\": \"#2a3f5f\"}, \"geo\": {\"bgcolor\": \"white\", \"lakecolor\": \"white\", \"landcolor\": \"#E5ECF6\", \"showlakes\": true, \"showland\": true, \"subunitcolor\": \"white\"}, \"hoverlabel\": {\"align\": \"left\"}, \"hovermode\": \"closest\", \"mapbox\": {\"style\": \"light\"}, \"paper_bgcolor\": \"white\", \"plot_bgcolor\": \"#E5ECF6\", \"polar\": {\"angularaxis\": {\"gridcolor\": \"white\", \"linecolor\": \"white\", \"ticks\": \"\"}, \"bgcolor\": \"#E5ECF6\", \"radialaxis\": {\"gridcolor\": \"white\", \"linecolor\": \"white\", \"ticks\": \"\"}}, \"scene\": {\"xaxis\": {\"backgroundcolor\": \"#E5ECF6\", \"gridcolor\": \"white\", \"gridwidth\": 2, \"linecolor\": \"white\", \"showbackground\": true, \"ticks\": \"\", \"zerolinecolor\": \"white\"}, \"yaxis\": {\"backgroundcolor\": \"#E5ECF6\", \"gridcolor\": \"white\", \"gridwidth\": 2, \"linecolor\": \"white\", \"showbackground\": true, \"ticks\": \"\", \"zerolinecolor\": \"white\"}, \"zaxis\": {\"backgroundcolor\": \"#E5ECF6\", \"gridcolor\": \"white\", \"gridwidth\": 2, \"linecolor\": \"white\", \"showbackground\": true, \"ticks\": \"\", \"zerolinecolor\": \"white\"}}, \"shapedefaults\": {\"line\": {\"color\": \"#2a3f5f\"}}, \"ternary\": {\"aaxis\": {\"gridcolor\": \"white\", \"linecolor\": \"white\", \"ticks\": \"\"}, \"baxis\": {\"gridcolor\": \"white\", \"linecolor\": \"white\", \"ticks\": \"\"}, \"bgcolor\": \"#E5ECF6\", \"caxis\": {\"gridcolor\": \"white\", \"linecolor\": \"white\", \"ticks\": \"\"}}, \"title\": {\"x\": 0.05}, \"xaxis\": {\"automargin\": true, \"gridcolor\": \"white\", \"linecolor\": \"white\", \"ticks\": \"\", \"title\": {\"standoff\": 15}, \"zerolinecolor\": \"white\", \"zerolinewidth\": 2}, \"yaxis\": {\"automargin\": true, \"gridcolor\": \"white\", \"linecolor\": \"white\", \"ticks\": \"\", \"title\": {\"standoff\": 15}, \"zerolinecolor\": \"white\", \"zerolinewidth\": 2}}}, \"title\": {\"text\": \"2020 Urban Population vs. GDP\"}, \"xaxis\": {\"anchor\": \"y\", \"domain\": [0.0, 1.0], \"title\": {\"text\": \"GDP per capita\"}}, \"yaxis\": {\"anchor\": \"x\", \"domain\": [0.0, 1.0], \"title\": {\"text\": \"% of Urban Population\"}}},\n",
              "                        {\"responsive\": true}\n",
              "                    ).then(function(){\n",
              "                            \n",
              "var gd = document.getElementById('4d27dc86-2dfe-4b60-8985-5ba9cdcc2208');\n",
              "var x = new MutationObserver(function (mutations, observer) {{\n",
              "        var display = window.getComputedStyle(gd).display;\n",
              "        if (!display || display === 'none') {{\n",
              "            console.log([gd, 'removed!']);\n",
              "            Plotly.purge(gd);\n",
              "            observer.disconnect();\n",
              "        }}\n",
              "}});\n",
              "\n",
              "// Listen for the removal of the full notebook cells\n",
              "var notebookContainer = gd.closest('#notebook-container');\n",
              "if (notebookContainer) {{\n",
              "    x.observe(notebookContainer, {childList: true});\n",
              "}}\n",
              "\n",
              "// Listen for the clearing of the current output cell\n",
              "var outputEl = gd.closest('.output');\n",
              "if (outputEl) {{\n",
              "    x.observe(outputEl, {childList: true});\n",
              "}}\n",
              "\n",
              "                        })\n",
              "                };\n",
              "                \n",
              "            </script>\n",
              "        </div>\n",
              "</body>\n",
              "</html>"
            ]
          },
          "metadata": {}
        }
      ]
    },
    {
      "cell_type": "code",
      "metadata": {
        "colab": {
          "base_uri": "https://localhost:8080/",
          "height": 610
        },
        "id": "Ac1I5ldXh1Sk",
        "outputId": "50247f96-aacc-4e9f-c4af-959e52d1269d"
      },
      "source": [
        "fig = px.scatter(\n",
        "    df_pivot,\n",
        "    x = 'NY.GDP.PCAP.PP.CD',\n",
        "    y = 'SP.URB.TOTL.IN.ZS',\n",
        "    title = \"2020 Urban Population vs. GDP\",\n",
        "    labels = {'NY.GDP.PCAP.PP.CD':'GDP per capita', 'SP.URB.TOTL.IN.ZS':'% of Urban Population'},\n",
        "    hover_name = 'Country Name',\n",
        "    trendline=\"ols\"\n",
        ")\n",
        "\n",
        "fig.update_traces()\n",
        "\n",
        "fig.show()"
      ],
      "execution_count": 12,
      "outputs": [
        {
          "output_type": "stream",
          "name": "stderr",
          "text": [
            "/usr/local/lib/python3.7/dist-packages/statsmodels/tools/_testing.py:19: FutureWarning:\n",
            "\n",
            "pandas.util.testing is deprecated. Use the functions in the public API at pandas.testing instead.\n",
            "\n"
          ]
        },
        {
          "output_type": "display_data",
          "data": {
            "text/html": [
              "<html>\n",
              "<head><meta charset=\"utf-8\" /></head>\n",
              "<body>\n",
              "    <div>\n",
              "            <script src=\"https://cdnjs.cloudflare.com/ajax/libs/mathjax/2.7.5/MathJax.js?config=TeX-AMS-MML_SVG\"></script><script type=\"text/javascript\">if (window.MathJax) {MathJax.Hub.Config({SVG: {font: \"STIX-Web\"}});}</script>\n",
              "                <script type=\"text/javascript\">window.PlotlyConfig = {MathJaxConfig: 'local'};</script>\n",
              "        <script src=\"https://cdn.plot.ly/plotly-latest.min.js\"></script>    \n",
              "            <div id=\"60ef9893-d780-4f85-8694-b3e7ec210645\" class=\"plotly-graph-div\" style=\"height:525px; width:100%;\"></div>\n",
              "            <script type=\"text/javascript\">\n",
              "                \n",
              "                    window.PLOTLYENV=window.PLOTLYENV || {};\n",
              "                    \n",
              "                if (document.getElementById(\"60ef9893-d780-4f85-8694-b3e7ec210645\")) {\n",
              "                    Plotly.newPlot(\n",
              "                        '60ef9893-d780-4f85-8694-b3e7ec210645',\n",
              "                        [{\"hoverlabel\": {\"namelength\": 0}, \"hovertemplate\": \"<b>%{hovertext}</b><br><br>GDP per capita=%{x}<br>% of Urban Population=%{y}\", \"hovertext\": [\"Afghanistan\", \"Angola\", \"Albania\", \"Argentina\", \"Armenia\", \"Antigua and Barbuda\", \"Australia\", \"Austria\", \"Azerbaijan\", \"Burundi\", \"Belgium\", \"Benin\", \"Burkina Faso\", \"Bangladesh\", \"Bulgaria\", \"Bahrain\", \"Bahamas, The\", \"Bosnia and Herzegovina\", \"Belarus\", \"Belize\", \"Bolivia\", \"Brazil\", \"Barbados\", \"Brunei Darussalam\", \"Bhutan\", \"Botswana\", \"Central African Republic\", \"Canada\", \"Switzerland\", \"Chile\", \"China\", \"Cote d'Ivoire\", \"Cameroon\", \"Congo, Dem. Rep.\", \"Congo, Rep.\", \"Colombia\", \"Comoros\", \"Cabo Verde\", \"Costa Rica\", \"Cyprus\", \"Czech Republic\", \"Germany\", \"Djibouti\", \"Dominica\", \"Denmark\", \"Dominican Republic\", \"Algeria\", \"Ecuador\", \"Egypt, Arab Rep.\", \"Spain\", \"Estonia\", \"Ethiopia\", \"Finland\", \"Fiji\", \"France\", \"Gabon\", \"United Kingdom\", \"Georgia\", \"Ghana\", \"Guinea\", \"Gambia, The\", \"Guinea-Bissau\", \"Equatorial Guinea\", \"Greece\", \"Grenada\", \"Guatemala\", \"Guyana\", \"Hong Kong SAR, China\", \"Honduras\", \"Croatia\", \"Haiti\", \"Hungary\", \"Indonesia\", \"India\", \"Ireland\", \"Iran, Islamic Rep.\", \"Iraq\", \"Iceland\", \"Israel\", \"Italy\", \"Jamaica\", \"Jordan\", \"Kazakhstan\", \"Kenya\", \"Kyrgyz Republic\", \"Cambodia\", \"Kiribati\", \"St. Kitts and Nevis\", \"Korea, Rep.\", \"Lao PDR\", \"Lebanon\", \"Liberia\", \"Libya\", \"St. Lucia\", \"Sri Lanka\", \"Lesotho\", \"Lithuania\", \"Luxembourg\", \"Latvia\", \"Macao SAR, China\", \"Morocco\", \"Moldova\", \"Madagascar\", \"Maldives\", \"Mexico\", \"North Macedonia\", \"Mali\", \"Malta\", \"Myanmar\", \"Montenegro\", \"Mongolia\", \"Mozambique\", \"Mauritania\", \"Mauritius\", \"Malawi\", \"Malaysia\", \"Namibia\", \"Niger\", \"Nigeria\", \"Nicaragua\", \"Netherlands\", \"Norway\", \"Nepal\", \"New Zealand\", \"Pakistan\", \"Panama\", \"Peru\", \"Philippines\", \"Papua New Guinea\", \"Poland\", \"Puerto Rico\", \"Portugal\", \"Paraguay\", \"West Bank and Gaza\", \"Qatar\", \"Romania\", \"Russian Federation\", \"Rwanda\", \"Saudi Arabia\", \"Sudan\", \"Senegal\", \"Singapore\", \"Solomon Islands\", \"Sierra Leone\", \"El Salvador\", \"Somalia\", \"Serbia\", \"Sao Tome and Principe\", \"Suriname\", \"Slovak Republic\", \"Slovenia\", \"Sweden\", \"Eswatini\", \"Seychelles\", \"Turks and Caicos Islands\", \"Chad\", \"Togo\", \"Thailand\", \"Tajikistan\", \"Timor-Leste\", \"Trinidad and Tobago\", \"Tunisia\", \"Turkey\", \"Tuvalu\", \"Tanzania\", \"Uganda\", \"Ukraine\", \"Uruguay\", \"United States\", \"Uzbekistan\", \"St. Vincent and the Grenadines\", \"Vietnam\", \"Vanuatu\", \"South Africa\", \"Zambia\", \"Zimbabwe\"], \"legendgroup\": \"\", \"marker\": {\"color\": \"#636efa\", \"symbol\": \"circle\"}, \"mode\": \"markers\", \"name\": \"\", \"showlegend\": false, \"type\": \"scatter\", \"x\": [2087.6363940006, 6538.4520538729, 13817.7589656756, 20767.6105001703, 13284.160830728999, 18942.3880651775, 52518.3244830382, 55097.461225832805, 14451.983696650701, 771.2096187616, 51968.1920227771, 3505.6351635826, 2279.1561732032997, 5082.6807503643, 24367.3239228848, 43181.2106255754, 32453.5295740897, 15611.791305994198, 20199.6984928506, 6455.9617526987, 8367.3271590664, 14836.307100914299, 13576.801799531699, 65661.6939297088, 11508.1741774838, 16920.8466745308, 979.5830660874001, 48072.583756378, 71352.3525990268, 25067.6916009163, 17311.9979202848, 5458.236651125801, 3772.7449855499, 1131.0906069864, 3638.5557749751, 14565.3680522873, 3313.1704671415005, 6377.0258315573, 21031.8175436511, 38458.1912618072, 41737.418040924706, 53694.3547123431, 5782.1106254149, 10434.4729370643, 60398.4533430492, 17936.7346849962, 11268.2644722324, 10896.427433954399, 12607.7621145597, 38334.6113444231, 38394.9175345121, 2422.9577888954, 51089.7853321567, 11601.4005261348, 46226.950535686905, 15190.6386251211, 44916.2283385249, 14863.0173692196, 5596.3070706446, 2817.4918088079, 2278.0278146917003, 1948.9195404973002, 17941.5996995858, 28463.7886828947, 15893.2153791848, 8854.2024639096, 19705.7926684251, 59237.6708212188, 5420.560196329, 28503.8805738916, 2925.3653238707, 33084.0962334341, 12073.461509431001, 6454.347356381801, 93612.1659106094, 13116.0723596195, 9763.5099913334, 55216.0261783821, 41854.9341515478, 41839.9910228994, 9221.5933050965, 10355.631317089, 26728.5439182062, 4452.2060236705, 4965.0318757531, 4422.0457429343, 2417.7674660576, 24536.6518405639, 43124.2946857302, 8234.4545367667, 12288.758524216399, 1428.1892996043, 10846.9438234929, 12943.8219371625, 13225.4088007871, 2405.0965174457997, 38734.7293153001, 118359.52616184301, 32019.222335100698, 57807.1620352378, 7296.1580646202, 13001.550045211, 1593.0712660448, 13765.635981905702, 18833.082415227702, 16926.624142555702, 2338.5075230461, 42640.1161038759, 4793.5568348331, 20566.6384071985, 12100.586698631101, 1296.5750349477, 5256.874547408, 20538.6949103031, 1568.4247812661, 27886.8608901388, 9382.2175367398, 1262.6041755418, 5186.7234837793, 5570.0998748493, 59228.834953760495, 63197.98147058651, 4008.7465803348, 44251.7942246991, 4876.6305536435, 26775.6944526998, 11879.2358960654, 8390.3531436861, 4326.4376075194, 34264.7597598664, 35279.3470349392, 34495.9224734636, 13012.8756954841, 5690.2875170376, 89948.61058023, 31945.749656632797, 28213.447838229702, 2213.9611897184, 46762.4692706716, 4243.7819360945, 3481.3099218762, 98525.9543531223, 2619.2190071357, 1738.556326941, 8498.9687204029, 875.169599243, 19230.6300632762, 4274.099011522199, 17015.9602788948, 31832.394609507002, 39593.3074407023, 54563.1214122072, 8853.6042434463, 25699.7290739829, 22281.9221529183, 1603.3784565899, 2223.6314906298003, 18236.176111150402, 3858.4294154021004, 3355.8295616012, 25031.1921587721, 10261.6908447281, 28119.453039890497, 4653.2336642971, 2780.0555482202003, 2297.178684407, 13056.7020745176, 22795.058750005297, 63543.577788724004, 7378.2547203592, 12770.149236556, 8650.653672399201, 2914.5102731032002, 12095.856289625, 3449.6093221154997, 2895.4156454758004], \"xaxis\": \"x\", \"y\": [26.026, 66.825, 62.111999999999995, 92.111, 63.313, 24.433000000000003, 86.241, 58.748000000000005, 56.397, 13.708, 98.079, 48.415, 30.607, 38.177, 75.686, 89.506, 83.245, 49.02, 79.483, 46.025, 70.123, 87.073, 31.191, 78.25, 42.316, 70.877, 42.198, 81.562, 73.915, 87.727, 61.428000000000004, 51.706, 57.56, 45.638000000000005, 67.829, 81.425, 29.38, 66.652, 80.771, 66.821, 74.061, 77.453, 78.062, 71.09, 88.116, 82.54, 73.733, 64.166, 42.783, 80.81, 69.229, 21.695, 85.51700000000001, 57.247, 80.975, 90.09200000000001, 83.90299999999999, 59.453, 57.349, 36.875, 62.582, 44.196000000000005, 73.1, 79.715, 36.537, 51.836000000000006, 26.785999999999998, 100.0, 58.358999999999995, 57.553000000000004, 57.088, 71.942, 56.641000000000005, 34.926, 63.653, 75.874, 70.893, 93.898, 92.587, 71.039, 56.31100000000001, 91.41799999999999, 57.67100000000001, 27.995, 36.856, 24.232, 55.593999999999994, 30.843000000000004, 81.414, 36.29, 88.925, 52.089, 80.691, 18.840999999999998, 18.713, 29.028000000000002, 68.046, 91.45299999999999, 68.315, 100.0, 63.532, 42.849, 38.534, 40.669000000000004, 80.73100000000001, 58.482, 43.909, 94.744, 31.141, 67.488, 68.657, 37.074, 55.327, 40.76, 17.427, 77.16, 52.033, 16.625999999999998, 51.958, 59.012, 92.236, 82.97399999999999, 20.576, 86.699, 37.165, 68.414, 78.297, 47.408, 13.345, 60.043, 93.581, 66.31, 62.183, 76.719, 99.235, 54.193999999999996, 74.75399999999999, 17.432000000000002, 84.287, 35.253, 48.122, 100.0, 24.67, 42.923, 73.444, 46.141000000000005, 56.446000000000005, 74.354, 66.149, 53.76, 55.118, 87.977, 24.171, 57.54600000000001, 93.605, 23.52, 42.8, 51.43, 27.506, 31.32, 53.214, 69.568, 76.105, 64.014, 35.227, 24.954, 69.608, 95.515, 82.664, 50.416000000000004, 53.032, 37.34, 25.525, 67.354, 44.629, 32.242], \"yaxis\": \"y\"}, {\"hoverlabel\": {\"namelength\": 0}, \"hovertemplate\": \"<b>OLS trendline</b><br>SP.URB.TOTL.IN.ZS = 0.000663 * NY.GDP.PCAP.PP.CD + 45.986841<br>R<sup>2</sup>=0.392070<br><br>GDP per capita=%{x}<br>% of Urban Population=%{y} <b>(trend)</b>\", \"legendgroup\": \"\", \"marker\": {\"color\": \"#636efa\", \"symbol\": \"circle\"}, \"mode\": \"lines\", \"name\": \"\", \"showlegend\": false, \"type\": \"scatter\", \"x\": [771.2096187616, 875.169599243, 979.5830660874001, 1131.0906069864, 1262.6041755418, 1296.5750349477, 1428.1892996043, 1568.4247812661, 1593.0712660448, 1603.3784565899, 1738.556326941, 1948.9195404973002, 2087.6363940006, 2213.9611897184, 2223.6314906298003, 2278.0278146917003, 2279.1561732032997, 2297.178684407, 2338.5075230461, 2405.0965174457997, 2417.7674660576, 2422.9577888954, 2619.2190071357, 2780.0555482202003, 2817.4918088079, 2895.4156454758004, 2914.5102731032002, 2925.3653238707, 3313.1704671415005, 3355.8295616012, 3449.6093221154997, 3481.3099218762, 3505.6351635826, 3638.5557749751, 3772.7449855499, 3858.4294154021004, 4008.7465803348, 4243.7819360945, 4274.099011522199, 4326.4376075194, 4422.0457429343, 4452.2060236705, 4653.2336642971, 4793.5568348331, 4876.6305536435, 4965.0318757531, 5082.6807503643, 5186.7234837793, 5256.874547408, 5420.560196329, 5458.236651125801, 5570.0998748493, 5596.3070706446, 5690.2875170376, 5782.1106254149, 6377.0258315573, 6454.347356381801, 6455.9617526987, 6538.4520538729, 7296.1580646202, 7378.2547203592, 8234.4545367667, 8367.3271590664, 8390.3531436861, 8498.9687204029, 8650.653672399201, 8853.6042434463, 8854.2024639096, 9221.5933050965, 9382.2175367398, 9763.5099913334, 10261.6908447281, 10355.631317089, 10434.4729370643, 10846.9438234929, 10896.427433954399, 11268.2644722324, 11508.1741774838, 11601.4005261348, 11879.2358960654, 12073.461509431001, 12095.856289625, 12100.586698631101, 12288.758524216399, 12607.7621145597, 12770.149236556, 12943.8219371625, 13001.550045211, 13012.8756954841, 13056.7020745176, 13116.0723596195, 13225.4088007871, 13284.160830728999, 13576.801799531699, 13765.635981905702, 13817.7589656756, 14451.983696650701, 14565.3680522873, 14836.307100914299, 14863.0173692196, 15190.6386251211, 15611.791305994198, 15893.2153791848, 16920.8466745308, 16926.624142555702, 17015.9602788948, 17311.9979202848, 17936.7346849962, 17941.5996995858, 18236.176111150402, 18833.082415227702, 18942.3880651775, 19230.6300632762, 19705.7926684251, 20199.6984928506, 20538.6949103031, 20566.6384071985, 20767.6105001703, 21031.8175436511, 22281.9221529183, 22795.058750005297, 24367.3239228848, 24536.6518405639, 25031.1921587721, 25067.6916009163, 25699.7290739829, 26728.5439182062, 26775.6944526998, 27886.8608901388, 28119.453039890497, 28213.447838229702, 28463.7886828947, 28503.8805738916, 31832.394609507002, 31945.749656632797, 32019.222335100698, 32453.5295740897, 33084.0962334341, 34264.7597598664, 34495.9224734636, 35279.3470349392, 38334.6113444231, 38394.9175345121, 38458.1912618072, 38734.7293153001, 39593.3074407023, 41737.418040924706, 41839.9910228994, 41854.9341515478, 42640.1161038759, 43124.2946857302, 43181.2106255754, 44251.7942246991, 44916.2283385249, 46226.950535686905, 46762.4692706716, 48072.583756378, 51089.7853321567, 51968.1920227771, 52518.3244830382, 53694.3547123431, 54563.1214122072, 55097.461225832805, 55216.0261783821, 57807.1620352378, 59228.834953760495, 59237.6708212188, 60398.4533430492, 63197.98147058651, 63543.577788724004, 65661.6939297088, 71352.3525990268, 89948.61058023, 93612.1659106094, 98525.9543531223, 118359.52616184301], \"xaxis\": \"x\", \"y\": [46.49825069667914, 46.56718937491938, 46.63642877224711, 46.73689752536384, 46.824107733992996, 46.84663473077852, 46.93391171371918, 47.026905659114135, 47.04324941058508, 47.050084387748974, 47.13972449412628, 47.279222037563535, 47.371208939502914, 47.454978332354145, 47.46139097075529, 47.49746264626533, 47.49821089134974, 47.51016210656929, 47.53756837863466, 47.58172534401696, 47.59012779316424, 47.59356963678927, 47.72371576525768, 47.83037083102196, 47.85519582917242, 47.90686923540449, 47.91953140005696, 47.926729678170105, 48.18389377023761, 48.21218217096027, 48.27437006966518, 48.2953915958025, 48.3115223222931, 48.39966557912954, 48.488650078436784, 48.54546974416225, 48.645149126740954, 48.80100743578225, 48.82111150946924, 48.855818649777355, 48.91921899339031, 48.939219092271436, 49.07252596449648, 49.16557805875848, 49.22066649129541, 49.27928780184881, 49.35730395647476, 49.426297510426174, 49.472816580373234, 49.58136096669628, 49.60634524413114, 49.68052477698099, 49.69790347819029, 49.76022445713584, 49.82111484682357, 50.21561923001566, 50.266893226954075, 50.26796377686883, 50.32266532937255, 50.82512070338975, 50.87956121894567, 51.447330502657955, 51.535441936627436, 51.55071109056063, 51.62273702073573, 51.72332341995528, 51.85790543941412, 51.858302135602834, 52.10192895114967, 52.20844322877426, 52.461288580619645, 52.79164579498801, 52.853940266070396, 52.9062222792667, 53.17974289355784, 53.212556815645684, 53.45913202488436, 53.6182226470685, 53.68004356338075, 53.864283720821234, 53.993079984574095, 54.00793056975991, 54.011067432068906, 54.13584926521117, 54.347389184421644, 54.45507248237748, 54.570239553117425, 54.60852062481198, 54.61603097020088, 54.64509342893389, 54.68446347270187, 54.75696742761493, 54.795927489644285, 54.989985640624894, 55.115206700490035, 55.14977086249155, 55.570342456082, 55.645530692694905, 55.82519771273012, 55.842910014943755, 56.060164541547834, 56.339442288833666, 56.52606221258611, 57.20751235225916, 57.211343547757345, 57.270584758940615, 57.466895335494016, 57.88117520172574, 57.884401324642205, 58.079742920129036, 58.475567654279665, 58.54805119070239, 58.739192265087304, 59.054285455721505, 59.38180778261479, 59.606605486876894, 59.62513557636382, 59.75840561343475, 59.93360845855828, 60.762586677155866, 61.10286145016047, 62.145473062432416, 62.2577589899587, 62.585702066861074, 62.609905835333095, 63.02902699897459, 63.71126198195807, 63.7425287781931, 64.47937333267687, 64.6336114856535, 64.69594198176323, 64.86194977496243, 64.88853579355035, 67.0957635850221, 67.17093238636784, 67.2196541090624, 67.50765500005357, 67.925800827287, 68.70873078342781, 68.862021038582, 69.38153108003232, 71.40755957864366, 71.44755024635239, 71.4895087683419, 71.6728886401219, 72.24223504493196, 73.66405284535625, 73.73207176732748, 73.7419809605865, 74.26265637550037, 74.58372830443594, 74.6214708054018, 75.33140378083621, 75.77200803424958, 76.64118341687345, 76.99630039161484, 77.86507278431597, 79.86586085348804, 80.4483561168417, 80.81316384854607, 81.59302133989438, 82.1691240643315, 82.52345926439511, 82.60208289510872, 84.32033524842154, 85.26308505886837, 85.26894436185074, 86.0386906854726, 87.89513359663033, 88.1243078737586, 89.52888804434579, 93.3025179080925, 105.63420015256928, 108.0636028993457, 111.32206907845013, 124.47424762777844], \"yaxis\": \"y\"}],\n",
              "                        {\"legend\": {\"tracegroupgap\": 0}, \"template\": {\"data\": {\"bar\": [{\"error_x\": {\"color\": \"#2a3f5f\"}, \"error_y\": {\"color\": \"#2a3f5f\"}, \"marker\": {\"line\": {\"color\": \"#E5ECF6\", \"width\": 0.5}}, \"type\": \"bar\"}], \"barpolar\": [{\"marker\": {\"line\": {\"color\": \"#E5ECF6\", \"width\": 0.5}}, \"type\": \"barpolar\"}], \"carpet\": [{\"aaxis\": {\"endlinecolor\": \"#2a3f5f\", \"gridcolor\": \"white\", \"linecolor\": \"white\", \"minorgridcolor\": \"white\", \"startlinecolor\": \"#2a3f5f\"}, \"baxis\": {\"endlinecolor\": \"#2a3f5f\", \"gridcolor\": \"white\", \"linecolor\": \"white\", \"minorgridcolor\": \"white\", \"startlinecolor\": \"#2a3f5f\"}, \"type\": \"carpet\"}], \"choropleth\": [{\"colorbar\": {\"outlinewidth\": 0, \"ticks\": \"\"}, \"type\": \"choropleth\"}], \"contour\": [{\"colorbar\": {\"outlinewidth\": 0, \"ticks\": \"\"}, \"colorscale\": [[0.0, \"#0d0887\"], [0.1111111111111111, \"#46039f\"], [0.2222222222222222, \"#7201a8\"], [0.3333333333333333, \"#9c179e\"], [0.4444444444444444, \"#bd3786\"], [0.5555555555555556, \"#d8576b\"], [0.6666666666666666, \"#ed7953\"], [0.7777777777777778, \"#fb9f3a\"], [0.8888888888888888, \"#fdca26\"], [1.0, \"#f0f921\"]], \"type\": \"contour\"}], \"contourcarpet\": [{\"colorbar\": {\"outlinewidth\": 0, \"ticks\": \"\"}, \"type\": \"contourcarpet\"}], \"heatmap\": [{\"colorbar\": {\"outlinewidth\": 0, \"ticks\": \"\"}, \"colorscale\": [[0.0, \"#0d0887\"], [0.1111111111111111, \"#46039f\"], [0.2222222222222222, \"#7201a8\"], [0.3333333333333333, \"#9c179e\"], [0.4444444444444444, \"#bd3786\"], [0.5555555555555556, \"#d8576b\"], [0.6666666666666666, \"#ed7953\"], [0.7777777777777778, \"#fb9f3a\"], [0.8888888888888888, \"#fdca26\"], [1.0, \"#f0f921\"]], \"type\": \"heatmap\"}], \"heatmapgl\": [{\"colorbar\": {\"outlinewidth\": 0, \"ticks\": \"\"}, \"colorscale\": [[0.0, \"#0d0887\"], [0.1111111111111111, \"#46039f\"], [0.2222222222222222, \"#7201a8\"], [0.3333333333333333, \"#9c179e\"], [0.4444444444444444, \"#bd3786\"], [0.5555555555555556, \"#d8576b\"], [0.6666666666666666, \"#ed7953\"], [0.7777777777777778, \"#fb9f3a\"], [0.8888888888888888, \"#fdca26\"], [1.0, \"#f0f921\"]], \"type\": \"heatmapgl\"}], \"histogram\": [{\"marker\": {\"colorbar\": {\"outlinewidth\": 0, \"ticks\": \"\"}}, \"type\": \"histogram\"}], \"histogram2d\": [{\"colorbar\": {\"outlinewidth\": 0, \"ticks\": \"\"}, \"colorscale\": [[0.0, \"#0d0887\"], [0.1111111111111111, \"#46039f\"], [0.2222222222222222, \"#7201a8\"], [0.3333333333333333, \"#9c179e\"], [0.4444444444444444, \"#bd3786\"], [0.5555555555555556, \"#d8576b\"], [0.6666666666666666, \"#ed7953\"], [0.7777777777777778, \"#fb9f3a\"], [0.8888888888888888, \"#fdca26\"], [1.0, \"#f0f921\"]], \"type\": \"histogram2d\"}], \"histogram2dcontour\": [{\"colorbar\": {\"outlinewidth\": 0, \"ticks\": \"\"}, \"colorscale\": [[0.0, \"#0d0887\"], [0.1111111111111111, \"#46039f\"], [0.2222222222222222, \"#7201a8\"], [0.3333333333333333, \"#9c179e\"], [0.4444444444444444, \"#bd3786\"], [0.5555555555555556, \"#d8576b\"], [0.6666666666666666, \"#ed7953\"], [0.7777777777777778, \"#fb9f3a\"], [0.8888888888888888, \"#fdca26\"], [1.0, \"#f0f921\"]], \"type\": \"histogram2dcontour\"}], \"mesh3d\": [{\"colorbar\": {\"outlinewidth\": 0, \"ticks\": \"\"}, \"type\": \"mesh3d\"}], \"parcoords\": [{\"line\": {\"colorbar\": {\"outlinewidth\": 0, \"ticks\": \"\"}}, \"type\": \"parcoords\"}], \"pie\": [{\"automargin\": true, \"type\": \"pie\"}], \"scatter\": [{\"marker\": {\"colorbar\": {\"outlinewidth\": 0, \"ticks\": \"\"}}, \"type\": \"scatter\"}], \"scatter3d\": [{\"line\": {\"colorbar\": {\"outlinewidth\": 0, \"ticks\": \"\"}}, \"marker\": {\"colorbar\": {\"outlinewidth\": 0, \"ticks\": \"\"}}, \"type\": \"scatter3d\"}], \"scattercarpet\": [{\"marker\": {\"colorbar\": {\"outlinewidth\": 0, \"ticks\": \"\"}}, \"type\": \"scattercarpet\"}], \"scattergeo\": [{\"marker\": {\"colorbar\": {\"outlinewidth\": 0, \"ticks\": \"\"}}, \"type\": \"scattergeo\"}], \"scattergl\": [{\"marker\": {\"colorbar\": {\"outlinewidth\": 0, \"ticks\": \"\"}}, \"type\": \"scattergl\"}], \"scattermapbox\": [{\"marker\": {\"colorbar\": {\"outlinewidth\": 0, \"ticks\": \"\"}}, \"type\": \"scattermapbox\"}], \"scatterpolar\": [{\"marker\": {\"colorbar\": {\"outlinewidth\": 0, \"ticks\": \"\"}}, \"type\": \"scatterpolar\"}], \"scatterpolargl\": [{\"marker\": {\"colorbar\": {\"outlinewidth\": 0, \"ticks\": \"\"}}, \"type\": \"scatterpolargl\"}], \"scatterternary\": [{\"marker\": {\"colorbar\": {\"outlinewidth\": 0, \"ticks\": \"\"}}, \"type\": \"scatterternary\"}], \"surface\": [{\"colorbar\": {\"outlinewidth\": 0, \"ticks\": \"\"}, \"colorscale\": [[0.0, \"#0d0887\"], [0.1111111111111111, \"#46039f\"], [0.2222222222222222, \"#7201a8\"], [0.3333333333333333, \"#9c179e\"], [0.4444444444444444, \"#bd3786\"], [0.5555555555555556, \"#d8576b\"], [0.6666666666666666, \"#ed7953\"], [0.7777777777777778, \"#fb9f3a\"], [0.8888888888888888, \"#fdca26\"], [1.0, \"#f0f921\"]], \"type\": \"surface\"}], \"table\": [{\"cells\": {\"fill\": {\"color\": \"#EBF0F8\"}, \"line\": {\"color\": \"white\"}}, \"header\": {\"fill\": {\"color\": \"#C8D4E3\"}, \"line\": {\"color\": \"white\"}}, \"type\": \"table\"}]}, \"layout\": {\"annotationdefaults\": {\"arrowcolor\": \"#2a3f5f\", \"arrowhead\": 0, \"arrowwidth\": 1}, \"coloraxis\": {\"colorbar\": {\"outlinewidth\": 0, \"ticks\": \"\"}}, \"colorscale\": {\"diverging\": [[0, \"#8e0152\"], [0.1, \"#c51b7d\"], [0.2, \"#de77ae\"], [0.3, \"#f1b6da\"], [0.4, \"#fde0ef\"], [0.5, \"#f7f7f7\"], [0.6, \"#e6f5d0\"], [0.7, \"#b8e186\"], [0.8, \"#7fbc41\"], [0.9, \"#4d9221\"], [1, \"#276419\"]], \"sequential\": [[0.0, \"#0d0887\"], [0.1111111111111111, \"#46039f\"], [0.2222222222222222, \"#7201a8\"], [0.3333333333333333, \"#9c179e\"], [0.4444444444444444, \"#bd3786\"], [0.5555555555555556, \"#d8576b\"], [0.6666666666666666, \"#ed7953\"], [0.7777777777777778, \"#fb9f3a\"], [0.8888888888888888, \"#fdca26\"], [1.0, \"#f0f921\"]], \"sequentialminus\": [[0.0, \"#0d0887\"], [0.1111111111111111, \"#46039f\"], [0.2222222222222222, \"#7201a8\"], [0.3333333333333333, \"#9c179e\"], [0.4444444444444444, \"#bd3786\"], [0.5555555555555556, \"#d8576b\"], [0.6666666666666666, \"#ed7953\"], [0.7777777777777778, \"#fb9f3a\"], [0.8888888888888888, \"#fdca26\"], [1.0, \"#f0f921\"]]}, \"colorway\": [\"#636efa\", \"#EF553B\", \"#00cc96\", \"#ab63fa\", \"#FFA15A\", \"#19d3f3\", \"#FF6692\", \"#B6E880\", \"#FF97FF\", \"#FECB52\"], \"font\": {\"color\": \"#2a3f5f\"}, \"geo\": {\"bgcolor\": \"white\", \"lakecolor\": \"white\", \"landcolor\": \"#E5ECF6\", \"showlakes\": true, \"showland\": true, \"subunitcolor\": \"white\"}, \"hoverlabel\": {\"align\": \"left\"}, \"hovermode\": \"closest\", \"mapbox\": {\"style\": \"light\"}, \"paper_bgcolor\": \"white\", \"plot_bgcolor\": \"#E5ECF6\", \"polar\": {\"angularaxis\": {\"gridcolor\": \"white\", \"linecolor\": \"white\", \"ticks\": \"\"}, \"bgcolor\": \"#E5ECF6\", \"radialaxis\": {\"gridcolor\": \"white\", \"linecolor\": \"white\", \"ticks\": \"\"}}, \"scene\": {\"xaxis\": {\"backgroundcolor\": \"#E5ECF6\", \"gridcolor\": \"white\", \"gridwidth\": 2, \"linecolor\": \"white\", \"showbackground\": true, \"ticks\": \"\", \"zerolinecolor\": \"white\"}, \"yaxis\": {\"backgroundcolor\": \"#E5ECF6\", \"gridcolor\": \"white\", \"gridwidth\": 2, \"linecolor\": \"white\", \"showbackground\": true, \"ticks\": \"\", \"zerolinecolor\": \"white\"}, \"zaxis\": {\"backgroundcolor\": \"#E5ECF6\", \"gridcolor\": \"white\", \"gridwidth\": 2, \"linecolor\": \"white\", \"showbackground\": true, \"ticks\": \"\", \"zerolinecolor\": \"white\"}}, \"shapedefaults\": {\"line\": {\"color\": \"#2a3f5f\"}}, \"ternary\": {\"aaxis\": {\"gridcolor\": \"white\", \"linecolor\": \"white\", \"ticks\": \"\"}, \"baxis\": {\"gridcolor\": \"white\", \"linecolor\": \"white\", \"ticks\": \"\"}, \"bgcolor\": \"#E5ECF6\", \"caxis\": {\"gridcolor\": \"white\", \"linecolor\": \"white\", \"ticks\": \"\"}}, \"title\": {\"x\": 0.05}, \"xaxis\": {\"automargin\": true, \"gridcolor\": \"white\", \"linecolor\": \"white\", \"ticks\": \"\", \"title\": {\"standoff\": 15}, \"zerolinecolor\": \"white\", \"zerolinewidth\": 2}, \"yaxis\": {\"automargin\": true, \"gridcolor\": \"white\", \"linecolor\": \"white\", \"ticks\": \"\", \"title\": {\"standoff\": 15}, \"zerolinecolor\": \"white\", \"zerolinewidth\": 2}}}, \"title\": {\"text\": \"2020 Urban Population vs. GDP\"}, \"xaxis\": {\"anchor\": \"y\", \"domain\": [0.0, 1.0], \"title\": {\"text\": \"GDP per capita\"}}, \"yaxis\": {\"anchor\": \"x\", \"domain\": [0.0, 1.0], \"title\": {\"text\": \"% of Urban Population\"}}},\n",
              "                        {\"responsive\": true}\n",
              "                    ).then(function(){\n",
              "                            \n",
              "var gd = document.getElementById('60ef9893-d780-4f85-8694-b3e7ec210645');\n",
              "var x = new MutationObserver(function (mutations, observer) {{\n",
              "        var display = window.getComputedStyle(gd).display;\n",
              "        if (!display || display === 'none') {{\n",
              "            console.log([gd, 'removed!']);\n",
              "            Plotly.purge(gd);\n",
              "            observer.disconnect();\n",
              "        }}\n",
              "}});\n",
              "\n",
              "// Listen for the removal of the full notebook cells\n",
              "var notebookContainer = gd.closest('#notebook-container');\n",
              "if (notebookContainer) {{\n",
              "    x.observe(notebookContainer, {childList: true});\n",
              "}}\n",
              "\n",
              "// Listen for the clearing of the current output cell\n",
              "var outputEl = gd.closest('.output');\n",
              "if (outputEl) {{\n",
              "    x.observe(outputEl, {childList: true});\n",
              "}}\n",
              "\n",
              "                        })\n",
              "                };\n",
              "                \n",
              "            </script>\n",
              "        </div>\n",
              "</body>\n",
              "</html>"
            ]
          },
          "metadata": {}
        }
      ]
    }
  ]
}