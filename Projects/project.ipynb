{
  "nbformat": 4,
  "nbformat_minor": 0,
  "metadata": {
    "colab": {
      "name": "project.ipynb",
      "provenance": [],
      "collapsed_sections": [],
      "authorship_tag": "ABX9TyMGmWQyy3P300Te41zjFI/N",
      "include_colab_link": true
    },
    "kernelspec": {
      "name": "python3",
      "display_name": "Python 3"
    },
    "language_info": {
      "name": "python"
    }
  },
  "cells": [
    {
      "cell_type": "markdown",
      "metadata": {
        "id": "view-in-github",
        "colab_type": "text"
      },
      "source": [
        "<a href=\"https://colab.research.google.com/github/nirav3/data690_nirav/blob/main/Projects/project.ipynb\" target=\"_parent\"><img src=\"https://colab.research.google.com/assets/colab-badge.svg\" alt=\"Open In Colab\"/></a>"
      ]
    },
    {
      "cell_type": "markdown",
      "metadata": {
        "id": "CVrQXU67WlOd"
      },
      "source": [
        "# Project\n",
        "  * Professor: Dr. Jay Wang  \n",
        "  * Student: Nirav Pancholi  \n",
        "  * Date: 10/27/2021"
      ]
    },
    {
      "cell_type": "markdown",
      "metadata": {
        "id": "Ikb4D62CbyfU"
      },
      "source": [
        "### Import Packages"
      ]
    },
    {
      "cell_type": "code",
      "metadata": {
        "colab": {
          "base_uri": "https://localhost:8080/"
        },
        "id": "G86Rvgo3Wbta",
        "outputId": "3009ea64-444e-4562-c320-5e3517b58fa2"
      },
      "source": [
        "import pandas as pd\n",
        "import missingno as msno\n",
        "import plotly as plty\n",
        "import plotly.graph_objects as go\n",
        "import plotly.express as px\n",
        "\n",
        "print(\"Pandas version: \", pd.__version__)\n",
        "print(\"missingno version: \", msno.__version__)\n",
        "print(\"plotly version: \", plty.__version__)"
      ],
      "execution_count": 2,
      "outputs": [
        {
          "output_type": "stream",
          "name": "stdout",
          "text": [
            "Pandas version:  1.1.5\n",
            "missingno version:  0.5.0\n",
            "plotly version:  4.4.1\n"
          ]
        }
      ]
    },
    {
      "cell_type": "markdown",
      "metadata": {
        "id": "Ajj-jbdwkQWf"
      },
      "source": [
        "## Read Data"
      ]
    },
    {
      "cell_type": "code",
      "metadata": {
        "colab": {
          "base_uri": "https://localhost:8080/",
          "height": 204
        },
        "id": "Ltc3XpW4cnxH",
        "outputId": "3a059d6f-c6ef-4b3d-a29f-6224d34cdd04"
      },
      "source": [
        "df = pd.read_csv('/content/wdi_data.csv', index_col=0)\n",
        "\n",
        "df.head()"
      ],
      "execution_count": 3,
      "outputs": [
        {
          "output_type": "execute_result",
          "data": {
            "text/html": [
              "<div>\n",
              "<style scoped>\n",
              "    .dataframe tbody tr th:only-of-type {\n",
              "        vertical-align: middle;\n",
              "    }\n",
              "\n",
              "    .dataframe tbody tr th {\n",
              "        vertical-align: top;\n",
              "    }\n",
              "\n",
              "    .dataframe thead th {\n",
              "        text-align: right;\n",
              "    }\n",
              "</style>\n",
              "<table border=\"1\" class=\"dataframe\">\n",
              "  <thead>\n",
              "    <tr style=\"text-align: right;\">\n",
              "      <th></th>\n",
              "      <th>Year</th>\n",
              "      <th>value</th>\n",
              "      <th>indicator</th>\n",
              "      <th>Country Code</th>\n",
              "      <th>Country Name</th>\n",
              "      <th>Region</th>\n",
              "      <th>Income Group</th>\n",
              "      <th>Lending Type</th>\n",
              "    </tr>\n",
              "  </thead>\n",
              "  <tbody>\n",
              "    <tr>\n",
              "      <th>0</th>\n",
              "      <td>2020</td>\n",
              "      <td>2087.636394</td>\n",
              "      <td>NY.GDP.PCAP.PP.CD</td>\n",
              "      <td>AFG</td>\n",
              "      <td>Afghanistan</td>\n",
              "      <td>South Asia</td>\n",
              "      <td>Low income</td>\n",
              "      <td>IDA</td>\n",
              "    </tr>\n",
              "    <tr>\n",
              "      <th>1</th>\n",
              "      <td>2020</td>\n",
              "      <td>13817.758966</td>\n",
              "      <td>NY.GDP.PCAP.PP.CD</td>\n",
              "      <td>ALB</td>\n",
              "      <td>Albania</td>\n",
              "      <td>Europe &amp; Central Asia</td>\n",
              "      <td>Upper middle income</td>\n",
              "      <td>IBRD</td>\n",
              "    </tr>\n",
              "    <tr>\n",
              "      <th>2</th>\n",
              "      <td>2020</td>\n",
              "      <td>11268.264472</td>\n",
              "      <td>NY.GDP.PCAP.PP.CD</td>\n",
              "      <td>DZA</td>\n",
              "      <td>Algeria</td>\n",
              "      <td>Middle East &amp; North Africa</td>\n",
              "      <td>Lower middle income</td>\n",
              "      <td>IBRD</td>\n",
              "    </tr>\n",
              "    <tr>\n",
              "      <th>3</th>\n",
              "      <td>2020</td>\n",
              "      <td>6538.452054</td>\n",
              "      <td>NY.GDP.PCAP.PP.CD</td>\n",
              "      <td>AGO</td>\n",
              "      <td>Angola</td>\n",
              "      <td>Sub-Saharan Africa</td>\n",
              "      <td>Lower middle income</td>\n",
              "      <td>IBRD</td>\n",
              "    </tr>\n",
              "    <tr>\n",
              "      <th>4</th>\n",
              "      <td>2020</td>\n",
              "      <td>18942.388065</td>\n",
              "      <td>NY.GDP.PCAP.PP.CD</td>\n",
              "      <td>ATG</td>\n",
              "      <td>Antigua and Barbuda</td>\n",
              "      <td>Latin America &amp; Caribbean</td>\n",
              "      <td>High income</td>\n",
              "      <td>IBRD</td>\n",
              "    </tr>\n",
              "  </tbody>\n",
              "</table>\n",
              "</div>"
            ],
            "text/plain": [
              "   Year         value  ...         Income Group Lending Type\n",
              "0  2020   2087.636394  ...           Low income          IDA\n",
              "1  2020  13817.758966  ...  Upper middle income         IBRD\n",
              "2  2020  11268.264472  ...  Lower middle income         IBRD\n",
              "3  2020   6538.452054  ...  Lower middle income         IBRD\n",
              "4  2020  18942.388065  ...          High income         IBRD\n",
              "\n",
              "[5 rows x 8 columns]"
            ]
          },
          "metadata": {},
          "execution_count": 3
        }
      ]
    },
    {
      "cell_type": "code",
      "metadata": {
        "colab": {
          "base_uri": "https://localhost:8080/",
          "height": 204
        },
        "id": "7kqyu6nmc3by",
        "outputId": "b6d213bd-1ff1-4d8a-d83f-066a3262388e"
      },
      "source": [
        "df_gdp_urb = df.query(\"indicator in ['NY.GDP.PCAP.PP.CD','SP.URB.TOTL.IN.ZS'] \")\n",
        "\n",
        "df_gdp_urb.sample(5)"
      ],
      "execution_count": 6,
      "outputs": [
        {
          "output_type": "execute_result",
          "data": {
            "text/html": [
              "<div>\n",
              "<style scoped>\n",
              "    .dataframe tbody tr th:only-of-type {\n",
              "        vertical-align: middle;\n",
              "    }\n",
              "\n",
              "    .dataframe tbody tr th {\n",
              "        vertical-align: top;\n",
              "    }\n",
              "\n",
              "    .dataframe thead th {\n",
              "        text-align: right;\n",
              "    }\n",
              "</style>\n",
              "<table border=\"1\" class=\"dataframe\">\n",
              "  <thead>\n",
              "    <tr style=\"text-align: right;\">\n",
              "      <th></th>\n",
              "      <th>Year</th>\n",
              "      <th>value</th>\n",
              "      <th>indicator</th>\n",
              "      <th>Country Code</th>\n",
              "      <th>Country Name</th>\n",
              "      <th>Region</th>\n",
              "      <th>Income Group</th>\n",
              "      <th>Lending Type</th>\n",
              "    </tr>\n",
              "  </thead>\n",
              "  <tbody>\n",
              "    <tr>\n",
              "      <th>149</th>\n",
              "      <td>2020</td>\n",
              "      <td>24536.651841</td>\n",
              "      <td>NY.GDP.PCAP.PP.CD</td>\n",
              "      <td>KNA</td>\n",
              "      <td>St. Kitts and Nevis</td>\n",
              "      <td>Latin America &amp; Caribbean</td>\n",
              "      <td>High income</td>\n",
              "      <td>IBRD</td>\n",
              "    </tr>\n",
              "    <tr>\n",
              "      <th>102</th>\n",
              "      <td>2020</td>\n",
              "      <td>2338.507523</td>\n",
              "      <td>NY.GDP.PCAP.PP.CD</td>\n",
              "      <td>MLI</td>\n",
              "      <td>Mali</td>\n",
              "      <td>Sub-Saharan Africa</td>\n",
              "      <td>Low income</td>\n",
              "      <td>IDA</td>\n",
              "    </tr>\n",
              "    <tr>\n",
              "      <th>100</th>\n",
              "      <td>2020</td>\n",
              "      <td>27886.860890</td>\n",
              "      <td>NY.GDP.PCAP.PP.CD</td>\n",
              "      <td>MYS</td>\n",
              "      <td>Malaysia</td>\n",
              "      <td>East Asia &amp; Pacific</td>\n",
              "      <td>Upper middle income</td>\n",
              "      <td>IBRD</td>\n",
              "    </tr>\n",
              "    <tr>\n",
              "      <th>371</th>\n",
              "      <td>2020</td>\n",
              "      <td>69.568000</td>\n",
              "      <td>SP.URB.TOTL.IN.ZS</td>\n",
              "      <td>TUN</td>\n",
              "      <td>Tunisia</td>\n",
              "      <td>Middle East &amp; North Africa</td>\n",
              "      <td>Lower middle income</td>\n",
              "      <td>IBRD</td>\n",
              "    </tr>\n",
              "    <tr>\n",
              "      <th>132</th>\n",
              "      <td>2020</td>\n",
              "      <td>31945.749657</td>\n",
              "      <td>NY.GDP.PCAP.PP.CD</td>\n",
              "      <td>ROU</td>\n",
              "      <td>Romania</td>\n",
              "      <td>Europe &amp; Central Asia</td>\n",
              "      <td>Upper middle income</td>\n",
              "      <td>IBRD</td>\n",
              "    </tr>\n",
              "  </tbody>\n",
              "</table>\n",
              "</div>"
            ],
            "text/plain": [
              "     Year         value  ...         Income Group Lending Type\n",
              "149  2020  24536.651841  ...          High income         IBRD\n",
              "102  2020   2338.507523  ...           Low income          IDA\n",
              "100  2020  27886.860890  ...  Upper middle income         IBRD\n",
              "371  2020     69.568000  ...  Lower middle income         IBRD\n",
              "132  2020  31945.749657  ...  Upper middle income         IBRD\n",
              "\n",
              "[5 rows x 8 columns]"
            ]
          },
          "metadata": {},
          "execution_count": 6
        }
      ]
    },
    {
      "cell_type": "markdown",
      "metadata": {
        "id": "cZPN3LQ3kVJM"
      },
      "source": [
        "## Pivot the dataframe"
      ]
    },
    {
      "cell_type": "code",
      "metadata": {
        "colab": {
          "base_uri": "https://localhost:8080/",
          "height": 204
        },
        "id": "81KCbkyKe7Vn",
        "outputId": "757d74f6-c5b7-49e1-9fd6-7c28d31d4ec8"
      },
      "source": [
        "df_pivot = df_gdp_urb.pivot( index=['Country Code', 'Country Name', 'Region', 'Income Group', 'Lending Type'], columns='indicator', values='value').reset_index()\n",
        "df_pivot.head()"
      ],
      "execution_count": 10,
      "outputs": [
        {
          "output_type": "execute_result",
          "data": {
            "text/html": [
              "<div>\n",
              "<style scoped>\n",
              "    .dataframe tbody tr th:only-of-type {\n",
              "        vertical-align: middle;\n",
              "    }\n",
              "\n",
              "    .dataframe tbody tr th {\n",
              "        vertical-align: top;\n",
              "    }\n",
              "\n",
              "    .dataframe thead th {\n",
              "        text-align: right;\n",
              "    }\n",
              "</style>\n",
              "<table border=\"1\" class=\"dataframe\">\n",
              "  <thead>\n",
              "    <tr style=\"text-align: right;\">\n",
              "      <th>indicator</th>\n",
              "      <th>Country Code</th>\n",
              "      <th>Country Name</th>\n",
              "      <th>Region</th>\n",
              "      <th>Income Group</th>\n",
              "      <th>Lending Type</th>\n",
              "      <th>NY.GDP.PCAP.PP.CD</th>\n",
              "      <th>SP.URB.TOTL.IN.ZS</th>\n",
              "    </tr>\n",
              "  </thead>\n",
              "  <tbody>\n",
              "    <tr>\n",
              "      <th>0</th>\n",
              "      <td>ABW</td>\n",
              "      <td>Aruba</td>\n",
              "      <td>Latin America &amp; Caribbean</td>\n",
              "      <td>High income</td>\n",
              "      <td>Not classified</td>\n",
              "      <td>NaN</td>\n",
              "      <td>43.697</td>\n",
              "    </tr>\n",
              "    <tr>\n",
              "      <th>1</th>\n",
              "      <td>AFG</td>\n",
              "      <td>Afghanistan</td>\n",
              "      <td>South Asia</td>\n",
              "      <td>Low income</td>\n",
              "      <td>IDA</td>\n",
              "      <td>2087.636394</td>\n",
              "      <td>26.026</td>\n",
              "    </tr>\n",
              "    <tr>\n",
              "      <th>2</th>\n",
              "      <td>AGO</td>\n",
              "      <td>Angola</td>\n",
              "      <td>Sub-Saharan Africa</td>\n",
              "      <td>Lower middle income</td>\n",
              "      <td>IBRD</td>\n",
              "      <td>6538.452054</td>\n",
              "      <td>66.825</td>\n",
              "    </tr>\n",
              "    <tr>\n",
              "      <th>3</th>\n",
              "      <td>ALB</td>\n",
              "      <td>Albania</td>\n",
              "      <td>Europe &amp; Central Asia</td>\n",
              "      <td>Upper middle income</td>\n",
              "      <td>IBRD</td>\n",
              "      <td>13817.758966</td>\n",
              "      <td>62.112</td>\n",
              "    </tr>\n",
              "    <tr>\n",
              "      <th>4</th>\n",
              "      <td>AND</td>\n",
              "      <td>Andorra</td>\n",
              "      <td>Europe &amp; Central Asia</td>\n",
              "      <td>High income</td>\n",
              "      <td>Not classified</td>\n",
              "      <td>NaN</td>\n",
              "      <td>87.916</td>\n",
              "    </tr>\n",
              "  </tbody>\n",
              "</table>\n",
              "</div>"
            ],
            "text/plain": [
              "indicator Country Code Country Name  ... NY.GDP.PCAP.PP.CD SP.URB.TOTL.IN.ZS\n",
              "0                  ABW        Aruba  ...               NaN            43.697\n",
              "1                  AFG  Afghanistan  ...       2087.636394            26.026\n",
              "2                  AGO       Angola  ...       6538.452054            66.825\n",
              "3                  ALB      Albania  ...      13817.758966            62.112\n",
              "4                  AND      Andorra  ...               NaN            87.916\n",
              "\n",
              "[5 rows x 7 columns]"
            ]
          },
          "metadata": {},
          "execution_count": 10
        }
      ]
    },
    {
      "cell_type": "code",
      "metadata": {
        "id": "z8jhxDuTgwxW"
      },
      "source": [
        "df_pivot = df_pivot.dropna()"
      ],
      "execution_count": 11,
      "outputs": []
    },
    {
      "cell_type": "code",
      "metadata": {
        "colab": {
          "base_uri": "https://localhost:8080/",
          "height": 204
        },
        "id": "EkI9Gnm2g9K3",
        "outputId": "3cc2b12b-df67-41d4-cb5b-105d9d6d89e6"
      },
      "source": [
        "df_pivot.sample(5)"
      ],
      "execution_count": 12,
      "outputs": [
        {
          "output_type": "execute_result",
          "data": {
            "text/html": [
              "<div>\n",
              "<style scoped>\n",
              "    .dataframe tbody tr th:only-of-type {\n",
              "        vertical-align: middle;\n",
              "    }\n",
              "\n",
              "    .dataframe tbody tr th {\n",
              "        vertical-align: top;\n",
              "    }\n",
              "\n",
              "    .dataframe thead th {\n",
              "        text-align: right;\n",
              "    }\n",
              "</style>\n",
              "<table border=\"1\" class=\"dataframe\">\n",
              "  <thead>\n",
              "    <tr style=\"text-align: right;\">\n",
              "      <th>indicator</th>\n",
              "      <th>Country Code</th>\n",
              "      <th>Country Name</th>\n",
              "      <th>Region</th>\n",
              "      <th>Income Group</th>\n",
              "      <th>Lending Type</th>\n",
              "      <th>NY.GDP.PCAP.PP.CD</th>\n",
              "      <th>SP.URB.TOTL.IN.ZS</th>\n",
              "    </tr>\n",
              "  </thead>\n",
              "  <tbody>\n",
              "    <tr>\n",
              "      <th>52</th>\n",
              "      <td>DMA</td>\n",
              "      <td>Dominica</td>\n",
              "      <td>Latin America &amp; Caribbean</td>\n",
              "      <td>Upper middle income</td>\n",
              "      <td>Blend</td>\n",
              "      <td>10434.472937</td>\n",
              "      <td>71.090</td>\n",
              "    </tr>\n",
              "    <tr>\n",
              "      <th>170</th>\n",
              "      <td>SLE</td>\n",
              "      <td>Sierra Leone</td>\n",
              "      <td>Sub-Saharan Africa</td>\n",
              "      <td>Low income</td>\n",
              "      <td>IDA</td>\n",
              "      <td>1738.556327</td>\n",
              "      <td>42.923</td>\n",
              "    </tr>\n",
              "    <tr>\n",
              "      <th>32</th>\n",
              "      <td>CAN</td>\n",
              "      <td>Canada</td>\n",
              "      <td>North America</td>\n",
              "      <td>High income</td>\n",
              "      <td>Not classified</td>\n",
              "      <td>48072.583756</td>\n",
              "      <td>81.562</td>\n",
              "    </tr>\n",
              "    <tr>\n",
              "      <th>179</th>\n",
              "      <td>SVN</td>\n",
              "      <td>Slovenia</td>\n",
              "      <td>Europe &amp; Central Asia</td>\n",
              "      <td>High income</td>\n",
              "      <td>Not classified</td>\n",
              "      <td>39593.307441</td>\n",
              "      <td>55.118</td>\n",
              "    </tr>\n",
              "    <tr>\n",
              "      <th>59</th>\n",
              "      <td>EST</td>\n",
              "      <td>Estonia</td>\n",
              "      <td>Europe &amp; Central Asia</td>\n",
              "      <td>High income</td>\n",
              "      <td>Not classified</td>\n",
              "      <td>38394.917535</td>\n",
              "      <td>69.229</td>\n",
              "    </tr>\n",
              "  </tbody>\n",
              "</table>\n",
              "</div>"
            ],
            "text/plain": [
              "indicator Country Code  Country Name  ... NY.GDP.PCAP.PP.CD SP.URB.TOTL.IN.ZS\n",
              "52                 DMA      Dominica  ...      10434.472937            71.090\n",
              "170                SLE  Sierra Leone  ...       1738.556327            42.923\n",
              "32                 CAN        Canada  ...      48072.583756            81.562\n",
              "179                SVN      Slovenia  ...      39593.307441            55.118\n",
              "59                 EST       Estonia  ...      38394.917535            69.229\n",
              "\n",
              "[5 rows x 7 columns]"
            ]
          },
          "metadata": {},
          "execution_count": 12
        }
      ]
    },
    {
      "cell_type": "markdown",
      "metadata": {
        "id": "xVZt-9nKkdlk"
      },
      "source": [
        "## Data Visualization"
      ]
    },
    {
      "cell_type": "code",
      "metadata": {
        "colab": {
          "base_uri": "https://localhost:8080/",
          "height": 542
        },
        "id": "j24xVqufhBNA",
        "outputId": "65ebea6d-5274-412c-ac02-a60798c721c5"
      },
      "source": [
        "fig = px.scatter(\n",
        "    df_pivot,\n",
        "    x = 'NY.GDP.PCAP.PP.CD',\n",
        "    y = 'SP.URB.TOTL.IN.ZS',\n",
        "    title = \"2020 Urban Population vs. GDP\",\n",
        "    labels = {'NY.GDP.PCAP.PP.CD':'GDP per capita', 'SP.URB.TOTL.IN.ZS':'% of Urban Population'},\n",
        "    color = 'Region',\n",
        "    hover_name = 'Country Name'\n",
        ")\n",
        "\n",
        "fig.update_traces()\n",
        "\n",
        "fig.show()"
      ],
      "execution_count": 15,
      "outputs": [
        {
          "output_type": "display_data",
          "data": {
            "text/html": [
              "<html>\n",
              "<head><meta charset=\"utf-8\" /></head>\n",
              "<body>\n",
              "    <div>\n",
              "            <script src=\"https://cdnjs.cloudflare.com/ajax/libs/mathjax/2.7.5/MathJax.js?config=TeX-AMS-MML_SVG\"></script><script type=\"text/javascript\">if (window.MathJax) {MathJax.Hub.Config({SVG: {font: \"STIX-Web\"}});}</script>\n",
              "                <script type=\"text/javascript\">window.PlotlyConfig = {MathJaxConfig: 'local'};</script>\n",
              "        <script src=\"https://cdn.plot.ly/plotly-latest.min.js\"></script>    \n",
              "            <div id=\"0bb80393-cfad-4c75-a6f7-1c21cc42197a\" class=\"plotly-graph-div\" style=\"height:525px; width:100%;\"></div>\n",
              "            <script type=\"text/javascript\">\n",
              "                \n",
              "                    window.PLOTLYENV=window.PLOTLYENV || {};\n",
              "                    \n",
              "                if (document.getElementById(\"0bb80393-cfad-4c75-a6f7-1c21cc42197a\")) {\n",
              "                    Plotly.newPlot(\n",
              "                        '0bb80393-cfad-4c75-a6f7-1c21cc42197a',\n",
              "                        [{\"hoverlabel\": {\"namelength\": 0}, \"hovertemplate\": \"<b>%{hovertext}</b><br><br>Region=South Asia<br>GDP per capita=%{x}<br>% of Urban Population=%{y}\", \"hovertext\": [\"Afghanistan\", \"Bangladesh\", \"Bhutan\", \"India\", \"Sri Lanka\", \"Maldives\", \"Nepal\", \"Pakistan\"], \"legendgroup\": \"Region=South Asia\", \"marker\": {\"color\": \"#636efa\", \"symbol\": \"circle\"}, \"mode\": \"markers\", \"name\": \"Region=South Asia\", \"showlegend\": true, \"type\": \"scatter\", \"x\": [2087.6363940006, 5082.6807503643, 11508.1741774838, 6454.347356381801, 13225.4088007871, 13765.635981905702, 4008.7465803348, 4876.6305536435], \"xaxis\": \"x\", \"y\": [26.026, 38.177, 42.316, 34.926, 18.713, 40.669000000000004, 20.576, 37.165], \"yaxis\": \"y\"}, {\"hoverlabel\": {\"namelength\": 0}, \"hovertemplate\": \"<b>%{hovertext}</b><br><br>Region=Sub-Saharan Africa <br>GDP per capita=%{x}<br>% of Urban Population=%{y}\", \"hovertext\": [\"Angola\", \"Burundi\", \"Benin\", \"Burkina Faso\", \"Botswana\", \"Central African Republic\", \"Cote d'Ivoire\", \"Cameroon\", \"Congo, Dem. Rep.\", \"Congo, Rep.\", \"Comoros\", \"Cabo Verde\", \"Ethiopia\", \"Gabon\", \"Ghana\", \"Guinea\", \"Gambia, The\", \"Guinea-Bissau\", \"Equatorial Guinea\", \"Kenya\", \"Liberia\", \"Lesotho\", \"Madagascar\", \"Mali\", \"Mozambique\", \"Mauritania\", \"Mauritius\", \"Malawi\", \"Namibia\", \"Niger\", \"Nigeria\", \"Rwanda\", \"Sudan\", \"Senegal\", \"Sierra Leone\", \"Somalia\", \"Sao Tome and Principe\", \"Eswatini\", \"Seychelles\", \"Chad\", \"Togo\", \"Tanzania\", \"Uganda\", \"South Africa\", \"Zambia\", \"Zimbabwe\"], \"legendgroup\": \"Region=Sub-Saharan Africa \", \"marker\": {\"color\": \"#EF553B\", \"symbol\": \"circle\"}, \"mode\": \"markers\", \"name\": \"Region=Sub-Saharan Africa \", \"showlegend\": true, \"type\": \"scatter\", \"x\": [6538.4520538729, 771.2096187616, 3505.6351635826, 2279.1561732032997, 16920.8466745308, 979.5830660874001, 5458.236651125801, 3772.7449855499, 1131.0906069864, 3638.5557749751, 3313.1704671415005, 6377.0258315573, 2422.9577888954, 15190.6386251211, 5596.3070706446, 2817.4918088079, 2278.0278146917003, 1948.9195404973002, 17941.5996995858, 4452.2060236705, 1428.1892996043, 2405.0965174457997, 1593.0712660448, 2338.5075230461, 1296.5750349477, 5256.874547408, 20538.6949103031, 1568.4247812661, 9382.2175367398, 1262.6041755418, 5186.7234837793, 2213.9611897184, 4243.7819360945, 3481.3099218762, 1738.556326941, 875.169599243, 4274.099011522199, 8853.6042434463, 25699.7290739829, 1603.3784565899, 2223.6314906298003, 2780.0555482202003, 2297.178684407, 12095.856289625, 3449.6093221154997, 2895.4156454758004], \"xaxis\": \"x\", \"y\": [66.825, 13.708, 48.415, 30.607, 70.877, 42.198, 51.706, 57.56, 45.638000000000005, 67.829, 29.38, 66.652, 21.695, 90.09200000000001, 57.349, 36.875, 62.582, 44.196000000000005, 73.1, 27.995, 52.089, 29.028000000000002, 38.534, 43.909, 37.074, 55.327, 40.76, 17.427, 52.033, 16.625999999999998, 51.958, 17.432000000000002, 35.253, 48.122, 42.923, 46.141000000000005, 74.354, 24.171, 57.54600000000001, 23.52, 42.8, 35.227, 24.954, 67.354, 44.629, 32.242], \"yaxis\": \"y\"}, {\"hoverlabel\": {\"namelength\": 0}, \"hovertemplate\": \"<b>%{hovertext}</b><br><br>Region=Europe & Central Asia<br>GDP per capita=%{x}<br>% of Urban Population=%{y}\", \"hovertext\": [\"Albania\", \"Armenia\", \"Austria\", \"Azerbaijan\", \"Belgium\", \"Bulgaria\", \"Bosnia and Herzegovina\", \"Belarus\", \"Switzerland\", \"Cyprus\", \"Czech Republic\", \"Germany\", \"Denmark\", \"Spain\", \"Estonia\", \"Finland\", \"France\", \"United Kingdom\", \"Georgia\", \"Greece\", \"Croatia\", \"Hungary\", \"Ireland\", \"Iceland\", \"Italy\", \"Kazakhstan\", \"Kyrgyz Republic\", \"Lithuania\", \"Luxembourg\", \"Latvia\", \"Moldova\", \"North Macedonia\", \"Montenegro\", \"Netherlands\", \"Norway\", \"Poland\", \"Portugal\", \"Romania\", \"Russian Federation\", \"Serbia\", \"Slovak Republic\", \"Slovenia\", \"Sweden\", \"Tajikistan\", \"Turkey\", \"Ukraine\", \"Uzbekistan\"], \"legendgroup\": \"Region=Europe & Central Asia\", \"marker\": {\"color\": \"#00cc96\", \"symbol\": \"circle\"}, \"mode\": \"markers\", \"name\": \"Region=Europe & Central Asia\", \"showlegend\": true, \"type\": \"scatter\", \"x\": [13817.7589656756, 13284.160830728999, 55097.461225832805, 14451.983696650701, 51968.1920227771, 24367.3239228848, 15611.791305994198, 20199.6984928506, 71352.3525990268, 38458.1912618072, 41737.418040924706, 53694.3547123431, 60398.4533430492, 38334.6113444231, 38394.9175345121, 51089.7853321567, 46226.950535686905, 44916.2283385249, 14863.0173692196, 28463.7886828947, 28503.8805738916, 33084.0962334341, 93612.1659106094, 55216.0261783821, 41839.9910228994, 26728.5439182062, 4965.0318757531, 38734.7293153001, 118359.52616184301, 32019.222335100698, 13001.550045211, 16926.624142555702, 20566.6384071985, 59228.834953760495, 63197.98147058651, 34264.7597598664, 34495.9224734636, 31945.749656632797, 28213.447838229702, 19230.6300632762, 31832.394609507002, 39593.3074407023, 54563.1214122072, 3858.4294154021004, 28119.453039890497, 13056.7020745176, 7378.2547203592], \"xaxis\": \"x\", \"y\": [62.111999999999995, 63.313, 58.748000000000005, 56.397, 98.079, 75.686, 49.02, 79.483, 73.915, 66.821, 74.061, 77.453, 88.116, 80.81, 69.229, 85.51700000000001, 80.975, 83.90299999999999, 59.453, 79.715, 57.553000000000004, 71.942, 63.653, 93.898, 71.039, 57.67100000000001, 36.856, 68.046, 91.45299999999999, 68.315, 42.849, 58.482, 67.488, 92.236, 82.97399999999999, 60.043, 66.31, 54.193999999999996, 74.75399999999999, 56.446000000000005, 53.76, 55.118, 87.977, 27.506, 76.105, 69.608, 50.416000000000004], \"yaxis\": \"y\"}, {\"hoverlabel\": {\"namelength\": 0}, \"hovertemplate\": \"<b>%{hovertext}</b><br><br>Region=Latin America & Caribbean <br>GDP per capita=%{x}<br>% of Urban Population=%{y}\", \"hovertext\": [\"Argentina\", \"Antigua and Barbuda\", \"Bahamas, The\", \"Belize\", \"Bolivia\", \"Brazil\", \"Barbados\", \"Chile\", \"Colombia\", \"Costa Rica\", \"Dominica\", \"Dominican Republic\", \"Ecuador\", \"Grenada\", \"Guatemala\", \"Guyana\", \"Honduras\", \"Haiti\", \"Jamaica\", \"St. Kitts and Nevis\", \"St. Lucia\", \"Mexico\", \"Nicaragua\", \"Panama\", \"Peru\", \"Puerto Rico\", \"Paraguay\", \"El Salvador\", \"Suriname\", \"Turks and Caicos Islands\", \"Trinidad and Tobago\", \"Uruguay\", \"St. Vincent and the Grenadines\"], \"legendgroup\": \"Region=Latin America & Caribbean \", \"marker\": {\"color\": \"#ab63fa\", \"symbol\": \"circle\"}, \"mode\": \"markers\", \"name\": \"Region=Latin America & Caribbean \", \"showlegend\": true, \"type\": \"scatter\", \"x\": [20767.6105001703, 18942.3880651775, 32453.5295740897, 6455.9617526987, 8367.3271590664, 14836.307100914299, 13576.801799531699, 25067.6916009163, 14565.3680522873, 21031.8175436511, 10434.4729370643, 17936.7346849962, 10896.427433954399, 15893.2153791848, 8854.2024639096, 19705.7926684251, 5420.560196329, 2925.3653238707, 9221.5933050965, 24536.6518405639, 12943.8219371625, 18833.082415227702, 5570.0998748493, 26775.6944526998, 11879.2358960654, 35279.3470349392, 13012.8756954841, 8498.9687204029, 17015.9602788948, 22281.9221529183, 25031.1921587721, 22795.058750005297, 12770.149236556], \"xaxis\": \"x\", \"y\": [92.111, 24.433000000000003, 83.245, 46.025, 70.123, 87.073, 31.191, 87.727, 81.425, 80.771, 71.09, 82.54, 64.166, 36.537, 51.836000000000006, 26.785999999999998, 58.358999999999995, 57.088, 56.31100000000001, 30.843000000000004, 18.840999999999998, 80.73100000000001, 59.012, 68.414, 78.297, 93.581, 62.183, 73.444, 66.149, 93.605, 53.214, 95.515, 53.032], \"yaxis\": \"y\"}, {\"hoverlabel\": {\"namelength\": 0}, \"hovertemplate\": \"<b>%{hovertext}</b><br><br>Region=East Asia & Pacific<br>GDP per capita=%{x}<br>% of Urban Population=%{y}\", \"hovertext\": [\"Australia\", \"Brunei Darussalam\", \"China\", \"Fiji\", \"Hong Kong SAR, China\", \"Indonesia\", \"Cambodia\", \"Kiribati\", \"Korea, Rep.\", \"Lao PDR\", \"Macao SAR, China\", \"Myanmar\", \"Mongolia\", \"Malaysia\", \"New Zealand\", \"Philippines\", \"Papua New Guinea\", \"Singapore\", \"Solomon Islands\", \"Thailand\", \"Timor-Leste\", \"Tuvalu\", \"Vietnam\", \"Vanuatu\"], \"legendgroup\": \"Region=East Asia & Pacific\", \"marker\": {\"color\": \"#FFA15A\", \"symbol\": \"circle\"}, \"mode\": \"markers\", \"name\": \"Region=East Asia & Pacific\", \"showlegend\": true, \"type\": \"scatter\", \"x\": [52518.3244830382, 65661.6939297088, 17311.9979202848, 11601.4005261348, 59237.6708212188, 12073.461509431001, 4422.0457429343, 2417.7674660576, 43124.2946857302, 8234.4545367667, 57807.1620352378, 4793.5568348331, 12100.586698631101, 27886.8608901388, 44251.7942246991, 8390.3531436861, 4326.4376075194, 98525.9543531223, 2619.2190071357, 18236.176111150402, 3355.8295616012, 4653.2336642971, 8650.653672399201, 2914.5102731032002], \"xaxis\": \"x\", \"y\": [86.241, 78.25, 61.428000000000004, 57.247, 100.0, 56.641000000000005, 24.232, 55.593999999999994, 81.414, 36.29, 100.0, 31.141, 68.657, 77.16, 86.699, 47.408, 13.345, 100.0, 24.67, 51.43, 31.32, 64.014, 37.34, 25.525], \"yaxis\": \"y\"}, {\"hoverlabel\": {\"namelength\": 0}, \"hovertemplate\": \"<b>%{hovertext}</b><br><br>Region=Middle East & North Africa<br>GDP per capita=%{x}<br>% of Urban Population=%{y}\", \"hovertext\": [\"Bahrain\", \"Djibouti\", \"Algeria\", \"Egypt, Arab Rep.\", \"Iran, Islamic Rep.\", \"Iraq\", \"Israel\", \"Jordan\", \"Lebanon\", \"Libya\", \"Morocco\", \"Malta\", \"West Bank and Gaza\", \"Qatar\", \"Saudi Arabia\", \"Tunisia\"], \"legendgroup\": \"Region=Middle East & North Africa\", \"marker\": {\"color\": \"#19d3f3\", \"symbol\": \"circle\"}, \"mode\": \"markers\", \"name\": \"Region=Middle East & North Africa\", \"showlegend\": true, \"type\": \"scatter\", \"x\": [43181.2106255754, 5782.1106254149, 11268.2644722324, 12607.7621145597, 13116.0723596195, 9763.5099913334, 41854.9341515478, 10355.631317089, 12288.758524216399, 10846.9438234929, 7296.1580646202, 42640.1161038759, 5690.2875170376, 89948.61058023, 46762.4692706716, 10261.6908447281], \"xaxis\": \"x\", \"y\": [89.506, 78.062, 73.733, 42.783, 75.874, 70.893, 92.587, 91.41799999999999, 88.925, 80.691, 63.532, 94.744, 76.719, 99.235, 84.287, 69.568], \"yaxis\": \"y\"}, {\"hoverlabel\": {\"namelength\": 0}, \"hovertemplate\": \"<b>%{hovertext}</b><br><br>Region=North America<br>GDP per capita=%{x}<br>% of Urban Population=%{y}\", \"hovertext\": [\"Canada\", \"United States\"], \"legendgroup\": \"Region=North America\", \"marker\": {\"color\": \"#FF6692\", \"symbol\": \"circle\"}, \"mode\": \"markers\", \"name\": \"Region=North America\", \"showlegend\": true, \"type\": \"scatter\", \"x\": [48072.583756378, 63543.577788724004], \"xaxis\": \"x\", \"y\": [81.562, 82.664], \"yaxis\": \"y\"}],\n",
              "                        {\"legend\": {\"tracegroupgap\": 0}, \"template\": {\"data\": {\"bar\": [{\"error_x\": {\"color\": \"#2a3f5f\"}, \"error_y\": {\"color\": \"#2a3f5f\"}, \"marker\": {\"line\": {\"color\": \"#E5ECF6\", \"width\": 0.5}}, \"type\": \"bar\"}], \"barpolar\": [{\"marker\": {\"line\": {\"color\": \"#E5ECF6\", \"width\": 0.5}}, \"type\": \"barpolar\"}], \"carpet\": [{\"aaxis\": {\"endlinecolor\": \"#2a3f5f\", \"gridcolor\": \"white\", \"linecolor\": \"white\", \"minorgridcolor\": \"white\", \"startlinecolor\": \"#2a3f5f\"}, \"baxis\": {\"endlinecolor\": \"#2a3f5f\", \"gridcolor\": \"white\", \"linecolor\": \"white\", \"minorgridcolor\": \"white\", \"startlinecolor\": \"#2a3f5f\"}, \"type\": \"carpet\"}], \"choropleth\": [{\"colorbar\": {\"outlinewidth\": 0, \"ticks\": \"\"}, \"type\": \"choropleth\"}], \"contour\": [{\"colorbar\": {\"outlinewidth\": 0, \"ticks\": \"\"}, \"colorscale\": [[0.0, \"#0d0887\"], [0.1111111111111111, \"#46039f\"], [0.2222222222222222, \"#7201a8\"], [0.3333333333333333, \"#9c179e\"], [0.4444444444444444, \"#bd3786\"], [0.5555555555555556, \"#d8576b\"], [0.6666666666666666, \"#ed7953\"], [0.7777777777777778, \"#fb9f3a\"], [0.8888888888888888, \"#fdca26\"], [1.0, \"#f0f921\"]], \"type\": \"contour\"}], \"contourcarpet\": [{\"colorbar\": {\"outlinewidth\": 0, \"ticks\": \"\"}, \"type\": \"contourcarpet\"}], \"heatmap\": [{\"colorbar\": {\"outlinewidth\": 0, \"ticks\": \"\"}, \"colorscale\": [[0.0, \"#0d0887\"], [0.1111111111111111, \"#46039f\"], [0.2222222222222222, \"#7201a8\"], [0.3333333333333333, \"#9c179e\"], [0.4444444444444444, \"#bd3786\"], [0.5555555555555556, \"#d8576b\"], [0.6666666666666666, \"#ed7953\"], [0.7777777777777778, \"#fb9f3a\"], [0.8888888888888888, \"#fdca26\"], [1.0, \"#f0f921\"]], \"type\": \"heatmap\"}], \"heatmapgl\": [{\"colorbar\": {\"outlinewidth\": 0, \"ticks\": \"\"}, \"colorscale\": [[0.0, \"#0d0887\"], [0.1111111111111111, \"#46039f\"], [0.2222222222222222, \"#7201a8\"], [0.3333333333333333, \"#9c179e\"], [0.4444444444444444, \"#bd3786\"], [0.5555555555555556, \"#d8576b\"], [0.6666666666666666, \"#ed7953\"], [0.7777777777777778, \"#fb9f3a\"], [0.8888888888888888, \"#fdca26\"], [1.0, \"#f0f921\"]], \"type\": \"heatmapgl\"}], \"histogram\": [{\"marker\": {\"colorbar\": {\"outlinewidth\": 0, \"ticks\": \"\"}}, \"type\": \"histogram\"}], \"histogram2d\": [{\"colorbar\": {\"outlinewidth\": 0, \"ticks\": \"\"}, \"colorscale\": [[0.0, \"#0d0887\"], [0.1111111111111111, \"#46039f\"], [0.2222222222222222, \"#7201a8\"], [0.3333333333333333, \"#9c179e\"], [0.4444444444444444, \"#bd3786\"], [0.5555555555555556, \"#d8576b\"], [0.6666666666666666, \"#ed7953\"], [0.7777777777777778, \"#fb9f3a\"], [0.8888888888888888, \"#fdca26\"], [1.0, \"#f0f921\"]], \"type\": \"histogram2d\"}], \"histogram2dcontour\": [{\"colorbar\": {\"outlinewidth\": 0, \"ticks\": \"\"}, \"colorscale\": [[0.0, \"#0d0887\"], [0.1111111111111111, \"#46039f\"], [0.2222222222222222, \"#7201a8\"], [0.3333333333333333, \"#9c179e\"], [0.4444444444444444, \"#bd3786\"], [0.5555555555555556, \"#d8576b\"], [0.6666666666666666, \"#ed7953\"], [0.7777777777777778, \"#fb9f3a\"], [0.8888888888888888, \"#fdca26\"], [1.0, \"#f0f921\"]], \"type\": \"histogram2dcontour\"}], \"mesh3d\": [{\"colorbar\": {\"outlinewidth\": 0, \"ticks\": \"\"}, \"type\": \"mesh3d\"}], \"parcoords\": [{\"line\": {\"colorbar\": {\"outlinewidth\": 0, \"ticks\": \"\"}}, \"type\": \"parcoords\"}], \"pie\": [{\"automargin\": true, \"type\": \"pie\"}], \"scatter\": [{\"marker\": {\"colorbar\": {\"outlinewidth\": 0, \"ticks\": \"\"}}, \"type\": \"scatter\"}], \"scatter3d\": [{\"line\": {\"colorbar\": {\"outlinewidth\": 0, \"ticks\": \"\"}}, \"marker\": {\"colorbar\": {\"outlinewidth\": 0, \"ticks\": \"\"}}, \"type\": \"scatter3d\"}], \"scattercarpet\": [{\"marker\": {\"colorbar\": {\"outlinewidth\": 0, \"ticks\": \"\"}}, \"type\": \"scattercarpet\"}], \"scattergeo\": [{\"marker\": {\"colorbar\": {\"outlinewidth\": 0, \"ticks\": \"\"}}, \"type\": \"scattergeo\"}], \"scattergl\": [{\"marker\": {\"colorbar\": {\"outlinewidth\": 0, \"ticks\": \"\"}}, \"type\": \"scattergl\"}], \"scattermapbox\": [{\"marker\": {\"colorbar\": {\"outlinewidth\": 0, \"ticks\": \"\"}}, \"type\": \"scattermapbox\"}], \"scatterpolar\": [{\"marker\": {\"colorbar\": {\"outlinewidth\": 0, \"ticks\": \"\"}}, \"type\": \"scatterpolar\"}], \"scatterpolargl\": [{\"marker\": {\"colorbar\": {\"outlinewidth\": 0, \"ticks\": \"\"}}, \"type\": \"scatterpolargl\"}], \"scatterternary\": [{\"marker\": {\"colorbar\": {\"outlinewidth\": 0, \"ticks\": \"\"}}, \"type\": \"scatterternary\"}], \"surface\": [{\"colorbar\": {\"outlinewidth\": 0, \"ticks\": \"\"}, \"colorscale\": [[0.0, \"#0d0887\"], [0.1111111111111111, \"#46039f\"], [0.2222222222222222, \"#7201a8\"], [0.3333333333333333, \"#9c179e\"], [0.4444444444444444, \"#bd3786\"], [0.5555555555555556, \"#d8576b\"], [0.6666666666666666, \"#ed7953\"], [0.7777777777777778, \"#fb9f3a\"], [0.8888888888888888, \"#fdca26\"], [1.0, \"#f0f921\"]], \"type\": \"surface\"}], \"table\": [{\"cells\": {\"fill\": {\"color\": \"#EBF0F8\"}, \"line\": {\"color\": \"white\"}}, \"header\": {\"fill\": {\"color\": \"#C8D4E3\"}, \"line\": {\"color\": \"white\"}}, \"type\": \"table\"}]}, \"layout\": {\"annotationdefaults\": {\"arrowcolor\": \"#2a3f5f\", \"arrowhead\": 0, \"arrowwidth\": 1}, \"coloraxis\": {\"colorbar\": {\"outlinewidth\": 0, \"ticks\": \"\"}}, \"colorscale\": {\"diverging\": [[0, \"#8e0152\"], [0.1, \"#c51b7d\"], [0.2, \"#de77ae\"], [0.3, \"#f1b6da\"], [0.4, \"#fde0ef\"], [0.5, \"#f7f7f7\"], [0.6, \"#e6f5d0\"], [0.7, \"#b8e186\"], [0.8, \"#7fbc41\"], [0.9, \"#4d9221\"], [1, \"#276419\"]], \"sequential\": [[0.0, \"#0d0887\"], [0.1111111111111111, \"#46039f\"], [0.2222222222222222, \"#7201a8\"], [0.3333333333333333, \"#9c179e\"], [0.4444444444444444, \"#bd3786\"], [0.5555555555555556, \"#d8576b\"], [0.6666666666666666, \"#ed7953\"], [0.7777777777777778, \"#fb9f3a\"], [0.8888888888888888, \"#fdca26\"], [1.0, \"#f0f921\"]], \"sequentialminus\": [[0.0, \"#0d0887\"], [0.1111111111111111, \"#46039f\"], [0.2222222222222222, \"#7201a8\"], [0.3333333333333333, \"#9c179e\"], [0.4444444444444444, \"#bd3786\"], [0.5555555555555556, \"#d8576b\"], [0.6666666666666666, \"#ed7953\"], [0.7777777777777778, \"#fb9f3a\"], [0.8888888888888888, \"#fdca26\"], [1.0, \"#f0f921\"]]}, \"colorway\": [\"#636efa\", \"#EF553B\", \"#00cc96\", \"#ab63fa\", \"#FFA15A\", \"#19d3f3\", \"#FF6692\", \"#B6E880\", \"#FF97FF\", \"#FECB52\"], \"font\": {\"color\": \"#2a3f5f\"}, \"geo\": {\"bgcolor\": \"white\", \"lakecolor\": \"white\", \"landcolor\": \"#E5ECF6\", \"showlakes\": true, \"showland\": true, \"subunitcolor\": \"white\"}, \"hoverlabel\": {\"align\": \"left\"}, \"hovermode\": \"closest\", \"mapbox\": {\"style\": \"light\"}, \"paper_bgcolor\": \"white\", \"plot_bgcolor\": \"#E5ECF6\", \"polar\": {\"angularaxis\": {\"gridcolor\": \"white\", \"linecolor\": \"white\", \"ticks\": \"\"}, \"bgcolor\": \"#E5ECF6\", \"radialaxis\": {\"gridcolor\": \"white\", \"linecolor\": \"white\", \"ticks\": \"\"}}, \"scene\": {\"xaxis\": {\"backgroundcolor\": \"#E5ECF6\", \"gridcolor\": \"white\", \"gridwidth\": 2, \"linecolor\": \"white\", \"showbackground\": true, \"ticks\": \"\", \"zerolinecolor\": \"white\"}, \"yaxis\": {\"backgroundcolor\": \"#E5ECF6\", \"gridcolor\": \"white\", \"gridwidth\": 2, \"linecolor\": \"white\", \"showbackground\": true, \"ticks\": \"\", \"zerolinecolor\": \"white\"}, \"zaxis\": {\"backgroundcolor\": \"#E5ECF6\", \"gridcolor\": \"white\", \"gridwidth\": 2, \"linecolor\": \"white\", \"showbackground\": true, \"ticks\": \"\", \"zerolinecolor\": \"white\"}}, \"shapedefaults\": {\"line\": {\"color\": \"#2a3f5f\"}}, \"ternary\": {\"aaxis\": {\"gridcolor\": \"white\", \"linecolor\": \"white\", \"ticks\": \"\"}, \"baxis\": {\"gridcolor\": \"white\", \"linecolor\": \"white\", \"ticks\": \"\"}, \"bgcolor\": \"#E5ECF6\", \"caxis\": {\"gridcolor\": \"white\", \"linecolor\": \"white\", \"ticks\": \"\"}}, \"title\": {\"x\": 0.05}, \"xaxis\": {\"automargin\": true, \"gridcolor\": \"white\", \"linecolor\": \"white\", \"ticks\": \"\", \"title\": {\"standoff\": 15}, \"zerolinecolor\": \"white\", \"zerolinewidth\": 2}, \"yaxis\": {\"automargin\": true, \"gridcolor\": \"white\", \"linecolor\": \"white\", \"ticks\": \"\", \"title\": {\"standoff\": 15}, \"zerolinecolor\": \"white\", \"zerolinewidth\": 2}}}, \"title\": {\"text\": \"2020 Urban Population vs. GDP\"}, \"xaxis\": {\"anchor\": \"y\", \"domain\": [0.0, 1.0], \"title\": {\"text\": \"GDP per capita\"}}, \"yaxis\": {\"anchor\": \"x\", \"domain\": [0.0, 1.0], \"title\": {\"text\": \"% of Urban Population\"}}},\n",
              "                        {\"responsive\": true}\n",
              "                    ).then(function(){\n",
              "                            \n",
              "var gd = document.getElementById('0bb80393-cfad-4c75-a6f7-1c21cc42197a');\n",
              "var x = new MutationObserver(function (mutations, observer) {{\n",
              "        var display = window.getComputedStyle(gd).display;\n",
              "        if (!display || display === 'none') {{\n",
              "            console.log([gd, 'removed!']);\n",
              "            Plotly.purge(gd);\n",
              "            observer.disconnect();\n",
              "        }}\n",
              "}});\n",
              "\n",
              "// Listen for the removal of the full notebook cells\n",
              "var notebookContainer = gd.closest('#notebook-container');\n",
              "if (notebookContainer) {{\n",
              "    x.observe(notebookContainer, {childList: true});\n",
              "}}\n",
              "\n",
              "// Listen for the clearing of the current output cell\n",
              "var outputEl = gd.closest('.output');\n",
              "if (outputEl) {{\n",
              "    x.observe(outputEl, {childList: true});\n",
              "}}\n",
              "\n",
              "                        })\n",
              "                };\n",
              "                \n",
              "            </script>\n",
              "        </div>\n",
              "</body>\n",
              "</html>"
            ]
          },
          "metadata": {}
        }
      ]
    },
    {
      "cell_type": "code",
      "metadata": {
        "colab": {
          "base_uri": "https://localhost:8080/",
          "height": 610
        },
        "id": "Ac1I5ldXh1Sk",
        "outputId": "b030fe71-bb5f-4867-c6d2-5a98cdcf5388"
      },
      "source": [
        "fig = px.scatter(\n",
        "    df_pivot,\n",
        "    x = 'NY.GDP.PCAP.PP.CD',\n",
        "    y = 'SP.URB.TOTL.IN.ZS',\n",
        "    title = \"2020 Urban Population vs. GDP\",\n",
        "    labels = {'NY.GDP.PCAP.PP.CD':'GDP per capita', 'SP.URB.TOTL.IN.ZS':'% of Urban Population'},\n",
        "    color = 'Region',\n",
        "    hover_name = 'Country Name',\n",
        "    trendline=\"ols\"\n",
        ")\n",
        "\n",
        "fig.update_traces()\n",
        "\n",
        "fig.show()"
      ],
      "execution_count": 16,
      "outputs": [
        {
          "output_type": "stream",
          "name": "stderr",
          "text": [
            "/usr/local/lib/python3.7/dist-packages/statsmodels/tools/_testing.py:19: FutureWarning:\n",
            "\n",
            "pandas.util.testing is deprecated. Use the functions in the public API at pandas.testing instead.\n",
            "\n"
          ]
        },
        {
          "output_type": "display_data",
          "data": {
            "text/html": [
              "<html>\n",
              "<head><meta charset=\"utf-8\" /></head>\n",
              "<body>\n",
              "    <div>\n",
              "            <script src=\"https://cdnjs.cloudflare.com/ajax/libs/mathjax/2.7.5/MathJax.js?config=TeX-AMS-MML_SVG\"></script><script type=\"text/javascript\">if (window.MathJax) {MathJax.Hub.Config({SVG: {font: \"STIX-Web\"}});}</script>\n",
              "                <script type=\"text/javascript\">window.PlotlyConfig = {MathJaxConfig: 'local'};</script>\n",
              "        <script src=\"https://cdn.plot.ly/plotly-latest.min.js\"></script>    \n",
              "            <div id=\"76e33d16-cd99-45f7-883e-84cf52751ac1\" class=\"plotly-graph-div\" style=\"height:525px; width:100%;\"></div>\n",
              "            <script type=\"text/javascript\">\n",
              "                \n",
              "                    window.PLOTLYENV=window.PLOTLYENV || {};\n",
              "                    \n",
              "                if (document.getElementById(\"76e33d16-cd99-45f7-883e-84cf52751ac1\")) {\n",
              "                    Plotly.newPlot(\n",
              "                        '76e33d16-cd99-45f7-883e-84cf52751ac1',\n",
              "                        [{\"hoverlabel\": {\"namelength\": 0}, \"hovertemplate\": \"<b>%{hovertext}</b><br><br>Region=South Asia<br>GDP per capita=%{x}<br>% of Urban Population=%{y}\", \"hovertext\": [\"Afghanistan\", \"Bangladesh\", \"Bhutan\", \"India\", \"Sri Lanka\", \"Maldives\", \"Nepal\", \"Pakistan\"], \"legendgroup\": \"Region=South Asia\", \"marker\": {\"color\": \"#636efa\", \"symbol\": \"circle\"}, \"mode\": \"markers\", \"name\": \"Region=South Asia\", \"showlegend\": true, \"type\": \"scatter\", \"x\": [2087.6363940006, 5082.6807503643, 11508.1741774838, 6454.347356381801, 13225.4088007871, 13765.635981905702, 4008.7465803348, 4876.6305536435], \"xaxis\": \"x\", \"y\": [26.026, 38.177, 42.316, 34.926, 18.713, 40.669000000000004, 20.576, 37.165], \"yaxis\": \"y\"}, {\"hoverlabel\": {\"namelength\": 0}, \"hovertemplate\": \"<b>OLS trendline</b><br>SP.URB.TOTL.IN.ZS = 0.000418 * NY.GDP.PCAP.PP.CD + 29.130398<br>R<sup>2</sup>=0.042017<br><br>Region=South Asia<br>GDP per capita=%{x}<br>% of Urban Population=%{y} <b>(trend)</b>\", \"legendgroup\": \"Region=South Asia\", \"marker\": {\"color\": \"#636efa\", \"symbol\": \"circle\"}, \"mode\": \"lines\", \"name\": \"Region=South Asia\", \"showlegend\": false, \"type\": \"scatter\", \"x\": [2087.6363940006, 4008.7465803348, 4876.6305536435, 5082.6807503643, 6454.347356381801, 11508.1741774838, 13225.4088007871, 13765.635981905702], \"xaxis\": \"x\", \"y\": [30.003814885299363, 30.807561550249794, 31.170663497276507, 31.256869983299435, 31.83074256377549, 33.94514312319824, 34.663593116975605, 34.88961127992553], \"yaxis\": \"y\"}, {\"hoverlabel\": {\"namelength\": 0}, \"hovertemplate\": \"<b>%{hovertext}</b><br><br>Region=Sub-Saharan Africa <br>GDP per capita=%{x}<br>% of Urban Population=%{y}\", \"hovertext\": [\"Angola\", \"Burundi\", \"Benin\", \"Burkina Faso\", \"Botswana\", \"Central African Republic\", \"Cote d'Ivoire\", \"Cameroon\", \"Congo, Dem. Rep.\", \"Congo, Rep.\", \"Comoros\", \"Cabo Verde\", \"Ethiopia\", \"Gabon\", \"Ghana\", \"Guinea\", \"Gambia, The\", \"Guinea-Bissau\", \"Equatorial Guinea\", \"Kenya\", \"Liberia\", \"Lesotho\", \"Madagascar\", \"Mali\", \"Mozambique\", \"Mauritania\", \"Mauritius\", \"Malawi\", \"Namibia\", \"Niger\", \"Nigeria\", \"Rwanda\", \"Sudan\", \"Senegal\", \"Sierra Leone\", \"Somalia\", \"Sao Tome and Principe\", \"Eswatini\", \"Seychelles\", \"Chad\", \"Togo\", \"Tanzania\", \"Uganda\", \"South Africa\", \"Zambia\", \"Zimbabwe\"], \"legendgroup\": \"Region=Sub-Saharan Africa \", \"marker\": {\"color\": \"#EF553B\", \"symbol\": \"circle\"}, \"mode\": \"markers\", \"name\": \"Region=Sub-Saharan Africa \", \"showlegend\": true, \"type\": \"scatter\", \"x\": [6538.4520538729, 771.2096187616, 3505.6351635826, 2279.1561732032997, 16920.8466745308, 979.5830660874001, 5458.236651125801, 3772.7449855499, 1131.0906069864, 3638.5557749751, 3313.1704671415005, 6377.0258315573, 2422.9577888954, 15190.6386251211, 5596.3070706446, 2817.4918088079, 2278.0278146917003, 1948.9195404973002, 17941.5996995858, 4452.2060236705, 1428.1892996043, 2405.0965174457997, 1593.0712660448, 2338.5075230461, 1296.5750349477, 5256.874547408, 20538.6949103031, 1568.4247812661, 9382.2175367398, 1262.6041755418, 5186.7234837793, 2213.9611897184, 4243.7819360945, 3481.3099218762, 1738.556326941, 875.169599243, 4274.099011522199, 8853.6042434463, 25699.7290739829, 1603.3784565899, 2223.6314906298003, 2780.0555482202003, 2297.178684407, 12095.856289625, 3449.6093221154997, 2895.4156454758004], \"xaxis\": \"x\", \"y\": [66.825, 13.708, 48.415, 30.607, 70.877, 42.198, 51.706, 57.56, 45.638000000000005, 67.829, 29.38, 66.652, 21.695, 90.09200000000001, 57.349, 36.875, 62.582, 44.196000000000005, 73.1, 27.995, 52.089, 29.028000000000002, 38.534, 43.909, 37.074, 55.327, 40.76, 17.427, 52.033, 16.625999999999998, 51.958, 17.432000000000002, 35.253, 48.122, 42.923, 46.141000000000005, 74.354, 24.171, 57.54600000000001, 23.52, 42.8, 35.227, 24.954, 67.354, 44.629, 32.242], \"yaxis\": \"y\"}, {\"hoverlabel\": {\"namelength\": 0}, \"hovertemplate\": \"<b>OLS trendline</b><br>SP.URB.TOTL.IN.ZS = 0.001568 * NY.GDP.PCAP.PP.CD + 36.588345<br>R<sup>2</sup>=0.247135<br><br>Region=Sub-Saharan Africa <br>GDP per capita=%{x}<br>% of Urban Population=%{y} <b>(trend)</b>\", \"legendgroup\": \"Region=Sub-Saharan Africa \", \"marker\": {\"color\": \"#EF553B\", \"symbol\": \"circle\"}, \"mode\": \"lines\", \"name\": \"Region=Sub-Saharan Africa \", \"showlegend\": false, \"type\": \"scatter\", \"x\": [771.2096187616, 875.169599243, 979.5830660874001, 1131.0906069864, 1262.6041755418, 1296.5750349477, 1428.1892996043, 1568.4247812661, 1593.0712660448, 1603.3784565899, 1738.556326941, 1948.9195404973002, 2213.9611897184, 2223.6314906298003, 2278.0278146917003, 2279.1561732032997, 2297.178684407, 2338.5075230461, 2405.0965174457997, 2422.9577888954, 2780.0555482202003, 2817.4918088079, 2895.4156454758004, 3313.1704671415005, 3449.6093221154997, 3481.3099218762, 3505.6351635826, 3638.5557749751, 3772.7449855499, 4243.7819360945, 4274.099011522199, 4452.2060236705, 5186.7234837793, 5256.874547408, 5458.236651125801, 5596.3070706446, 6377.0258315573, 6538.4520538729, 8853.6042434463, 9382.2175367398, 12095.856289625, 15190.6386251211, 16920.8466745308, 17941.5996995858, 20538.6949103031, 25699.7290739829], \"xaxis\": \"x\", \"y\": [37.79749941027903, 37.96049486158037, 38.12420131930989, 38.36174503459374, 38.56794085494378, 38.62120265370825, 38.82755635218008, 39.04742697466462, 39.086069391591714, 39.10222969834406, 39.31417065756513, 39.64399225595359, 40.0595423842664, 40.07470413260432, 40.1599903489786, 40.16175946536335, 40.190016370892074, 40.25481450450605, 40.359217209697235, 40.387221312692084, 40.94710320349578, 41.005798291367775, 41.127972524818006, 41.782956638660664, 41.996874654406184, 42.04657698736731, 42.08471573779405, 42.29311761456283, 42.50350848647457, 43.242031906526186, 43.2895650569615, 43.568813212748125, 44.72043910133287, 44.83042665829932, 45.14613571113375, 45.36261180353604, 46.58667519971139, 46.83977009099899, 50.46962144556237, 51.29841692922135, 55.553042325909004, 60.40525027282989, 63.11798685235623, 64.71839211614724, 68.79029270696299, 76.88210927710085], \"yaxis\": \"y\"}, {\"hoverlabel\": {\"namelength\": 0}, \"hovertemplate\": \"<b>%{hovertext}</b><br><br>Region=Europe & Central Asia<br>GDP per capita=%{x}<br>% of Urban Population=%{y}\", \"hovertext\": [\"Albania\", \"Armenia\", \"Austria\", \"Azerbaijan\", \"Belgium\", \"Bulgaria\", \"Bosnia and Herzegovina\", \"Belarus\", \"Switzerland\", \"Cyprus\", \"Czech Republic\", \"Germany\", \"Denmark\", \"Spain\", \"Estonia\", \"Finland\", \"France\", \"United Kingdom\", \"Georgia\", \"Greece\", \"Croatia\", \"Hungary\", \"Ireland\", \"Iceland\", \"Italy\", \"Kazakhstan\", \"Kyrgyz Republic\", \"Lithuania\", \"Luxembourg\", \"Latvia\", \"Moldova\", \"North Macedonia\", \"Montenegro\", \"Netherlands\", \"Norway\", \"Poland\", \"Portugal\", \"Romania\", \"Russian Federation\", \"Serbia\", \"Slovak Republic\", \"Slovenia\", \"Sweden\", \"Tajikistan\", \"Turkey\", \"Ukraine\", \"Uzbekistan\"], \"legendgroup\": \"Region=Europe & Central Asia\", \"marker\": {\"color\": \"#00cc96\", \"symbol\": \"circle\"}, \"mode\": \"markers\", \"name\": \"Region=Europe & Central Asia\", \"showlegend\": true, \"type\": \"scatter\", \"x\": [13817.7589656756, 13284.160830728999, 55097.461225832805, 14451.983696650701, 51968.1920227771, 24367.3239228848, 15611.791305994198, 20199.6984928506, 71352.3525990268, 38458.1912618072, 41737.418040924706, 53694.3547123431, 60398.4533430492, 38334.6113444231, 38394.9175345121, 51089.7853321567, 46226.950535686905, 44916.2283385249, 14863.0173692196, 28463.7886828947, 28503.8805738916, 33084.0962334341, 93612.1659106094, 55216.0261783821, 41839.9910228994, 26728.5439182062, 4965.0318757531, 38734.7293153001, 118359.52616184301, 32019.222335100698, 13001.550045211, 16926.624142555702, 20566.6384071985, 59228.834953760495, 63197.98147058651, 34264.7597598664, 34495.9224734636, 31945.749656632797, 28213.447838229702, 19230.6300632762, 31832.394609507002, 39593.3074407023, 54563.1214122072, 3858.4294154021004, 28119.453039890497, 13056.7020745176, 7378.2547203592], \"xaxis\": \"x\", \"y\": [62.111999999999995, 63.313, 58.748000000000005, 56.397, 98.079, 75.686, 49.02, 79.483, 73.915, 66.821, 74.061, 77.453, 88.116, 80.81, 69.229, 85.51700000000001, 80.975, 83.90299999999999, 59.453, 79.715, 57.553000000000004, 71.942, 63.653, 93.898, 71.039, 57.67100000000001, 36.856, 68.046, 91.45299999999999, 68.315, 42.849, 58.482, 67.488, 92.236, 82.97399999999999, 60.043, 66.31, 54.193999999999996, 74.75399999999999, 56.446000000000005, 53.76, 55.118, 87.977, 27.506, 76.105, 69.608, 50.416000000000004], \"yaxis\": \"y\"}, {\"hoverlabel\": {\"namelength\": 0}, \"hovertemplate\": \"<b>OLS trendline</b><br>SP.URB.TOTL.IN.ZS = 0.000423 * NY.GDP.PCAP.PP.CD + 53.126061<br>R<sup>2</sup>=0.391905<br><br>Region=Europe & Central Asia<br>GDP per capita=%{x}<br>% of Urban Population=%{y} <b>(trend)</b>\", \"legendgroup\": \"Region=Europe & Central Asia\", \"marker\": {\"color\": \"#00cc96\", \"symbol\": \"circle\"}, \"mode\": \"lines\", \"name\": \"Region=Europe & Central Asia\", \"showlegend\": false, \"type\": \"scatter\", \"x\": [3858.4294154021004, 4965.0318757531, 7378.2547203592, 13001.550045211, 13056.7020745176, 13284.160830728999, 13817.7589656756, 14451.983696650701, 14863.0173692196, 15611.791305994198, 16926.624142555702, 19230.6300632762, 20199.6984928506, 20566.6384071985, 24367.3239228848, 26728.5439182062, 28119.453039890497, 28213.447838229702, 28463.7886828947, 28503.8805738916, 31832.394609507002, 31945.749656632797, 32019.222335100698, 33084.0962334341, 34264.7597598664, 34495.9224734636, 38334.6113444231, 38394.9175345121, 38458.1912618072, 38734.7293153001, 39593.3074407023, 41737.418040924706, 41839.9910228994, 44916.2283385249, 46226.950535686905, 51089.7853321567, 51968.1920227771, 53694.3547123431, 54563.1214122072, 55097.461225832805, 55216.0261783821, 59228.834953760495, 60398.4533430492, 63197.98147058651, 71352.3525990268, 93612.1659106094, 118359.52616184301], \"xaxis\": \"x\", \"y\": [54.75716982007963, 55.22497380373981, 56.24513714207939, 58.62232321252145, 58.64563812455263, 58.741793804741825, 58.96736653040021, 59.235478039561194, 59.409237990704995, 59.72577391307495, 60.281604991378885, 61.25559807987049, 61.66526106909828, 61.82038087033333, 63.42707874837133, 64.42525845579675, 65.01324994447174, 65.05298520865367, 65.15881403933419, 65.17576244401681, 66.58285503717426, 66.63077463297617, 66.66183439735313, 67.11199809171009, 67.61111057412054, 67.70883206143783, 69.33159543871899, 69.35708921536761, 69.38383748563649, 69.50074089737893, 69.86369532928869, 70.77009443477586, 70.81345603146745, 72.11390142400457, 72.66799477484504, 74.72370454522485, 75.09504128436028, 75.82475752082013, 76.19201906019788, 76.4179053223367, 76.46802734818819, 78.16439799442107, 78.6588412669382, 79.84231090247042, 83.28948134967685, 92.69957188877359, 103.1612454575532], \"yaxis\": \"y\"}, {\"hoverlabel\": {\"namelength\": 0}, \"hovertemplate\": \"<b>%{hovertext}</b><br><br>Region=Latin America & Caribbean <br>GDP per capita=%{x}<br>% of Urban Population=%{y}\", \"hovertext\": [\"Argentina\", \"Antigua and Barbuda\", \"Bahamas, The\", \"Belize\", \"Bolivia\", \"Brazil\", \"Barbados\", \"Chile\", \"Colombia\", \"Costa Rica\", \"Dominica\", \"Dominican Republic\", \"Ecuador\", \"Grenada\", \"Guatemala\", \"Guyana\", \"Honduras\", \"Haiti\", \"Jamaica\", \"St. Kitts and Nevis\", \"St. Lucia\", \"Mexico\", \"Nicaragua\", \"Panama\", \"Peru\", \"Puerto Rico\", \"Paraguay\", \"El Salvador\", \"Suriname\", \"Turks and Caicos Islands\", \"Trinidad and Tobago\", \"Uruguay\", \"St. Vincent and the Grenadines\"], \"legendgroup\": \"Region=Latin America & Caribbean \", \"marker\": {\"color\": \"#ab63fa\", \"symbol\": \"circle\"}, \"mode\": \"markers\", \"name\": \"Region=Latin America & Caribbean \", \"showlegend\": true, \"type\": \"scatter\", \"x\": [20767.6105001703, 18942.3880651775, 32453.5295740897, 6455.9617526987, 8367.3271590664, 14836.307100914299, 13576.801799531699, 25067.6916009163, 14565.3680522873, 21031.8175436511, 10434.4729370643, 17936.7346849962, 10896.427433954399, 15893.2153791848, 8854.2024639096, 19705.7926684251, 5420.560196329, 2925.3653238707, 9221.5933050965, 24536.6518405639, 12943.8219371625, 18833.082415227702, 5570.0998748493, 26775.6944526998, 11879.2358960654, 35279.3470349392, 13012.8756954841, 8498.9687204029, 17015.9602788948, 22281.9221529183, 25031.1921587721, 22795.058750005297, 12770.149236556], \"xaxis\": \"x\", \"y\": [92.111, 24.433000000000003, 83.245, 46.025, 70.123, 87.073, 31.191, 87.727, 81.425, 80.771, 71.09, 82.54, 64.166, 36.537, 51.836000000000006, 26.785999999999998, 58.358999999999995, 57.088, 56.31100000000001, 30.843000000000004, 18.840999999999998, 80.73100000000001, 59.012, 68.414, 78.297, 93.581, 62.183, 73.444, 66.149, 93.605, 53.214, 95.515, 53.032], \"yaxis\": \"y\"}, {\"hoverlabel\": {\"namelength\": 0}, \"hovertemplate\": \"<b>OLS trendline</b><br>SP.URB.TOTL.IN.ZS = 0.000875 * NY.GDP.PCAP.PP.CD + 49.932820<br>R<sup>2</sup>=0.097904<br><br>Region=Latin America & Caribbean <br>GDP per capita=%{x}<br>% of Urban Population=%{y} <b>(trend)</b>\", \"legendgroup\": \"Region=Latin America & Caribbean \", \"marker\": {\"color\": \"#ab63fa\", \"symbol\": \"circle\"}, \"mode\": \"lines\", \"name\": \"Region=Latin America & Caribbean \", \"showlegend\": false, \"type\": \"scatter\", \"x\": [2925.3653238707, 5420.560196329, 5570.0998748493, 6455.9617526987, 8367.3271590664, 8498.9687204029, 8854.2024639096, 9221.5933050965, 10434.4729370643, 10896.427433954399, 11879.2358960654, 12770.149236556, 12943.8219371625, 13012.8756954841, 13576.801799531699, 14565.3680522873, 14836.307100914299, 15893.2153791848, 17015.9602788948, 17936.7346849962, 18833.082415227702, 18942.3880651775, 19705.7926684251, 20767.6105001703, 21031.8175436511, 22281.9221529183, 22795.058750005297, 24536.6518405639, 25031.1921587721, 25067.6916009163, 26775.6944526998, 32453.5295740897, 35279.3470349392], \"xaxis\": \"x\", \"y\": [52.49338955273628, 54.67743124325727, 54.808323181149746, 55.58371723739039, 57.25673355343221, 57.37195928643516, 57.682895043101766, 58.00447189576548, 59.066104280089675, 59.470452610341574, 60.330703919263385, 61.1105195159329, 61.262535065025574, 61.32297775378156, 61.816581734459675, 62.68187283203763, 62.91902552272445, 63.844136330011956, 64.82687386921287, 65.632826828113, 66.4173991409363, 66.51307427201921, 67.18128159267057, 68.11068972742893, 68.34194990043613, 69.43616527186406, 69.88531324557158, 71.40972801561149, 71.84259868416416, 71.87454661103897, 73.36955987713658, 78.33936354012766, 80.81279886673083], \"yaxis\": \"y\"}, {\"hoverlabel\": {\"namelength\": 0}, \"hovertemplate\": \"<b>%{hovertext}</b><br><br>Region=East Asia & Pacific<br>GDP per capita=%{x}<br>% of Urban Population=%{y}\", \"hovertext\": [\"Australia\", \"Brunei Darussalam\", \"China\", \"Fiji\", \"Hong Kong SAR, China\", \"Indonesia\", \"Cambodia\", \"Kiribati\", \"Korea, Rep.\", \"Lao PDR\", \"Macao SAR, China\", \"Myanmar\", \"Mongolia\", \"Malaysia\", \"New Zealand\", \"Philippines\", \"Papua New Guinea\", \"Singapore\", \"Solomon Islands\", \"Thailand\", \"Timor-Leste\", \"Tuvalu\", \"Vietnam\", \"Vanuatu\"], \"legendgroup\": \"Region=East Asia & Pacific\", \"marker\": {\"color\": \"#FFA15A\", \"symbol\": \"circle\"}, \"mode\": \"markers\", \"name\": \"Region=East Asia & Pacific\", \"showlegend\": true, \"type\": \"scatter\", \"x\": [52518.3244830382, 65661.6939297088, 17311.9979202848, 11601.4005261348, 59237.6708212188, 12073.461509431001, 4422.0457429343, 2417.7674660576, 43124.2946857302, 8234.4545367667, 57807.1620352378, 4793.5568348331, 12100.586698631101, 27886.8608901388, 44251.7942246991, 8390.3531436861, 4326.4376075194, 98525.9543531223, 2619.2190071357, 18236.176111150402, 3355.8295616012, 4653.2336642971, 8650.653672399201, 2914.5102731032002], \"xaxis\": \"x\", \"y\": [86.241, 78.25, 61.428000000000004, 57.247, 100.0, 56.641000000000005, 24.232, 55.593999999999994, 81.414, 36.29, 100.0, 31.141, 68.657, 77.16, 86.699, 47.408, 13.345, 100.0, 24.67, 51.43, 31.32, 64.014, 37.34, 25.525], \"yaxis\": \"y\"}, {\"hoverlabel\": {\"namelength\": 0}, \"hovertemplate\": \"<b>OLS trendline</b><br>SP.URB.TOTL.IN.ZS = 0.000850 * NY.GDP.PCAP.PP.CD + 37.791762<br>R<sup>2</sup>=0.706784<br><br>Region=East Asia & Pacific<br>GDP per capita=%{x}<br>% of Urban Population=%{y} <b>(trend)</b>\", \"legendgroup\": \"Region=East Asia & Pacific\", \"marker\": {\"color\": \"#FFA15A\", \"symbol\": \"circle\"}, \"mode\": \"lines\", \"name\": \"Region=East Asia & Pacific\", \"showlegend\": false, \"type\": \"scatter\", \"x\": [2417.7674660576, 2619.2190071357, 2914.5102731032002, 3355.8295616012, 4326.4376075194, 4422.0457429343, 4653.2336642971, 4793.5568348331, 8234.4545367667, 8390.3531436861, 8650.653672399201, 11601.4005261348, 12073.461509431001, 12100.586698631101, 17311.9979202848, 18236.176111150402, 27886.8608901388, 43124.2946857302, 44251.7942246991, 52518.3244830382, 57807.1620352378, 59237.6708212188, 65661.6939297088, 98525.9543531223], \"xaxis\": \"x\", \"y\": [39.847686998911364, 40.01898931572342, 40.2700873104267, 40.64535878350144, 41.47070569369335, 41.55200512190821, 41.74859347430536, 41.86791588845314, 44.79384906871102, 44.92641590046691, 45.14775986933071, 47.65689814479728, 48.05831051266725, 48.08137614785215, 52.51284791198978, 53.29871365615439, 61.50507759170064, 74.4620780568554, 75.420836089662, 82.45019797824361, 86.94750845343695, 88.16392738946058, 93.62653162593985, 121.57232901580862], \"yaxis\": \"y\"}, {\"hoverlabel\": {\"namelength\": 0}, \"hovertemplate\": \"<b>%{hovertext}</b><br><br>Region=Middle East & North Africa<br>GDP per capita=%{x}<br>% of Urban Population=%{y}\", \"hovertext\": [\"Bahrain\", \"Djibouti\", \"Algeria\", \"Egypt, Arab Rep.\", \"Iran, Islamic Rep.\", \"Iraq\", \"Israel\", \"Jordan\", \"Lebanon\", \"Libya\", \"Morocco\", \"Malta\", \"West Bank and Gaza\", \"Qatar\", \"Saudi Arabia\", \"Tunisia\"], \"legendgroup\": \"Region=Middle East & North Africa\", \"marker\": {\"color\": \"#19d3f3\", \"symbol\": \"circle\"}, \"mode\": \"markers\", \"name\": \"Region=Middle East & North Africa\", \"showlegend\": true, \"type\": \"scatter\", \"x\": [43181.2106255754, 5782.1106254149, 11268.2644722324, 12607.7621145597, 13116.0723596195, 9763.5099913334, 41854.9341515478, 10355.631317089, 12288.758524216399, 10846.9438234929, 7296.1580646202, 42640.1161038759, 5690.2875170376, 89948.61058023, 46762.4692706716, 10261.6908447281], \"xaxis\": \"x\", \"y\": [89.506, 78.062, 73.733, 42.783, 75.874, 70.893, 92.587, 91.41799999999999, 88.925, 80.691, 63.532, 94.744, 76.719, 99.235, 84.287, 69.568], \"yaxis\": \"y\"}, {\"hoverlabel\": {\"namelength\": 0}, \"hovertemplate\": \"<b>OLS trendline</b><br>SP.URB.TOTL.IN.ZS = 0.000364 * NY.GDP.PCAP.PP.CD + 71.024521<br>R<sup>2</sup>=0.362623<br><br>Region=Middle East & North Africa<br>GDP per capita=%{x}<br>% of Urban Population=%{y} <b>(trend)</b>\", \"legendgroup\": \"Region=Middle East & North Africa\", \"marker\": {\"color\": \"#19d3f3\", \"symbol\": \"circle\"}, \"mode\": \"lines\", \"name\": \"Region=Middle East & North Africa\", \"showlegend\": false, \"type\": \"scatter\", \"x\": [5690.2875170376, 5782.1106254149, 7296.1580646202, 9763.5099913334, 10261.6908447281, 10355.631317089, 10846.9438234929, 11268.2644722324, 12288.758524216399, 12607.7621145597, 13116.0723596195, 41854.9341515478, 42640.1161038759, 43181.2106255754, 46762.4692706716, 89948.61058023], \"xaxis\": \"x\", \"y\": [73.09808136153171, 73.13154202572113, 73.68326624662132, 74.58237798130179, 74.76391683939124, 74.79814907847584, 74.97718508672436, 75.13071581545567, 75.50258744324276, 75.61883347542712, 75.80406351952561, 86.27660600474144, 86.56272907439934, 86.75990582440575, 88.06492909160592, 103.80211113142875], \"yaxis\": \"y\"}, {\"hoverlabel\": {\"namelength\": 0}, \"hovertemplate\": \"<b>%{hovertext}</b><br><br>Region=North America<br>GDP per capita=%{x}<br>% of Urban Population=%{y}\", \"hovertext\": [\"Canada\", \"United States\"], \"legendgroup\": \"Region=North America\", \"marker\": {\"color\": \"#FF6692\", \"symbol\": \"circle\"}, \"mode\": \"markers\", \"name\": \"Region=North America\", \"showlegend\": true, \"type\": \"scatter\", \"x\": [48072.583756378, 63543.577788724004], \"xaxis\": \"x\", \"y\": [81.562, 82.664], \"yaxis\": \"y\"}, {\"hoverlabel\": {\"namelength\": 0}, \"hovertemplate\": \"<b>OLS trendline</b><br>SP.URB.TOTL.IN.ZS = 0.000071 * NY.GDP.PCAP.PP.CD + 78.137786<br>R<sup>2</sup>=1.000000<br><br>Region=North America<br>GDP per capita=%{x}<br>% of Urban Population=%{y} <b>(trend)</b>\", \"legendgroup\": \"Region=North America\", \"marker\": {\"color\": \"#FF6692\", \"symbol\": \"circle\"}, \"mode\": \"lines\", \"name\": \"Region=North America\", \"showlegend\": false, \"type\": \"scatter\", \"x\": [48072.583756378, 63543.577788724004], \"xaxis\": \"x\", \"y\": [81.56199999999993, 82.66399999999992], \"yaxis\": \"y\"}],\n",
              "                        {\"legend\": {\"tracegroupgap\": 0}, \"template\": {\"data\": {\"bar\": [{\"error_x\": {\"color\": \"#2a3f5f\"}, \"error_y\": {\"color\": \"#2a3f5f\"}, \"marker\": {\"line\": {\"color\": \"#E5ECF6\", \"width\": 0.5}}, \"type\": \"bar\"}], \"barpolar\": [{\"marker\": {\"line\": {\"color\": \"#E5ECF6\", \"width\": 0.5}}, \"type\": \"barpolar\"}], \"carpet\": [{\"aaxis\": {\"endlinecolor\": \"#2a3f5f\", \"gridcolor\": \"white\", \"linecolor\": \"white\", \"minorgridcolor\": \"white\", \"startlinecolor\": \"#2a3f5f\"}, \"baxis\": {\"endlinecolor\": \"#2a3f5f\", \"gridcolor\": \"white\", \"linecolor\": \"white\", \"minorgridcolor\": \"white\", \"startlinecolor\": \"#2a3f5f\"}, \"type\": \"carpet\"}], \"choropleth\": [{\"colorbar\": {\"outlinewidth\": 0, \"ticks\": \"\"}, \"type\": \"choropleth\"}], \"contour\": [{\"colorbar\": {\"outlinewidth\": 0, \"ticks\": \"\"}, \"colorscale\": [[0.0, \"#0d0887\"], [0.1111111111111111, \"#46039f\"], [0.2222222222222222, \"#7201a8\"], [0.3333333333333333, \"#9c179e\"], [0.4444444444444444, \"#bd3786\"], [0.5555555555555556, \"#d8576b\"], [0.6666666666666666, \"#ed7953\"], [0.7777777777777778, \"#fb9f3a\"], [0.8888888888888888, \"#fdca26\"], [1.0, \"#f0f921\"]], \"type\": \"contour\"}], \"contourcarpet\": [{\"colorbar\": {\"outlinewidth\": 0, \"ticks\": \"\"}, \"type\": \"contourcarpet\"}], \"heatmap\": [{\"colorbar\": {\"outlinewidth\": 0, \"ticks\": \"\"}, \"colorscale\": [[0.0, \"#0d0887\"], [0.1111111111111111, \"#46039f\"], [0.2222222222222222, \"#7201a8\"], [0.3333333333333333, \"#9c179e\"], [0.4444444444444444, \"#bd3786\"], [0.5555555555555556, \"#d8576b\"], [0.6666666666666666, \"#ed7953\"], [0.7777777777777778, \"#fb9f3a\"], [0.8888888888888888, \"#fdca26\"], [1.0, \"#f0f921\"]], \"type\": \"heatmap\"}], \"heatmapgl\": [{\"colorbar\": {\"outlinewidth\": 0, \"ticks\": \"\"}, \"colorscale\": [[0.0, \"#0d0887\"], [0.1111111111111111, \"#46039f\"], [0.2222222222222222, \"#7201a8\"], [0.3333333333333333, \"#9c179e\"], [0.4444444444444444, \"#bd3786\"], [0.5555555555555556, \"#d8576b\"], [0.6666666666666666, \"#ed7953\"], [0.7777777777777778, \"#fb9f3a\"], [0.8888888888888888, \"#fdca26\"], [1.0, \"#f0f921\"]], \"type\": \"heatmapgl\"}], \"histogram\": [{\"marker\": {\"colorbar\": {\"outlinewidth\": 0, \"ticks\": \"\"}}, \"type\": \"histogram\"}], \"histogram2d\": [{\"colorbar\": {\"outlinewidth\": 0, \"ticks\": \"\"}, \"colorscale\": [[0.0, \"#0d0887\"], [0.1111111111111111, \"#46039f\"], [0.2222222222222222, \"#7201a8\"], [0.3333333333333333, \"#9c179e\"], [0.4444444444444444, \"#bd3786\"], [0.5555555555555556, \"#d8576b\"], [0.6666666666666666, \"#ed7953\"], [0.7777777777777778, \"#fb9f3a\"], [0.8888888888888888, \"#fdca26\"], [1.0, \"#f0f921\"]], \"type\": \"histogram2d\"}], \"histogram2dcontour\": [{\"colorbar\": {\"outlinewidth\": 0, \"ticks\": \"\"}, \"colorscale\": [[0.0, \"#0d0887\"], [0.1111111111111111, \"#46039f\"], [0.2222222222222222, \"#7201a8\"], [0.3333333333333333, \"#9c179e\"], [0.4444444444444444, \"#bd3786\"], [0.5555555555555556, \"#d8576b\"], [0.6666666666666666, \"#ed7953\"], [0.7777777777777778, \"#fb9f3a\"], [0.8888888888888888, \"#fdca26\"], [1.0, \"#f0f921\"]], \"type\": \"histogram2dcontour\"}], \"mesh3d\": [{\"colorbar\": {\"outlinewidth\": 0, \"ticks\": \"\"}, \"type\": \"mesh3d\"}], \"parcoords\": [{\"line\": {\"colorbar\": {\"outlinewidth\": 0, \"ticks\": \"\"}}, \"type\": \"parcoords\"}], \"pie\": [{\"automargin\": true, \"type\": \"pie\"}], \"scatter\": [{\"marker\": {\"colorbar\": {\"outlinewidth\": 0, \"ticks\": \"\"}}, \"type\": \"scatter\"}], \"scatter3d\": [{\"line\": {\"colorbar\": {\"outlinewidth\": 0, \"ticks\": \"\"}}, \"marker\": {\"colorbar\": {\"outlinewidth\": 0, \"ticks\": \"\"}}, \"type\": \"scatter3d\"}], \"scattercarpet\": [{\"marker\": {\"colorbar\": {\"outlinewidth\": 0, \"ticks\": \"\"}}, \"type\": \"scattercarpet\"}], \"scattergeo\": [{\"marker\": {\"colorbar\": {\"outlinewidth\": 0, \"ticks\": \"\"}}, \"type\": \"scattergeo\"}], \"scattergl\": [{\"marker\": {\"colorbar\": {\"outlinewidth\": 0, \"ticks\": \"\"}}, \"type\": \"scattergl\"}], \"scattermapbox\": [{\"marker\": {\"colorbar\": {\"outlinewidth\": 0, \"ticks\": \"\"}}, \"type\": \"scattermapbox\"}], \"scatterpolar\": [{\"marker\": {\"colorbar\": {\"outlinewidth\": 0, \"ticks\": \"\"}}, \"type\": \"scatterpolar\"}], \"scatterpolargl\": [{\"marker\": {\"colorbar\": {\"outlinewidth\": 0, \"ticks\": \"\"}}, \"type\": \"scatterpolargl\"}], \"scatterternary\": [{\"marker\": {\"colorbar\": {\"outlinewidth\": 0, \"ticks\": \"\"}}, \"type\": \"scatterternary\"}], \"surface\": [{\"colorbar\": {\"outlinewidth\": 0, \"ticks\": \"\"}, \"colorscale\": [[0.0, \"#0d0887\"], [0.1111111111111111, \"#46039f\"], [0.2222222222222222, \"#7201a8\"], [0.3333333333333333, \"#9c179e\"], [0.4444444444444444, \"#bd3786\"], [0.5555555555555556, \"#d8576b\"], [0.6666666666666666, \"#ed7953\"], [0.7777777777777778, \"#fb9f3a\"], [0.8888888888888888, \"#fdca26\"], [1.0, \"#f0f921\"]], \"type\": \"surface\"}], \"table\": [{\"cells\": {\"fill\": {\"color\": \"#EBF0F8\"}, \"line\": {\"color\": \"white\"}}, \"header\": {\"fill\": {\"color\": \"#C8D4E3\"}, \"line\": {\"color\": \"white\"}}, \"type\": \"table\"}]}, \"layout\": {\"annotationdefaults\": {\"arrowcolor\": \"#2a3f5f\", \"arrowhead\": 0, \"arrowwidth\": 1}, \"coloraxis\": {\"colorbar\": {\"outlinewidth\": 0, \"ticks\": \"\"}}, \"colorscale\": {\"diverging\": [[0, \"#8e0152\"], [0.1, \"#c51b7d\"], [0.2, \"#de77ae\"], [0.3, \"#f1b6da\"], [0.4, \"#fde0ef\"], [0.5, \"#f7f7f7\"], [0.6, \"#e6f5d0\"], [0.7, \"#b8e186\"], [0.8, \"#7fbc41\"], [0.9, \"#4d9221\"], [1, \"#276419\"]], \"sequential\": [[0.0, \"#0d0887\"], [0.1111111111111111, \"#46039f\"], [0.2222222222222222, \"#7201a8\"], [0.3333333333333333, \"#9c179e\"], [0.4444444444444444, \"#bd3786\"], [0.5555555555555556, \"#d8576b\"], [0.6666666666666666, \"#ed7953\"], [0.7777777777777778, \"#fb9f3a\"], [0.8888888888888888, \"#fdca26\"], [1.0, \"#f0f921\"]], \"sequentialminus\": [[0.0, \"#0d0887\"], [0.1111111111111111, \"#46039f\"], [0.2222222222222222, \"#7201a8\"], [0.3333333333333333, \"#9c179e\"], [0.4444444444444444, \"#bd3786\"], [0.5555555555555556, \"#d8576b\"], [0.6666666666666666, \"#ed7953\"], [0.7777777777777778, \"#fb9f3a\"], [0.8888888888888888, \"#fdca26\"], [1.0, \"#f0f921\"]]}, \"colorway\": [\"#636efa\", \"#EF553B\", \"#00cc96\", \"#ab63fa\", \"#FFA15A\", \"#19d3f3\", \"#FF6692\", \"#B6E880\", \"#FF97FF\", \"#FECB52\"], \"font\": {\"color\": \"#2a3f5f\"}, \"geo\": {\"bgcolor\": \"white\", \"lakecolor\": \"white\", \"landcolor\": \"#E5ECF6\", \"showlakes\": true, \"showland\": true, \"subunitcolor\": \"white\"}, \"hoverlabel\": {\"align\": \"left\"}, \"hovermode\": \"closest\", \"mapbox\": {\"style\": \"light\"}, \"paper_bgcolor\": \"white\", \"plot_bgcolor\": \"#E5ECF6\", \"polar\": {\"angularaxis\": {\"gridcolor\": \"white\", \"linecolor\": \"white\", \"ticks\": \"\"}, \"bgcolor\": \"#E5ECF6\", \"radialaxis\": {\"gridcolor\": \"white\", \"linecolor\": \"white\", \"ticks\": \"\"}}, \"scene\": {\"xaxis\": {\"backgroundcolor\": \"#E5ECF6\", \"gridcolor\": \"white\", \"gridwidth\": 2, \"linecolor\": \"white\", \"showbackground\": true, \"ticks\": \"\", \"zerolinecolor\": \"white\"}, \"yaxis\": {\"backgroundcolor\": \"#E5ECF6\", \"gridcolor\": \"white\", \"gridwidth\": 2, \"linecolor\": \"white\", \"showbackground\": true, \"ticks\": \"\", \"zerolinecolor\": \"white\"}, \"zaxis\": {\"backgroundcolor\": \"#E5ECF6\", \"gridcolor\": \"white\", \"gridwidth\": 2, \"linecolor\": \"white\", \"showbackground\": true, \"ticks\": \"\", \"zerolinecolor\": \"white\"}}, \"shapedefaults\": {\"line\": {\"color\": \"#2a3f5f\"}}, \"ternary\": {\"aaxis\": {\"gridcolor\": \"white\", \"linecolor\": \"white\", \"ticks\": \"\"}, \"baxis\": {\"gridcolor\": \"white\", \"linecolor\": \"white\", \"ticks\": \"\"}, \"bgcolor\": \"#E5ECF6\", \"caxis\": {\"gridcolor\": \"white\", \"linecolor\": \"white\", \"ticks\": \"\"}}, \"title\": {\"x\": 0.05}, \"xaxis\": {\"automargin\": true, \"gridcolor\": \"white\", \"linecolor\": \"white\", \"ticks\": \"\", \"title\": {\"standoff\": 15}, \"zerolinecolor\": \"white\", \"zerolinewidth\": 2}, \"yaxis\": {\"automargin\": true, \"gridcolor\": \"white\", \"linecolor\": \"white\", \"ticks\": \"\", \"title\": {\"standoff\": 15}, \"zerolinecolor\": \"white\", \"zerolinewidth\": 2}}}, \"title\": {\"text\": \"2020 Urban Population vs. GDP\"}, \"xaxis\": {\"anchor\": \"y\", \"domain\": [0.0, 1.0], \"title\": {\"text\": \"GDP per capita\"}}, \"yaxis\": {\"anchor\": \"x\", \"domain\": [0.0, 1.0], \"title\": {\"text\": \"% of Urban Population\"}}},\n",
              "                        {\"responsive\": true}\n",
              "                    ).then(function(){\n",
              "                            \n",
              "var gd = document.getElementById('76e33d16-cd99-45f7-883e-84cf52751ac1');\n",
              "var x = new MutationObserver(function (mutations, observer) {{\n",
              "        var display = window.getComputedStyle(gd).display;\n",
              "        if (!display || display === 'none') {{\n",
              "            console.log([gd, 'removed!']);\n",
              "            Plotly.purge(gd);\n",
              "            observer.disconnect();\n",
              "        }}\n",
              "}});\n",
              "\n",
              "// Listen for the removal of the full notebook cells\n",
              "var notebookContainer = gd.closest('#notebook-container');\n",
              "if (notebookContainer) {{\n",
              "    x.observe(notebookContainer, {childList: true});\n",
              "}}\n",
              "\n",
              "// Listen for the clearing of the current output cell\n",
              "var outputEl = gd.closest('.output');\n",
              "if (outputEl) {{\n",
              "    x.observe(outputEl, {childList: true});\n",
              "}}\n",
              "\n",
              "                        })\n",
              "                };\n",
              "                \n",
              "            </script>\n",
              "        </div>\n",
              "</body>\n",
              "</html>"
            ]
          },
          "metadata": {}
        }
      ]
    }
  ]
}